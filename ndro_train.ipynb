{
 "cells": [
  {
   "cell_type": "code",
   "execution_count": 2,
   "metadata": {
    "collapsed": true
   },
   "outputs": [],
   "source": [
    "import pandas as pd\n",
    "import numpy as np\n",
    "import matplotlib.pyplot as plt\n",
    "import sklearn as sk"
   ]
  },
  {
   "cell_type": "code",
   "execution_count": 107,
   "metadata": {
    "collapsed": false
   },
   "outputs": [],
   "source": [
    "relax = pd.read_csv(\"Muse Data/chrisrelax.csv\", names = np.arange(0,220))\n",
    "\n",
    "relax = relax.iloc[:,0:110]\n",
    "\n",
    "relax['chan'] = 1\n",
    "relax['chan'] = relax.index.map(lambda x: x % 4 + 1)\n",
    "\n",
    "chan1 = relax.loc[relax['chan'] == 1,].reset_index(drop=True)\n",
    "chan1.columns = np.arange(1000,1111)\n",
    "chan2 = relax.loc[relax['chan'] == 2,].reset_index(drop=True)\n",
    "chan2.columns = np.arange(2000,2111)\n",
    "chan3 = relax.loc[relax['chan'] == 3,].reset_index(drop=True)\n",
    "chan3.columns = np.arange(3000,3111)\n",
    "chan4 = relax.loc[relax['chan'] == 4,].reset_index(drop=True)\n",
    "chan4.columns = np.arange(4000,4111)\n",
    "\n",
    "relax = pd.concat([chan1.iloc[:,0:110], chan2.iloc[:,0:110], chan3.iloc[:,0:110], chan4.iloc[:,0:110]], axis=1, join_axes=[chan1.index])\n",
    "relax['label'] = 'relax'"
   ]
  },
  {
   "cell_type": "code",
   "execution_count": 108,
   "metadata": {
    "collapsed": false
   },
   "outputs": [],
   "source": [
    "focus = pd.read_csv(\"Muse Data/chrisfocus.csv\", names = np.arange(0,220))\n",
    "\n",
    "focus = focus.iloc[:,0:110]\n",
    "\n",
    "focus['chan'] = 1\n",
    "focus['chan'] = focus.index.map(lambda x: x % 4 + 1)\n",
    "\n",
    "chan1 = focus.loc[focus['chan'] == 1,].reset_index(drop=True)\n",
    "chan1.columns = np.arange(1000,1111)\n",
    "chan2 = focus.loc[focus['chan'] == 2,].reset_index(drop=True)\n",
    "chan2.columns = np.arange(2000,2111)\n",
    "chan3 = focus.loc[focus['chan'] == 3,].reset_index(drop=True)\n",
    "chan3.columns = np.arange(3000,3111)\n",
    "chan4 = focus.loc[focus['chan'] == 4,].reset_index(drop=True)\n",
    "chan4.columns = np.arange(4000,4111)\n",
    "\n",
    "focus = pd.concat([chan1.iloc[:,0:110], chan2.iloc[:,0:110], chan3.iloc[:,0:110], chan4.iloc[:,0:110]], axis=1, join_axes=[chan1.index])\n",
    "focus['label'] = 'focus'"
   ]
  },
  {
   "cell_type": "code",
   "execution_count": 139,
   "metadata": {
    "collapsed": false
   },
   "outputs": [],
   "source": [
    "values = pd.concat([relax.iloc[:,0:439], focus.iloc[:,0:439]]).reset_index(drop=True)\n",
    "labels = pd.concat([pd.DataFrame(relax['label']), pd.DataFrame(focus['label'])]).reset_index(drop=True)\n",
    "c, r = labels.shape\n",
    "labels = labels.as_matrix().reshape(c,)"
   ]
  },
  {
   "cell_type": "code",
   "execution_count": 140,
   "metadata": {
    "collapsed": false
   },
   "outputs": [
    {
     "data": {
      "text/plain": [
       "(86,)"
      ]
     },
     "execution_count": 140,
     "metadata": {},
     "output_type": "execute_result"
    }
   ],
   "source": [
    "labels.shape"
   ]
  },
  {
   "cell_type": "code",
   "execution_count": 141,
   "metadata": {
    "collapsed": false
   },
   "outputs": [],
   "source": [
    "from sklearn.model_selection import train_test_split\n",
    "\n",
    "X_train, X_test, y_train, y_test = train_test_split(values,labels,test_size=0.2)"
   ]
  },
  {
   "cell_type": "code",
   "execution_count": 142,
   "metadata": {
    "collapsed": true
   },
   "outputs": [],
   "source": [
    "from sklearn.model_selection import cross_val_score\n",
    "from sklearn import svm\n",
    "def cross_val_svm (X,y,n,kern='rbf'):\n",
    "    clf = svm.SVC(kernel=kern)\n",
    "    scores = cross_val_score(clf, X, y, cv=n)\n",
    "    return scores  "
   ]
  },
  {
   "cell_type": "code",
   "execution_count": 157,
   "metadata": {
    "collapsed": false
   },
   "outputs": [
    {
     "data": {
      "text/plain": [
       "0.67708333333333326"
      ]
     },
     "execution_count": 157,
     "metadata": {},
     "output_type": "execute_result"
    }
   ],
   "source": [
    "cross_val_svm(X_train,y_train,4).mean()"
   ]
  },
  {
   "cell_type": "code",
   "execution_count": 155,
   "metadata": {
    "collapsed": false
   },
   "outputs": [
    {
     "data": {
      "text/plain": [
       "[<matplotlib.lines.Line2D at 0x116318f98>]"
      ]
     },
     "execution_count": 155,
     "metadata": {},
     "output_type": "execute_result"
    },
    {
     "data": {
      "image/png": "[encoded data removed]",
      "text/plain": [
       "<matplotlib.figure.Figure at 0x116251be0>"
      ]
     },
     "metadata": {},
     "output_type": "display_data"
    }
   ],
   "source": [
    "import matplotlib.pyplot as plt\n",
    "%matplotlib inline\n",
    "plt.plot(values.iloc[1,0:110])"
   ]
  },
  {
   "cell_type": "code",
   "execution_count": null,
   "metadata": {
    "collapsed": true
   },
   "outputs": [],
   "source": []
  }
 ],
 "metadata": {
  "kernelspec": {
   "display_name": "Python 3",
   "language": "python",
   "name": "python3"
  },
  "language_info": {
   "codemirror_mode": {
    "name": "ipython",
    "version": 3
   },
   "file_extension": ".py",
   "mimetype": "text/x-python",
   "name": "python",
   "nbconvert_exporter": "python",
   "pygments_lexer": "ipython3",
   "version": "3.6.0"
  }
 },
 "nbformat": 4,
 "nbformat_minor": 2
}
