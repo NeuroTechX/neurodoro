{
 "cells": [
  {
   "cell_type": "code",
   "execution_count": 126,
   "metadata": {
    "collapsed": false
   },
   "outputs": [],
   "source": [
    "import pandas as pd\n",
    "import numpy as np\n",
    "import matplotlib.pyplot as plt\n",
    "import sklearn as sk\n",
    "import tensorflow as tf\n",
    "from sklearn import datasets\n",
    "from sklearn.model_selection import train_test_split\n",
    "from tensorflow.contrib import learn\n",
    "from sklearn.decomposition import PCA"
   ]
  },
  {
   "cell_type": "code",
   "execution_count": 210,
   "metadata": {
    "collapsed": false
   },
   "outputs": [],
   "source": [
    "# Read from CSV where every column = [FFT freq bin]\n",
    "# every row = [epoch 1 (2s): electrode 1, 2, 3, 4] + [epoch 2: electrode 1, 2, 3, 4] + ...\n",
    "#relax = pd.read_csv(\"../Muse Data/josh_relax_apr03_night.csv\", header=0, index_col=False)\n",
    "#focus = pd.read_csv(\"../Muse Data/josh_corvo_task_apr03_night.csv\", header=0, index_col=False)\n",
    "\n",
    "relax = pd.read_csv(\"../Muse Data/dano_watchingtv_apr02.csv\", header=0, index_col=False)\n",
    "focus = pd.read_csv(\"../Muse Data/danofocus_apr02.csv\", header=0, index_col=False)\n",
    "\n",
    "# Chop off irrelevant frequencies\n",
    "relax = relax.iloc[:,1:54]\n",
    "relax = relax.drop('Channel', axis=1)\n",
    "focus = focus.iloc[:,1:54]\n",
    "focus = focus.drop('Channel', axis=1)\n",
    "\n",
    "# Add labels\n",
    "relax['label'] = 0\n",
    "focus['label'] = 1   "
   ]
  },
  {
   "cell_type": "code",
   "execution_count": 211,
   "metadata": {
    "collapsed": false
   },
   "outputs": [],
   "source": [
    "# Combine focus and relax dataframes into a numeric values and complementary labels dataframe\n",
    "# rows = [relax data] + [focus data]\n",
    "\n",
    "values = pd.concat([relax.iloc[:,0:53], focus.iloc[:,0:53]]).reset_index(drop=True)\n",
    "labels = pd.concat([pd.DataFrame(relax['label']), pd.DataFrame(focus['label'])]).reset_index(drop=True)\n",
    "\n",
    "# Convert labels from a dataframe to a 1D matrix\n",
    "#c, r = labels.shape\n",
    "#labels = labels.as_matrix().reshape(c,)\n",
    "\n",
    "# Split values and labels arrays into random train and test subsets (20% set aside for testing)\n",
    "X_train, X_test, y_train, y_test = train_test_split(values,labels,test_size=0.2)\n",
    "X_train = X_train.as_matrix()\n",
    "\n",
    "# Convert labels from a dataframe to a 1D matrix\n",
    "c, r = y_train.shape\n",
    "y_train = y_train.as_matrix().reshape(c,)\n",
    "\n",
    "d, s = y_test.shape\n",
    "y_test = y_test.as_matrix().reshape(d,)\n",
    "\n"
   ]
  },
  {
   "cell_type": "code",
   "execution_count": null,
   "metadata": {
    "collapsed": false,
    "scrolled": false
   },
   "outputs": [
    {
     "name": "stdout",
     "output_type": "stream",
     "text": [
      "Step #100\n",
      "Loss = [ 20.84478378]\n"
     ]
    }
   ],
   "source": [
    "# Create graph\n",
    "sess = tf.Session()\n",
    "\n",
    "# Declare batch size, get some sizes to use\n",
    "batch_size = len(X_train)\n",
    "x_length, x_width = X_train.shape\n",
    "y_length = len(y_train)\n",
    "\n",
    "# Initialize placeholders\n",
    "x_data = tf.placeholder(shape=[None, x_width], dtype=tf.float32)\n",
    "y_target = tf.placeholder(shape=[None, 1], dtype=tf.float32)\n",
    "\n",
    "# Create variables for linear regression\n",
    "A = tf.Variable(tf.random_normal(shape=[x_width, x_length]))\n",
    "b = tf.Variable(tf.random_normal(shape=[1, y_length]))\n",
    "\n",
    "# Declare model operations\n",
    "model_output = tf.subtract(tf.matmul(x_data, A), b)\n",
    "\n",
    "# Declare vector L2 'norm' function squared\n",
    "l2_norm = tf.reduce_sum(tf.square(A))\n",
    "\n",
    "# Declare loss function\n",
    "# Loss = max(0, 1-pred*actual) + alpha * L2_norm(A)^2\n",
    "# L2 regularization parameter, alpha\n",
    "alpha = tf.constant([0.001])\n",
    "# Margin term in loss\n",
    "classification_term = tf.reduce_mean(tf.maximum(0., tf.subtract(1., tf.multiply(model_output, y_target))))\n",
    "# Put terms together\n",
    "loss = tf.add(classification_term, tf.multiply(alpha, l2_norm))\n",
    "\n",
    "# Declare prediction function\n",
    "prediction = tf.sign(model_output)\n",
    "accuracy = tf.reduce_mean(tf.cast(tf.equal(prediction, y_target), tf.float32))\n",
    "\n",
    "# Declare optimizer\n",
    "my_opt = tf.train.AdagradOptimizer(0.1)\n",
    "train_step = my_opt.minimize(loss)\n",
    "\n",
    "# Initialize variables\n",
    "init = tf.global_variables_initializer()\n",
    "sess.run(init)\n",
    "\n",
    "# Training loop\n",
    "loss_vec = []\n",
    "train_accuracy = []\n",
    "test_accuracy = []\n",
    "for i in range(1000):\n",
    "    rand_index = np.random.choice(len(X_train), size=batch_size)\n",
    "    rand_x = X_train[rand_index]\n",
    "    rand_y = np.transpose([y_train[rand_index]])\n",
    "    sess.run(train_step, feed_dict={x_data: rand_x, y_target: rand_y})\n",
    "    \n",
    "    temp_loss = sess.run(loss, feed_dict={x_data: rand_x, y_target: rand_y})\n",
    "    loss_vec.append(temp_loss)\n",
    "    \n",
    "    train_acc_temp = sess.run(accuracy, feed_dict={x_data: X_train, y_target: np.transpose([y_train])})\n",
    "    train_accuracy.append(train_acc_temp)\n",
    "    \n",
    "    test_acc_temp = sess.run(accuracy, feed_dict={x_data: X_test, y_target: np.transpose([y_test])})\n",
    "    test_accuracy.append(test_acc_temp)\n",
    "    \n",
    "    if (i+1)%100==0:\n",
    "        print('Step #' + str(i+1))\n",
    "        print('Loss = ' + str(temp_loss))\n",
    "\n",
    "\n",
    "# Plot train/test accuracies\n",
    "plt.plot(train_accuracy, 'k-', label='Training Accuracy')\n",
    "plt.plot(test_accuracy, 'r--', label='Test Accuracy')\n",
    "plt.title('Train and Test Set Accuracies')\n",
    "plt.xlabel('Generation')\n",
    "plt.ylabel('Accuracy')\n",
    "plt.legend(loc='lower right')\n",
    "plt.show()\n",
    "\n",
    "# Plot loss over time\n",
    "plt.plot(loss_vec, 'k-')\n",
    "plt.title('Loss per Generation')\n",
    "plt.xlabel('Generation')\n",
    "plt.ylabel('Loss')\n",
    "plt.show()"
   ]
  },
  {
   "cell_type": "code",
   "execution_count": null,
   "metadata": {
    "collapsed": true
   },
   "outputs": [],
   "source": []
  }
 ],
 "metadata": {
  "kernelspec": {
   "display_name": "Python 3",
   "language": "python",
   "name": "python3"
  },
  "language_info": {
   "codemirror_mode": {
    "name": "ipython",
    "version": 3
   },
   "file_extension": ".py",
   "mimetype": "text/x-python",
   "name": "python",
   "nbconvert_exporter": "python",
   "pygments_lexer": "ipython3",
   "version": "3.6.0"
  }
 },
 "nbformat": 4,
 "nbformat_minor": 2
}
