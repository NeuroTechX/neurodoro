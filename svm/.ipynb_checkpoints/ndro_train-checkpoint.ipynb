{
 "cells": [
  {
   "cell_type": "code",
   "execution_count": 1,
   "metadata": {
    "collapsed": false
   },
   "outputs": [],
   "source": [
    "import pandas as pd\n",
    "import numpy as np\n",
    "import matplotlib.pyplot as plt\n",
    "import sklearn as sk"
   ]
  },
  {
   "cell_type": "code",
   "execution_count": 2,
   "metadata": {
    "collapsed": false
   },
   "outputs": [],
   "source": [
    "# Read from CSV where every column = [FFT freq bin]\n",
    "# every row = [epoch 1 (2s): electrode 1, 2, 3, 4] + [epoch 2: electrode 1, 2, 3, 4] + ...\n",
    "relax = pd.read_csv(\"../Muse Data/novonarelax.csv\", names = np.arange(0,220))\n",
    "\n",
    "# Cut dataframe in half by selecting only the first 110 rows\n",
    "relax = relax.iloc[:,0:110]\n",
    "\n",
    "# Add a new column named chan\n",
    "relax['chan'] = 1\n",
    "\n",
    "# Iterate through every row, setting chan values to [1,2,3,4] in sequence\n",
    "relax['chan'] = relax.index.map(lambda x: x % 4 + 1)\n",
    "\n",
    "# Seperate data into 4 dataframes, 1 for each electrode\n",
    "chan1 = relax.loc[relax['chan'] == 1,].reset_index(drop=True)\n",
    "chan1.columns = np.arange(1000,1111)\n",
    "chan2 = relax.loc[relax['chan'] == 2,].reset_index(drop=True)\n",
    "chan2.columns = np.arange(2000,2111)\n",
    "chan3 = relax.loc[relax['chan'] == 3,].reset_index(drop=True)\n",
    "chan3.columns = np.arange(3000,3111)\n",
    "chan4 = relax.loc[relax['chan'] == 4,].reset_index(drop=True)\n",
    "chan4.columns = np.arange(4000,4111)\n",
    "\n",
    "# Concat all channel-specific dataframes together so that row = 2s epoch\n",
    "# columns = [electrode 1 FFT bins] + [electrode 2 FFT bins] + ...\n",
    "relax = pd.concat([chan1.iloc[:,0:110], chan2.iloc[:,0:110], chan3.iloc[:,0:110], chan4.iloc[:,0:110]], axis=1, join_axes=[chan1.index])\n",
    "\n",
    "# add a label column with relax for all rows\n",
    "relax['label'] = 'relax'\n"
   ]
  },
  {
   "cell_type": "code",
   "execution_count": 3,
   "metadata": {
    "collapsed": false
   },
   "outputs": [],
   "source": [
    "# Do the exact same thing as above, but for all values in focus data set\n",
    "\n",
    "focus = pd.read_csv(\"../Muse Data/novonafocus.csv\", names = np.arange(0,220))\n",
    "\n",
    "focus = focus.iloc[:,0:110]\n",
    "\n",
    "focus['chan'] = 1\n",
    "focus['chan'] = focus.index.map(lambda x: x % 4 + 1)\n",
    "\n",
    "chan1 = focus.loc[focus['chan'] == 1,].reset_index(drop=True)\n",
    "chan1.columns = np.arange(1000,1111)\n",
    "chan2 = focus.loc[focus['chan'] == 2,].reset_index(drop=True)\n",
    "chan2.columns = np.arange(2000,2111)\n",
    "chan3 = focus.loc[focus['chan'] == 3,].reset_index(drop=True)\n",
    "chan3.columns = np.arange(3000,3111)\n",
    "chan4 = focus.loc[focus['chan'] == 4,].reset_index(drop=True)\n",
    "chan4.columns = np.arange(4000,4111)\n",
    "\n",
    "focus = pd.concat([chan1.iloc[:,0:110], chan2.iloc[:,0:110], chan3.iloc[:,0:110], chan4.iloc[:,0:110]], axis=1, join_axes=[chan1.index])\n",
    "focus['label'] = 'focus'"
   ]
  },
  {
   "cell_type": "code",
   "execution_count": 4,
   "metadata": {
    "collapsed": false,
    "scrolled": true
   },
   "outputs": [],
   "source": [
    "# Combine focus and relax dataframes into a numeric values and complementary labels dataframe\n",
    "# rows = [relax data] + [focus data]\n",
    "values = pd.concat([relax.iloc[:,0:439], focus.iloc[:,0:439]]).reset_index(drop=True)\n",
    "labels = pd.concat([pd.DataFrame(relax['label']), pd.DataFrame(focus['label'])]).reset_index(drop=True)\n",
    "\n",
    "# Convert labels from a Vector? to a 1D matrix\n",
    "c, r = labels.shape\n",
    "labels = labels.as_matrix().reshape(c,)"
   ]
  },
  {
   "cell_type": "code",
   "execution_count": 5,
   "metadata": {
    "collapsed": false
   },
   "outputs": [],
   "source": [
    "# model_selection only available in newest sklearn version?\n",
    "from sklearn.cross_validation import train_test_split\n",
    "\n",
    "# Split values and labels arrays into random train and test subsets (20% set aside for testing)\n",
    "X_train, X_test, y_train, y_test = train_test_split(values,labels,test_size=0.2)"
   ]
  },
  {
   "cell_type": "code",
   "execution_count": 6,
   "metadata": {
    "collapsed": false
   },
   "outputs": [],
   "source": [
    "from sklearn.cross_validation import cross_val_score\n",
    "from sklearn import svm\n",
    "from sklearn.naive_bayes import GaussianNB\n",
    "\n",
    "# Creates an rbf kernel SVM and gets the cross validation score\n",
    "def cross_val_svm (X,y,n,kern='rbf'):\n",
    "    clf = svm.SVC(kernel=kern)\n",
    "    scores = cross_val_score(clf, X, y, cv=n)\n",
    "    return scores  \n",
    "\n",
    "def cross_val_gnb (X,y,n):\n",
    "    clf = GaussianNB()\n",
    "    scores = cross_val_score(clf, X, y, cv=n)\n",
    "    return scores\n",
    "    "
   ]
  },
  {
   "cell_type": "code",
   "execution_count": 7,
   "metadata": {
    "collapsed": false
   },
   "outputs": [
    {
     "name": "stdout",
     "output_type": "stream",
     "text": [
      "0.545454545455\n"
     ]
    }
   ],
   "source": [
    "# Show the mean cross val score across 4 different tests\n",
    "print(cross_val_gnb(X_train,y_train,4).mean())"
   ]
  },
  {
   "cell_type": "code",
   "execution_count": 8,
   "metadata": {
    "collapsed": false,
    "scrolled": false
   },
   "outputs": [
    {
     "data": {
      "text/plain": [
       "[<matplotlib.lines.Line2D at 0x7f009a0acd30>]"
      ]
     },
     "execution_count": 8,
     "metadata": {},
     "output_type": "execute_result"
    },
    {
     "data": {
      "image/png": "[encoded data removed]",
      "text/plain": [
       "<matplotlib.figure.Figure at 0x7f009c07c2e8>"
      ]
     },
     "metadata": {},
     "output_type": "display_data"
    }
   ],
   "source": [
    "import matplotlib.pyplot as plt\n",
    "%matplotlib inline\n",
    "\n",
    "# Plot one of the epoch PSDs to make sure we're not running SVM on crazy bidness\n",
    "plt.plot(values.iloc[1,0:110])"
   ]
  },
  {
   "cell_type": "markdown",
   "metadata": {
    "collapsed": true
   },
   "source": [
    "# Results\n",
    "\n",
    "## SVM\n",
    "- Chris: .63\n",
    "- Josh: .625\n",
    "- Dano: .46\n",
    "- Novona: .69\n",
    "\n",
    "## Gaussian Naive Bayes\n",
    "- Chris: .43\n",
    "- Josh: .43\n",
    "- Dano: .19 :o\n",
    "- Novona: .54\n",
    "Not too good :s\n"
   ]
  }
 ],
 "metadata": {
  "anaconda-cloud": {},
  "kernelspec": {
   "display_name": "Python [Root]",
   "language": "python",
   "name": "Python [Root]"
  },
  "language_info": {
   "codemirror_mode": {
    "name": "ipython",
    "version": 3
   },
   "file_extension": ".py",
   "mimetype": "text/x-python",
   "name": "python",
   "nbconvert_exporter": "python",
   "pygments_lexer": "ipython3",
   "version": "3.5.2"
  }
 },
 "nbformat": 4,
 "nbformat_minor": 2
}
