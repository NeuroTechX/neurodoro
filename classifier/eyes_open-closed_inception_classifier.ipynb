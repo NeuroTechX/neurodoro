{
 "cells": [
  {
   "cell_type": "markdown",
   "metadata": {},
   "source": [
    "# A Basic EEG classifier with Inception\n",
    "## Goals\n",
    "1. Collect Corvo data from one user, perhaps from just one long session so the electrodes are in the same position.\n",
    "2. Break data into short epochs (2s?)\n",
    "3. Convert each epoch into a spectrogram (sounds like we can just convert it into a matrix  instead of an actual jpeg)\n",
    "4. Label each epoch with its associated current Corvo performance score\n",
    "5. Feed to Inception (I have a big GPU that might help here) https://www.youtube.com/watch?v=cSKfRcEDGUs\n",
    "6. Test"
   ]
  },
  {
   "cell_type": "markdown",
   "metadata": {},
   "source": [
    "## Getting data to retrain Inception"
   ]
  },
  {
   "cell_type": "code",
   "execution_count": 1,
   "metadata": {
    "collapsed": true
   },
   "outputs": [],
   "source": [
    "import pandas as pd\n",
    "import numpy as np\n",
    "import scipy.stats as stats\n",
    "import scipy.signal as signal\n",
    "import matplotlib.pyplot as plt\n",
    "import sklearn as sk\n",
    "import tensorflow as tf\n",
    "from tensorflow.contrib import learn\n",
    "\n",
    "EPOCH_LENGTH = 440\n",
    "VARIANCE_THRESHOLD = 550"
   ]
  },
  {
   "cell_type": "code",
   "execution_count": 2,
   "metadata": {
    "collapsed": false
   },
   "outputs": [],
   "source": [
    "# Data has been collected, let's import it\n",
    "\n",
    "open_data = pd.read_csv(\"../Muse Data/DanoThursdayOpenFilteredEEG0.csv\", header=0, index_col=False)\n",
    "closed_data = pd.read_csv(\"../Muse Data/DanoThursdayClosedFilteredEEG0.csv\", header=0, index_col=False)"
   ]
  },
  {
   "cell_type": "code",
   "execution_count": 3,
   "metadata": {
    "collapsed": false
   },
   "outputs": [],
   "source": [
    "# Drop difficulty, timestamp, and performance columns since we're not using them\n",
    "\n",
    "open_data = open_data.drop(['Difficulty', 'Performance', 'Timestamp (ms)'], axis=1)\n",
    "closed_data = closed_data.drop(['Difficulty', 'Performance', 'Timestamp (ms)'], axis=1)\n",
    "\n",
    "\n",
    "# Prune rows from tail of datasets so that they are all divisible by 440 (the desired size of our epochs)\n",
    "\n",
    "open_overflow = open_data.shape[0] % EPOCH_LENGTH\n",
    "open_data = open_data[0:-open_overflow]\n",
    "closed_overflow = closed_data.shape[0] % EPOCH_LENGTH\n",
    "closed_data = closed_data[0:-closed_overflow]"
   ]
  },
  {
   "cell_type": "code",
   "execution_count": 4,
   "metadata": {
    "collapsed": false
   },
   "outputs": [
    {
     "data": {
      "text/plain": [
       "(171, 440, 4)"
      ]
     },
     "execution_count": 4,
     "metadata": {},
     "output_type": "execute_result"
    }
   ],
   "source": [
    "# Split DataFrames into many different dataframes 440 samples long\n",
    "\n",
    "split_open_data = np.stack(np.array_split(open_data, EPOCH_LENGTH), axis=1)\n",
    "split_closed_data = np.stack(np.array_split(closed_data, EPOCH_LENGTH), axis=1)\n",
    "\n",
    "# Transform data into a 3D pandas Panel ( n epochs x 4 channels x 440 samples )\n",
    "\n",
    "open_panel = pd.Panel(split_open_data)\n",
    "closed_panel = pd.Panel(split_closed_data)\n",
    "\n",
    "\n",
    "open_panel.shape\n"
   ]
  },
  {
   "cell_type": "code",
   "execution_count": 5,
   "metadata": {
    "collapsed": false
   },
   "outputs": [
    {
     "name": "stdout",
     "output_type": "stream",
     "text": [
      "variance  1042.9974673981144  at electrode  0  frame  0\n",
      "variance  1694.5868362708516  at electrode  0  frame  1\n",
      "variance  762.8428367159231  at electrode  0  frame  2\n",
      "variance  623.187061677244  at electrode  0  frame  3\n",
      "variance  644.952203485154  at electrode  0  frame  4\n",
      "variance  576.6425032021102  at electrode  0  frame  5\n",
      "variance  614.6960012034041  at electrode  3  frame  6\n",
      "variance  1664.1031089763387  at electrode  0  frame  0\n",
      "variance  2455.7311567332576  at electrode  0  frame  1\n",
      "variance  1296.4901120327738  at electrode  0  frame  2\n",
      "variance  1135.0026579500825  at electrode  0  frame  3\n",
      "variance  1046.15211756854  at electrode  0  frame  4\n",
      "variance  754.9794824248777  at electrode  0  frame  5\n",
      "variance  609.4772664596385  at electrode  0  frame  18\n",
      "variance  624.5528823122329  at electrode  0  frame  19\n",
      "variance  622.1979068368727  at electrode  0  frame  20\n",
      "variance  626.3141255026266  at electrode  0  frame  21\n",
      "variance  633.2038200889674  at electrode  0  frame  22\n",
      "variance  629.0559072795189  at electrode  0  frame  23\n",
      "variance  590.6225755737375  at electrode  0  frame  24\n",
      "variance  582.2607332620947  at electrode  0  frame  25\n",
      "variance  661.0710703693675  at electrode  3  frame  26\n",
      "variance  660.1552108847568  at electrode  3  frame  27\n",
      "variance  576.5338450513956  at electrode  0  frame  28\n",
      "variance  604.004338767918  at electrode  0  frame  29\n",
      "variance  603.94123767893  at electrode  0  frame  30\n",
      "variance  589.4282346668821  at electrode  0  frame  31\n",
      "variance  566.1383375936151  at electrode  0  frame  32\n",
      "variance  559.5539137501223  at electrode  0  frame  33\n",
      "variance  647.2947549495082  at electrode  3  frame  34\n",
      "variance  591.82034791864  at electrode  3  frame  35\n",
      "variance  561.3309877191444  at electrode  3  frame  93\n",
      "variance  574.9877613974826  at electrode  3  frame  94\n",
      "variance  580.3476623440158  at electrode  3  frame  95\n",
      "variance  558.4967199388701  at electrode  3  frame  96\n"
     ]
    }
   ],
   "source": [
    "# Remove epochs with too much variance\n",
    "\n",
    "def removeNoise(panel):\n",
    "    for frameIndex in panel:\n",
    "        for columnIndex in panel[frameIndex]:\n",
    "            if np.var(panel[frameIndex][columnIndex]) > VARIANCE_THRESHOLD:\n",
    "                print('variance ', np.var(panel[frameIndex][columnIndex]), ' at electrode ', columnIndex, ' frame ', frameIndex)\n",
    "                panel = panel.drop(frameIndex)\n",
    "                break\n",
    "    return panel\n",
    "\n",
    "closed_panel = removeNoise(closed_panel)\n",
    "\n",
    "open_panel = removeNoise(open_panel)\n"
   ]
  },
  {
   "cell_type": "code",
   "execution_count": 15,
   "metadata": {
    "collapsed": false
   },
   "outputs": [
    {
     "data": {
      "text/plain": [
       "<function matplotlib.pyplot.show>"
      ]
     },
     "execution_count": 15,
     "metadata": {},
     "output_type": "execute_result"
    },
    {
     "data": {
      "image/png": "[encoded data removed]",
      "text/plain": [
       "<matplotlib.figure.Figure at 0x7f5fcca29ac8>"
      ]
     },
     "metadata": {},
     "output_type": "display_data"
    }
   ],
   "source": [
    "# Let's a take a look at what this kind of data looks like\n",
    "\n",
    "%matplotlib inline \n",
    "\n",
    "plt.figure()\n",
    "\n",
    "plt.subplot(2,2,1)\n",
    "plt.specgram(closed_panel[30][0], NFFT=256, Fs=220, noverlap=198)\n",
    "\n",
    "\n",
    "plt.subplot(2,2,2)\n",
    "plt.specgram(closed_panel[30][1], NFFT=256, Fs=220, noverlap=198)\n",
    "\n",
    "\n",
    "plt.subplot(2,2,3)\n",
    "plt.specgram(closed_panel[30][2], NFFT=256, Fs=220, noverlap=198)\n",
    "\n",
    "\n",
    "plt.subplot(2,2,4)\n",
    "plt.specgram(closed_panel[30][3], NFFT=256, Fs=220, noverlap=198)\n",
    "\n",
    "\n",
    "plt.show\n"
   ]
  },
  {
   "cell_type": "code",
   "execution_count": 12,
   "metadata": {
    "collapsed": false
   },
   "outputs": [
    {
     "name": "stderr",
     "output_type": "stream",
     "text": [
      "/home/dano/anaconda3/lib/python3.5/site-packages/matplotlib/pyplot.py:516: RuntimeWarning: More than 20 figures have been opened. Figures created through the pyplot interface (`matplotlib.pyplot.figure`) are retained until explicitly closed and may consume too much memory. (To control this warning, see the rcParam `figure.max_open_warning`).\n",
      "  max_open_warning, RuntimeWarning)\n"
     ]
    }
   ],
   "source": [
    "# Plot spectograms of all 4 channels and save them to the local folder\n",
    "\n",
    "def plotAndSave(frame, filename):\n",
    "    plt.figure()\n",
    "    plt.subplots_adjust(wspace=0, hspace=0)\n",
    "    plt.subplot(2,2,1)\n",
    "    plt.specgram(frame[0], NFFT=256, Fs=220, noverlap=198)\n",
    "    plt.ylim(0,55)\n",
    "    plt.axis('off')\n",
    "    plt.subplot(2,2,2)\n",
    "    plt.specgram(frame[1], NFFT=256, Fs=220, noverlap=198)\n",
    "    plt.ylim(0,55)\n",
    "    plt.axis('off')\n",
    "    plt.subplot(2,2,3)\n",
    "    plt.specgram(frame[2], NFFT=256, Fs=220, noverlap=198)\n",
    "    plt.ylim(0,55)\n",
    "    plt.axis('off')\n",
    "    plt.subplot(2,2,4)\n",
    "    plt.specgram(frame[3], NFFT=256, Fs=220, noverlap=198)\n",
    "    plt.ylim(0,55)\n",
    "    plt.axis('off')\n",
    "    plt.savefig('%s.jpg' % filename, pad_inches=0, bbox_inches='tight')\n",
    "    \n",
    "for frameIndex in open_panel:\n",
    "    plotAndSave(open_panel[frameIndex], 'open%s' % frameIndex)\n",
    "\n",
    "for frameIndex in closed_panel:\n",
    "    plotAndSave(closed_panel[frameIndex], 'closed%s' % frameIndex)\n",
    "    "
   ]
  },
  {
   "cell_type": "markdown",
   "metadata": {},
   "source": [
    "Questions to answer before continuing:\n",
    "- Do these spectrograms look alright?\n",
    "- Shouldn't the axis go all the way to 2 if there are 440 samples at 220hz sampling rate?\n",
    "    - Spectrograms always leave out a little bit of data because the window might not line up to the lenght of the sample perfectly. I've increased the amount of data we get by changing the overlap to 198, which works well with our 220hz sampling rate\n"
   ]
  },
  {
   "cell_type": "markdown",
   "metadata": {
    "collapsed": false
   },
   "source": [
    "## Retraining Inception\n",
    "\n",
    "1. Outside of this notebook, follow the steps in this tutorial to install Docker and a Tensorflow image https://codelabs.developers.google.com/codelabs/tensorflow-for-poets/#4\n",
    "\n",
    "2. Copy the images produced by the above scripts into an 'open' and 'closed' folder in a directory in your homedir\n",
    "\n",
    "3. Run this code to link this example folder to your Docker container\n",
    "`sudo docker run -it -v /home/$yourname$/tf_files:/examples gcr.io/tensorflow/tensorflow:latest-devel`\n",
    "\n",
    "4. With docker open and your folder linked, run this script to retrain inception on these new images\n",
    "```\n",
    "python tensorflow/examples/image_retraining/retrain.py \\\n",
    "--bottleneck_dir=/home/$yourname$/tf_files/bottlenecks \\\n",
    "--how_many_training_steps 500 \\\n",
    "--model_dir=/home/$yourname$/tf_files/inception \\\n",
    "--output_graph=/home/$yourname$/tf_files/retrained_graph.pb \\\n",
    "--output_labels=/home/$yourname$/tf_files//retrained_labels.tx \\\n",
    "--image_dir /home/$yourname$/tf_files/examples\n",
    "```\n",
    "\n",
    "\n"
   ]
  },
  {
   "cell_type": "markdown",
   "metadata": {
    "collapsed": false
   },
   "source": [
    "## Testing retraining accuracy\n",
    "\n",
    "1. Follow the steps in this tutorial and run label_image.py\n",
    "https://codelabs.developers.google.com/codelabs/tensorflow-for-poets/#4"
   ]
  },
  {
   "cell_type": "code",
   "execution_count": null,
   "metadata": {
    "collapsed": true
   },
   "outputs": [],
   "source": []
  }
 ],
 "metadata": {
  "anaconda-cloud": {},
  "kernelspec": {
   "display_name": "Python [Root]",
   "language": "python",
   "name": "Python [Root]"
  },
  "language_info": {
   "codemirror_mode": {
    "name": "ipython",
    "version": 3
   },
   "file_extension": ".py",
   "mimetype": "text/x-python",
   "name": "python",
   "nbconvert_exporter": "python",
   "pygments_lexer": "ipython3",
   "version": "3.5.2"
  }
 },
 "nbformat": 4,
 "nbformat_minor": 0
}
