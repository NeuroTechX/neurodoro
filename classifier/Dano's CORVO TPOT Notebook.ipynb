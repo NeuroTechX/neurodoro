{
 "cells": [
  {
   "cell_type": "markdown",
   "metadata": {},
   "source": [
    "# Dano's CORVO & TPOT  notebook\n",
    "\n",
    "In this notebook, I will try and use TPOT to asses what traditional ML algorithms would be useful to predict cognitive performance from EEG data in Neurodoro"
   ]
  },
  {
   "cell_type": "code",
   "execution_count": 1,
   "metadata": {
    "collapsed": true
   },
   "outputs": [],
   "source": [
    "import pandas as pd\n",
    "import numpy as np\n",
    "import matplotlib.pyplot as plt\n",
    "import sklearn as sk\n",
    "from os import walk\n",
    "from os import listdir\n",
    "from os.path import isfile, join\n",
    "from sklearn.model_selection import train_test_split\n",
    "from tpot import TPOTRegressor\n",
    "from math import sqrt"
   ]
  },
  {
   "cell_type": "code",
   "execution_count": 2,
   "metadata": {
    "collapsed": true
   },
   "outputs": [],
   "source": [
    "EPOCH_LENGTH = 440 # 2 seconds"
   ]
  },
  {
   "cell_type": "code",
   "execution_count": 3,
   "metadata": {},
   "outputs": [
    {
     "data": {
      "text/plain": [
       "<bound method NDFrame.describe of       Timestamp (ms)  Difficulty  Performance  Channel      1 hz      2 hz  \\\n",
       "0      1500407595145          50           58        1  0.203894  0.265408   \n",
       "1      1500407595146          50           58        2  0.144908  0.253136   \n",
       "2      1500407595147          50           58        3  0.209019  0.223523   \n",
       "3      1500407595149          50           58        4  0.266174  0.322122   \n",
       "4      1500407596198          50           58        1  0.451136  0.521928   \n",
       "5      1500407596199          50           58        2  0.351965  0.482744   \n",
       "6      1500407596200          50           58        3  0.352717  0.427665   \n",
       "7      1500407596201          50           58        4  0.525455  0.593997   \n",
       "8      1500407597224          48           60        1  0.648998  0.787281   \n",
       "9      1500407597225          48           60        2  0.516387  0.727680   \n",
       "10     1500407597225          48           60        3  0.532636  0.616935   \n",
       "11     1500407597226          48           60        4  0.764163  0.850750   \n",
       "12     1500407601290          36           67        1  0.875354  1.053613   \n",
       "13     1500407601291          36           67        2  0.721412  0.996991   \n",
       "14     1500407601292          36           67        3  0.768705  0.859381   \n",
       "15     1500407601293          36           67        4  1.025432  1.123755   \n",
       "16     1500407606402          53           69        1  1.103032  1.325009   \n",
       "17     1500407606405          53           69        2  0.887535  1.170219   \n",
       "18     1500407606407          53           69        3  0.885864  1.064044   \n",
       "19     1500407606408          53           69        4  1.215248  1.379781   \n",
       "20     1500407607449          53           69        1  1.250174  1.613129   \n",
       "21     1500407607450          53           69        2  1.061578  1.386074   \n",
       "22     1500407607451          53           69        3  1.025487  1.289581   \n",
       "23     1500407607451          53           69        4  1.454959  1.656628   \n",
       "24     1500407608458          61           63        1  1.445492  1.875732   \n",
       "25     1500407608459          61           63        2  1.248957  1.615704   \n",
       "26     1500407608461          61           63        3  1.164033  1.555153   \n",
       "27     1500407608461          61           63        4  1.718002  1.931872   \n",
       "28     1500407609485          61           63        1  1.634421  2.103275   \n",
       "29     1500407609485          61           63        2  1.396655  1.754028   \n",
       "...              ...         ...          ...      ...       ...       ...   \n",
       "1322   1500407982242           0           45        3  3.075764  3.922653   \n",
       "1323   1500407982243           0           45        4  3.544393  4.147613   \n",
       "1324   1500407983251           0           45        1  3.860983  4.834510   \n",
       "1325   1500407983252           0           45        2  3.145121  3.853167   \n",
       "1326   1500407983252           0           45        3  3.091711  3.940141   \n",
       "1327   1500407983254           0           45        4  3.597255  4.157805   \n",
       "1328   1500407984302           0           31        1  3.887723  4.949946   \n",
       "1329   1500407984303           0           31        2  3.138519  3.847173   \n",
       "1330   1500407984304           0           31        3  3.182941  3.947996   \n",
       "1331   1500407984306           0           31        4  3.588239  4.165097   \n",
       "1332   1500407985329           0           31        1  3.890421  4.984443   \n",
       "1333   1500407985331           0           31        2  3.154938  3.919921   \n",
       "1334   1500407985332           0           31        3  3.272016  3.983956   \n",
       "1335   1500407985333           0           31        4  3.604736  4.182894   \n",
       "1336   1500407986337           0           31        1  3.886806  4.999866   \n",
       "1337   1500407986339           0           31        2  3.032466  3.868754   \n",
       "1338   1500407986340           0           31        3  3.396186  3.999453   \n",
       "1339   1500407986341           0           31        4  3.626737  4.145150   \n",
       "1340   1500407987395           0           31        1  3.850369  4.876780   \n",
       "1341   1500407987396           0           31        2  3.035723  3.911533   \n",
       "1342   1500407987397           0           31        3  3.323068  3.984052   \n",
       "1343   1500407987398           0           31        4  3.608722  4.194162   \n",
       "1344   1500407990427           0           31        1  3.827429  4.884782   \n",
       "1345   1500407990429           0           31        2  2.897572  3.859928   \n",
       "1346   1500407990432           0           31        3  3.451026  4.096670   \n",
       "1347   1500407990433           0           31        4  3.654589  4.278509   \n",
       "1348   1500407991456           0           31        1  3.668924  4.835683   \n",
       "1349   1500407991458           0           31        2  2.904103  3.828706   \n",
       "1350   1500407991459           0           31        3  3.487012  4.105898   \n",
       "1351   1500407991460           0           31        4  3.616881  4.275818   \n",
       "\n",
       "          3 hz      4 hz      5 hz      6 hz    ...       119 hz    120 hz  \\\n",
       "0     0.250897  0.234435  0.203911  0.236278    ...     0.122397  0.085605   \n",
       "1     0.227198  0.217830  0.220107  0.186199    ...     0.049336  0.040331   \n",
       "2     0.215946  0.190658  0.193465  0.181935    ...     0.059465  0.046966   \n",
       "3     0.295296  0.270739  0.306547  0.284006    ...     0.084401  0.044111   \n",
       "4     0.495654  0.426704  0.409790  0.398736    ...     0.160067  0.167186   \n",
       "5     0.450897  0.368685  0.337991  0.354777    ...     0.095773  0.104824   \n",
       "6     0.405082  0.356903  0.245208  0.342566    ...     0.109915  0.099598   \n",
       "7     0.552015  0.518133  0.559626  0.550754    ...     0.167484  0.080919   \n",
       "8     0.728230  0.608333  0.635435  0.629593    ...     0.224519  0.220139   \n",
       "9     0.661328  0.529908  0.505861  0.537681    ...     0.153152  0.037025   \n",
       "10    0.609001  0.575283  0.447672  0.508137    ...     0.138166  0.106104   \n",
       "11    0.816695  0.785967  0.793285  0.801875    ...     0.220102  0.140562   \n",
       "12    1.003366  0.859846  0.823984  0.829754    ...     0.268084  0.196381   \n",
       "13    0.895607  0.764014  0.721438  0.656456    ...     0.160369  0.078607   \n",
       "14    0.815575  0.768906  0.604646  0.659202    ...     0.168059  0.061788   \n",
       "15    1.065357  1.003875  1.010498  0.982930    ...     0.268185  0.136864   \n",
       "16    1.183230  1.071804  1.060861  0.995170    ...     0.252539  0.274146   \n",
       "17    1.098570  0.968496  0.915679  0.814312    ...     0.210301  0.154919   \n",
       "18    0.995835  0.937398  0.807414  0.831337    ...     0.168758  0.006111   \n",
       "19    1.282156  1.227271  1.227801  1.233831    ...     0.336543  0.194959   \n",
       "20    1.434089  1.284062  1.291728  1.217435    ...     0.322486  0.323076   \n",
       "21    1.313216  1.167040  1.068713  0.971992    ...     0.243511  0.203679   \n",
       "22    1.189351  1.145195  1.013696  1.026240    ...     0.151246  0.028702   \n",
       "23    1.508371  1.482108  1.466796  1.456704    ...     0.400272  0.255168   \n",
       "24    1.694339  1.499223  1.515927  1.449316    ...     0.367297  0.393307   \n",
       "25    1.547344  1.383555  1.268772  1.178876    ...     0.222384  0.205715   \n",
       "26    1.449204  1.376304  1.198265  1.238834    ...     0.162403  0.074671   \n",
       "27    1.761437  1.720316  1.729908  1.719055    ...     0.479302  0.282773   \n",
       "28    1.898433  1.730852  1.728410  1.668518    ...     0.452503  0.472364   \n",
       "29    1.755859  1.565526  1.477464  1.376934    ...     0.241923  0.210172   \n",
       "...        ...       ...       ...       ...    ...          ...       ...   \n",
       "1322  3.838594  3.866604  3.652011  3.407231    ...     0.904119  0.945437   \n",
       "1323  4.296963  4.311492  3.992371  3.760429    ...     1.118179  1.300954   \n",
       "1324  4.493489  4.422354  4.321968  4.139002    ...     1.284559  1.360644   \n",
       "1325  3.653632  3.720618  3.701725  3.648218    ...     0.778201  0.832622   \n",
       "1326  3.842499  3.824199  3.620007  3.408808    ...     0.937782  0.955045   \n",
       "1327  4.322358  4.303789  3.944777  3.797453    ...     1.100030  1.290359   \n",
       "1328  4.585792  4.502233  4.378747  4.177207    ...     1.207699  1.367543   \n",
       "1329  3.675617  3.684555  3.690984  3.683479    ...     0.727080  0.775977   \n",
       "1330  3.759418  3.810549  3.617339  3.428964    ...     0.994351  0.940858   \n",
       "1331  4.354228  4.344263  3.978504  3.795511    ...     1.118670  1.297197   \n",
       "1332  4.637263  4.501638  4.404398  4.198474    ...     1.233239  1.368548   \n",
       "1333  3.624477  3.673907  3.639661  3.638716    ...     0.737263  0.760552   \n",
       "1334  3.751135  3.761629  3.643162  3.456264    ...     0.983781  0.898236   \n",
       "1335  4.362109  4.366626  4.049582  3.901221    ...     1.055754  1.258199   \n",
       "1336  4.607076  4.466718  4.377116  4.230414    ...     1.235068  1.336379   \n",
       "1337  3.745700  3.723127  3.638411  3.606674    ...     0.757823  0.758272   \n",
       "1338  3.734587  3.735454  3.653657  3.445908    ...     0.997936  0.867667   \n",
       "1339  4.369476  4.313142  4.110882  3.920111    ...     1.103614  1.217577   \n",
       "1340  4.565602  4.453282  4.304697  4.204751    ...     1.152333  1.226013   \n",
       "1341  3.812070  3.777570  3.669536  3.596953    ...     0.752533  0.787121   \n",
       "1342  3.775981  3.770425  3.634979  3.466930    ...     0.963131  0.877588   \n",
       "1343  4.351877  4.285948  4.074902  3.878777    ...     1.223901  1.308137   \n",
       "1344  4.582660  4.494889  4.346882  4.271036    ...     1.208906  1.285796   \n",
       "1345  3.823075  3.773776  3.631809  3.580390    ...     0.764094  0.782237   \n",
       "1346  3.773583  3.808019  3.706450  3.440507    ...     1.001243  0.918368   \n",
       "1347  4.500819  4.329348  4.118487  3.919989    ...     1.220683  1.261980   \n",
       "1348  4.609317  4.528669  4.357154  4.227054    ...     1.225944  1.296838   \n",
       "1349  3.768116  3.881754  3.643028  3.600157    ...     0.799164  0.744607   \n",
       "1350  3.781286  3.761018  3.732405  3.422014    ...     0.991819  0.891764   \n",
       "1351  4.545170  4.332955  4.095921  3.824894    ...     1.322263  1.286811   \n",
       "\n",
       "        121 hz    122 hz    123 hz    124 hz    125 hz    126 hz    127 hz  \\\n",
       "0     0.072380  0.040030  0.071248  0.047901  0.058495  0.017562  0.073106   \n",
       "1     0.024719  0.059685  0.037500  0.044272 -0.017434  0.052283  0.033282   \n",
       "2     0.017538  0.024160  0.020315  0.033569  0.048424  0.032814  0.043221   \n",
       "3     0.064921  0.029964  0.078998  0.049794  0.080581 -0.008966  0.078894   \n",
       "4     0.132547  0.109071  0.069816  0.080916  0.102353  0.024323  0.117468   \n",
       "5     0.086642  0.096565  0.074602  0.109833  0.012268  0.050707  0.014380   \n",
       "6     0.054096  0.039448  0.058140  0.065257  0.026960  0.059873  0.078769   \n",
       "7     0.146823  0.032804  0.101974  0.082238  0.105054  0.043507  0.128313   \n",
       "8     0.187990  0.178464  0.163231  0.139829  0.107312  0.069666  0.132531   \n",
       "9     0.111729  0.134808  0.118370  0.179804  0.061088  0.057231  0.026309   \n",
       "10    0.100499  0.099281  0.116708  0.036288  0.077219  0.115509  0.120644   \n",
       "11    0.193816  0.088888  0.167980  0.074311  0.168759  0.095146  0.157587   \n",
       "12    0.219156  0.235981  0.225784  0.119203  0.160864  0.120042  0.145355   \n",
       "13    0.171161  0.135985  0.158379  0.205238  0.086125  0.064326  0.045949   \n",
       "14    0.117299  0.127954  0.123010  0.060824  0.101719  0.127654  0.137546   \n",
       "15    0.278282  0.128963  0.199977  0.102647  0.155279  0.158792  0.192343   \n",
       "16    0.296660  0.311123  0.294601  0.169122  0.232333  0.157150  0.185623   \n",
       "17    0.202026  0.169178  0.187275  0.261379  0.125857  0.073584  0.049552   \n",
       "18    0.114062  0.142695  0.157103  0.084100  0.124666  0.120202  0.090142   \n",
       "19    0.357653  0.202411  0.261250  0.132657  0.215919  0.197803  0.234621   \n",
       "20    0.355967  0.354011  0.317973  0.241110  0.290519  0.127599  0.203216   \n",
       "21    0.212353  0.200311  0.209024  0.244874  0.130667  0.029995  0.049937   \n",
       "22    0.149366  0.191756  0.139310  0.138358  0.190420  0.122855  0.113226   \n",
       "23    0.421093  0.230979  0.318351  0.190214  0.216926  0.244286  0.306281   \n",
       "24    0.450545  0.429198  0.338487  0.296262  0.308827  0.087785  0.231194   \n",
       "25    0.251056  0.255765  0.266225  0.280861  0.140711  0.050526  0.077650   \n",
       "26    0.181975  0.200670  0.125957  0.147909  0.194318  0.163978  0.144468   \n",
       "27    0.427899  0.299163  0.359182  0.220735  0.196315  0.264896  0.344422   \n",
       "28    0.510522  0.478080  0.423611  0.356340  0.364299  0.088306  0.242174   \n",
       "29    0.250475  0.262590  0.304787  0.296617  0.200455  0.098355  0.106726   \n",
       "...        ...       ...       ...       ...       ...       ...       ...   \n",
       "1322  0.820846  0.857611  0.580163  0.181074  0.367063  0.462558  0.461764   \n",
       "1323  1.062614  0.757537  0.940351  0.869812  0.560942  0.697174  0.433596   \n",
       "1324  1.115334  0.805297  0.804027  0.903855  0.982163  0.717589  0.641915   \n",
       "1325  0.754824  0.634589  0.659493  0.568504  0.363297  0.289261 -0.144565   \n",
       "1326  0.791471  0.837949  0.566104  0.146084  0.420249  0.470366  0.451196   \n",
       "1327  1.063432  0.800478  0.961299  0.865053  0.577617  0.653014  0.363563   \n",
       "1328  1.183053  0.908625  0.880909  0.892193  0.927823  0.702670  0.612292   \n",
       "1329  0.820294  0.627006  0.659219  0.507514  0.360630  0.317644 -0.074245   \n",
       "1330  0.776424  0.834818  0.581645  0.186783  0.481818  0.506797  0.451353   \n",
       "1331  1.115159  0.734835  0.949223  0.866087  0.599479  0.571202  0.412104   \n",
       "1332  1.152279  0.925449  0.921323  0.885909  0.884917  0.730352  0.666961   \n",
       "1333  0.795582  0.660538  0.690568  0.506206  0.355334  0.326828 -0.011244   \n",
       "1334  0.783813  0.864985  0.543923  0.234801  0.453709  0.447356  0.393156   \n",
       "1335  1.063822  0.690210  0.912517  0.816015  0.549003  0.564915  0.588081   \n",
       "1336  1.191199  0.949780  0.880413  0.913026  0.855036  0.732765  0.715148   \n",
       "1337  0.798492  0.654924  0.726774  0.505504  0.314713  0.307946  0.023702   \n",
       "1338  0.779119  0.922662  0.571752  0.281130  0.518120  0.528648  0.419219   \n",
       "1339  1.051326  0.684730  0.900824  0.824373  0.552374  0.505773  0.563034   \n",
       "1340  1.258832  0.915212  0.817059  0.887776  0.796490  0.790845  0.711654   \n",
       "1341  0.838521  0.690053  0.764065  0.528473  0.314629  0.316014  0.048851   \n",
       "1342  0.794136  0.943750  0.554254  0.235976  0.508782  0.535074  0.400451   \n",
       "1343  1.105784  0.686521  0.847757  0.705244  0.541780  0.487889  0.523852   \n",
       "1344  1.257950  0.911755  0.813140  0.826889  0.761329  0.770267  0.682733   \n",
       "1345  0.855486  0.708322  0.790597  0.536462  0.351494  0.316832  0.135190   \n",
       "1346  0.806775  0.914388  0.499323  0.222692  0.555857  0.551134  0.405318   \n",
       "1347  1.125152  0.763201  0.839418  0.688754  0.518157  0.507299  0.535486   \n",
       "1348  1.267764  0.861070  0.828974  0.784791  0.766987  0.790686  0.654012   \n",
       "1349  0.764205  0.676192  0.866153  0.586468  0.375553  0.339832  0.165980   \n",
       "1350  0.794653  0.957627  0.453950  0.234393  0.572402  0.567876  0.452738   \n",
       "1351  1.164790  0.748328  0.847225  0.693716  0.521489  0.479370  0.553772   \n",
       "\n",
       "        128 hz  \n",
       "0     0.075598  \n",
       "1    -0.025523  \n",
       "2     0.027475  \n",
       "3     0.065647  \n",
       "4     0.034630  \n",
       "5    -0.093748  \n",
       "6    -0.000509  \n",
       "7     0.114166  \n",
       "8     0.073155  \n",
       "9    -0.081307  \n",
       "10    0.054147  \n",
       "11    0.192786  \n",
       "12    0.070267  \n",
       "13   -0.118427  \n",
       "14   -0.013058  \n",
       "15    0.254765  \n",
       "16    0.108678  \n",
       "17   -0.083280  \n",
       "18   -0.013292  \n",
       "19    0.144934  \n",
       "20    0.167790  \n",
       "21   -0.065789  \n",
       "22   -0.000604  \n",
       "23    0.135796  \n",
       "24    0.205393  \n",
       "25   -0.055509  \n",
       "26    0.018637  \n",
       "27    0.063652  \n",
       "28    0.181405  \n",
       "29   -0.015981  \n",
       "...        ...  \n",
       "1322 -0.020802  \n",
       "1323  0.016560  \n",
       "1324  0.296940  \n",
       "1325 -0.249761  \n",
       "1326  0.087391  \n",
       "1327  0.063402  \n",
       "1328  0.275593  \n",
       "1329 -0.208014  \n",
       "1330  0.140120  \n",
       "1331  0.108771  \n",
       "1332  0.233707  \n",
       "1333 -0.210951  \n",
       "1334  0.124631  \n",
       "1335  0.083717  \n",
       "1336  0.218797  \n",
       "1337 -0.239153  \n",
       "1338  0.200921  \n",
       "1339 -0.058115  \n",
       "1340  0.244303  \n",
       "1341 -0.223930  \n",
       "1342  0.142383  \n",
       "1343 -0.062690  \n",
       "1344  0.220322  \n",
       "1345 -0.302463  \n",
       "1346  0.138391  \n",
       "1347 -0.023561  \n",
       "1348  0.222548  \n",
       "1349 -0.276689  \n",
       "1350  0.114051  \n",
       "1351  0.006246  \n",
       "\n",
       "[1352 rows x 132 columns]>"
      ]
     },
     "execution_count": 3,
     "metadata": {},
     "output_type": "execute_result"
    }
   ],
   "source": [
    "# Data has been collected, let's import it\n",
    "\n",
    "data = pd.read_csv(\"../muse-data/DanoDenoisedPSDJul18.csv\", header=0, index_col=False)\n",
    "\n",
    "data.describe"
   ]
  },
  {
   "cell_type": "code",
   "execution_count": 5,
   "metadata": {
    "collapsed": true
   },
   "outputs": [],
   "source": [
    "# Let's get our labels data set first because it's easier. We'll grab every 4th row from the Performance column\n",
    "\n",
    "labels = data['Performance'].iloc[::4]\n",
    "\n",
    "# Then we'll reindex the dataframe\n",
    "\n",
    "labels = labels.reset_index().drop('index', axis=1)\n",
    "\n",
    "# Convert to 1D array for TPOT\n",
    "\n",
    "labels = np.array(labels).ravel()\n"
   ]
  },
  {
   "cell_type": "code",
   "execution_count": 6,
   "metadata": {
    "collapsed": true
   },
   "outputs": [],
   "source": [
    "# Seperate data into 4 dataframes, 1 for each electrode\n",
    "\n",
    "chan1 = data.loc[:,'Channel':'60 hz'].loc[data['Channel'] == 1,].reset_index(drop=True)\n",
    "chan1.columns = np.arange(1000,1061)\n",
    "chan2 = data.loc[:,'Channel':'60 hz'].loc[data['Channel'] == 2,].reset_index(drop=True)\n",
    "chan2.columns = np.arange(2000,2061)\n",
    "chan3 = data.loc[:,'Channel':'60 hz'].loc[data['Channel'] == 3,].reset_index(drop=True)\n",
    "chan3.columns = np.arange(3000,3061)\n",
    "chan4 = data.loc[:,'Channel':'60 hz'].loc[data['Channel'] == 4,].reset_index(drop=True)\n",
    "chan4.columns = np.arange(4000,4061)\n",
    "\n",
    "\n",
    "# Concat all channel-specific dataframes together so that row = 2s epoch\n",
    "# columns = [electrode 1 FFT bins] + [electrode 2 FFT bins] + ...\n",
    "training_data = pd.concat([chan1.iloc[:,1:], chan2.iloc[:,1:], chan3.iloc[:,1:], chan4.iloc[:,1:]], axis=1, join_axes=[chan1.index])"
   ]
  },
  {
   "cell_type": "code",
   "execution_count": 7,
   "metadata": {},
   "outputs": [
    {
     "name": "stdout",
     "output_type": "stream",
     "text": [
      "(338, 240)\n"
     ]
    },
    {
     "data": {
      "text/plain": [
       "(338,)"
      ]
     },
     "execution_count": 7,
     "metadata": {},
     "output_type": "execute_result"
    }
   ],
   "source": [
    "print(training_data.shape)\n",
    "labels.shape\n"
   ]
  },
  {
   "cell_type": "markdown",
   "metadata": {},
   "source": [
    "# Nice!"
   ]
  },
  {
   "cell_type": "code",
   "execution_count": 8,
   "metadata": {},
   "outputs": [
    {
     "name": "stderr",
     "output_type": "stream",
     "text": [
      "/home/dano/anaconda3/lib/python3.6/site-packages/sklearn/cross_validation.py:44: DeprecationWarning: This module was deprecated in version 0.18 in favor of the model_selection module into which all the refactored classes and functions are moved. Also note that the interface of the new CV iterators are different from that of this module. This module will be removed in 0.20.\n",
      "  \"This module will be removed in 0.20.\", DeprecationWarning)\n"
     ]
    },
    {
     "name": "stdout",
     "output_type": "stream",
     "text": [
      "28 operators have been imported by TPOT.\n",
      "_pre_test decorator: _generate: num_test=0 __init__() got an unexpected keyword argument 'max_depth'\n",
      "_pre_test decorator: _generate: num_test=0 __init__() got an unexpected keyword argument 'max_depth'\n",
      "_pre_test decorator: _generate: num_test=0 __init__() got an unexpected keyword argument 'max_depth'\n",
      "_pre_test decorator: _generate: num_test=1 __init__() got an unexpected keyword argument 'max_depth'\n",
      "_pre_test decorator: _generate: num_test=2 Unsupported set of arguments: The combination of penalty='l2' and loss='epsilon_insensitive' are not supported when dual=False, Parameters: penalty='l2', loss='epsilon_insensitive', dual=False\n",
      "_pre_test decorator: _generate: num_test=0 Found array with 0 feature(s) (shape=(50, 0)) while a minimum of 1 is required.\n"
     ]
    },
    {
     "name": "stderr",
     "output_type": "stream",
     "text": [
      "\r",
      "Optimization Progress:   0%|          | 0/330 [00:00<?, ?pipeline/s]"
     ]
    },
    {
     "name": "stdout",
     "output_type": "stream",
     "text": [
      "_pre_test decorator: _generate: num_test=0 Found array with 0 feature(s) (shape=(50, 0)) while a minimum of 1 is required.\n",
      "_pre_test decorator: _generate: num_test=0 __init__() got an unexpected keyword argument 'max_depth'\n",
      "_pre_test decorator: _generate: num_test=0 Found array with 0 feature(s) (shape=(50, 0)) while a minimum of 1 is required.\n"
     ]
    },
    {
     "name": "stderr",
     "output_type": "stream",
     "text": [
      "Optimization Progress:   9%|▉         | 30/330 [04:08<29:48,  5.96s/pipeline]  \r"
     ]
    },
    {
     "name": "stdout",
     "output_type": "stream",
     "text": [
      "_pre_test decorator: _random_mutation_operator: num_test=0 Found array with 0 feature(s) (shape=(50, 0)) while a minimum of 1 is required.\n",
      "_pre_test decorator: _random_mutation_operator: num_test=1 Found array with 0 feature(s) (shape=(50, 0)) while a minimum of 1 is required.\n"
     ]
    },
    {
     "name": "stderr",
     "output_type": "stream",
     "text": [
      "          \r",
      "\r",
      "          \r",
      "Optimization Progress:   9%|▉         | 30/330 [04:08<29:48,  5.96s/pipeline]\r",
      "          \r",
      "\r",
      "          \r",
      "Optimization Progress:   9%|▉         | 30/330 [04:08<29:48,  5.96s/pipeline]\r",
      "          \r",
      "\r",
      "          \r",
      "Optimization Progress:   9%|▉         | 30/330 [04:09<29:48,  5.96s/pipeline]\r",
      "          "
     ]
    },
    {
     "name": "stdout",
     "output_type": "stream",
     "text": [
      "_pre_test decorator: _random_mutation_operator: num_test=2 Found array with 0 feature(s) (shape=(50, 0)) while a minimum of 1 is required.\n",
      "_pre_test decorator: _random_mutation_operator: num_test=3 Found array with 0 feature(s) (shape=(50, 0)) while a minimum of 1 is required.\n",
      "_pre_test decorator: _random_mutation_operator: num_test=4 Found array with 0 feature(s) (shape=(50, 0)) while a minimum of 1 is required.\n"
     ]
    },
    {
     "name": "stderr",
     "output_type": "stream",
     "text": [
      "\r",
      "\r",
      "          \r",
      "Optimization Progress:   9%|▉         | 30/330 [04:09<29:48,  5.96s/pipeline]\r",
      "          \r",
      "\r",
      "          \r",
      "Optimization Progress:   9%|▉         | 30/330 [04:09<29:48,  5.96s/pipeline]\r",
      "          \r",
      "\r",
      "          \r",
      "Optimization Progress:   9%|▉         | 30/330 [04:15<29:48,  5.96s/pipeline]\r",
      "          \r",
      "\r",
      "          \r",
      "Optimization Progress:   9%|▉         | 30/330 [04:15<29:48,  5.96s/pipeline]\r",
      "          \r",
      "\r",
      "          \r",
      "Optimization Progress:   9%|▉         | 30/330 [04:15<29:48,  5.96s/pipeline]\r",
      "          \r",
      "\r",
      "          \r",
      "Optimization Progress:   9%|▉         | 30/330 [04:15<29:48,  5.96s/pipeline]"
     ]
    },
    {
     "name": "stdout",
     "output_type": "stream",
     "text": [
      "_pre_test decorator: _random_mutation_operator: num_test=0 Expected n_neighbors <= n_samples,  but n_samples = 50, n_neighbors = 72\n",
      "_pre_test decorator: _random_mutation_operator: num_test=1 Expected n_neighbors <= n_samples,  but n_samples = 50, n_neighbors = 72\n",
      "_pre_test decorator: _random_mutation_operator: num_test=0 Found array with 0 feature(s) (shape=(50, 0)) while a minimum of 1 is required.\n",
      "_pre_test decorator: _random_mutation_operator: num_test=1 Found array with 0 feature(s) (shape=(50, 0)) while a minimum of 1 is required.\n",
      "_pre_test decorator: _random_mutation_operator: num_test=2 Found array with 0 feature(s) (shape=(50, 0)) while a minimum of 1 is required.\n",
      "_pre_test decorator: _random_mutation_operator: num_test=3 b'[16:11:16] src/tree/updater_colmaker.cc:161: Check failed: (n) > (0) colsample_bytree=1 is too small that no feature can be included'\n"
     ]
    },
    {
     "name": "stderr",
     "output_type": "stream",
     "text": [
      "Optimization Progress:   9%|▉         | 31/330 [04:16<27:17,  5.48s/pipeline]"
     ]
    },
    {
     "name": "stdout",
     "output_type": "stream",
     "text": [
      "Pipeline encountered that has previously been evaluated during the optimization process. Using the score from the previous evaluation.\n"
     ]
    },
    {
     "name": "stderr",
     "output_type": "stream",
     "text": [
      "Optimization Progress:  18%|█▊        | 59/330 [06:17<18:20,  4.06s/pipeline]"
     ]
    },
    {
     "name": "stdout",
     "output_type": "stream",
     "text": [
      "Generation 1 - Current Pareto front scores:\n",
      "1\t406.2644278849401\tKNeighborsRegressor(input_matrix, KNeighborsRegressor__n_neighbors=65, KNeighborsRegressor__p=DEFAULT, KNeighborsRegressor__weights=DEFAULT)\n",
      "2\t398.90744129335917\tKNeighborsRegressor(MaxAbsScaler(input_matrix), KNeighborsRegressor__n_neighbors=65, KNeighborsRegressor__p=1, KNeighborsRegressor__weights=DEFAULT)\n",
      "\n"
     ]
    },
    {
     "name": "stderr",
     "output_type": "stream",
     "text": [
      "\r",
      "          \r",
      "\r",
      "          \r",
      "Optimization Progress:  18%|█▊        | 59/330 [06:23<18:20,  4.06s/pipeline]\r",
      "          \r",
      "\r",
      "          \r",
      "Optimization Progress:  18%|█▊        | 59/330 [06:23<18:20,  4.06s/pipeline]\r",
      "          \r",
      "\r",
      "          \r",
      "Optimization Progress:  18%|█▊        | 59/330 [06:23<18:20,  4.06s/pipeline]"
     ]
    },
    {
     "name": "stdout",
     "output_type": "stream",
     "text": [
      "_pre_test decorator: _random_mutation_operator: num_test=0 Found array with 0 feature(s) (shape=(50, 0)) while a minimum of 1 is required.\n",
      "_pre_test decorator: _random_mutation_operator: num_test=1 Found array with 0 feature(s) (shape=(50, 0)) while a minimum of 1 is required.\n",
      "_pre_test decorator: _random_mutation_operator: num_test=2 Found array with 0 feature(s) (shape=(50, 0)) while a minimum of 1 is required.\n"
     ]
    },
    {
     "name": "stderr",
     "output_type": "stream",
     "text": [
      "Optimization Progress:  20%|█▉        | 65/330 [06:31<17:16,  3.91s/pipeline]"
     ]
    },
    {
     "name": "stdout",
     "output_type": "stream",
     "text": [
      "Pipeline encountered that has previously been evaluated during the optimization process. Using the score from the previous evaluation.\n",
      "Pipeline encountered that has previously been evaluated during the optimization process. Using the score from the previous evaluation.\n",
      "Pipeline encountered that has previously been evaluated during the optimization process. Using the score from the previous evaluation.\n",
      "Pipeline encountered that has previously been evaluated during the optimization process. Using the score from the previous evaluation.\n",
      "Pipeline encountered that has previously been evaluated during the optimization process. Using the score from the previous evaluation.\n"
     ]
    },
    {
     "name": "stderr",
     "output_type": "stream",
     "text": [
      "Optimization Progress:  27%|██▋       | 89/330 [08:05<17:19,  4.31s/pipeline]"
     ]
    },
    {
     "name": "stdout",
     "output_type": "stream",
     "text": [
      "Generation 2 - Current Pareto front scores:\n",
      "1\t406.2644278849401\tKNeighborsRegressor(input_matrix, KNeighborsRegressor__n_neighbors=65, KNeighborsRegressor__p=DEFAULT, KNeighborsRegressor__weights=DEFAULT)\n",
      "2\t396.70984202431094\tRandomForestRegressor(Normalizer(input_matrix, Normalizer__norm=DEFAULT), RandomForestRegressor__bootstrap=False, RandomForestRegressor__max_features=0.2, RandomForestRegressor__min_samples_leaf=14, RandomForestRegressor__min_samples_split=6, RandomForestRegressor__n_estimators=100)\n",
      "\n",
      "_pre_test decorator: _random_mutation_operator: num_test=0 Expected n_neighbors <= n_samples,  but n_samples = 50, n_neighbors = 65\n",
      "_pre_test decorator: _random_mutation_operator: num_test=1 Expected n_neighbors <= n_samples,  but n_samples = 50, n_neighbors = 65\n",
      "_pre_test decorator: _random_mutation_operator: num_test=2 Expected n_neighbors <= n_samples,  but n_samples = 50, n_neighbors = 65\n",
      "_pre_test decorator: _random_mutation_operator: num_test=3 Expected n_neighbors <= n_samples,  but n_samples = 50, n_neighbors = 65\n",
      "_pre_test decorator: _random_mutation_operator: num_test=4 Expected n_neighbors <= n_samples,  but n_samples = 50, n_neighbors = 65\n"
     ]
    },
    {
     "name": "stderr",
     "output_type": "stream",
     "text": [
      "\r",
      "          \r",
      "\r",
      "          \r",
      "Optimization Progress:  27%|██▋       | 89/330 [08:06<17:19,  4.31s/pipeline]\r",
      "          \r",
      "\r",
      "          \r",
      "Optimization Progress:  27%|██▋       | 89/330 [08:06<17:19,  4.31s/pipeline]"
     ]
    },
    {
     "name": "stdout",
     "output_type": "stream",
     "text": [
      "_pre_test decorator: _random_mutation_operator: num_test=0 Found array with 0 feature(s) (shape=(50, 0)) while a minimum of 1 is required.\n",
      "_pre_test decorator: _random_mutation_operator: num_test=1 Found array with 0 feature(s) (shape=(50, 0)) while a minimum of 1 is required.\n"
     ]
    },
    {
     "name": "stderr",
     "output_type": "stream",
     "text": [
      "\r",
      "          \r",
      "\r",
      "          \r",
      "Optimization Progress:  27%|██▋       | 89/330 [08:06<17:19,  4.31s/pipeline]"
     ]
    },
    {
     "name": "stdout",
     "output_type": "stream",
     "text": [
      "_pre_test decorator: _random_mutation_operator: num_test=2 Found array with 0 feature(s) (shape=(50, 0)) while a minimum of 1 is required.\n"
     ]
    },
    {
     "name": "stderr",
     "output_type": "stream",
     "text": [
      "Optimization Progress:  28%|██▊       | 92/330 [08:11<14:35,  3.68s/pipeline]"
     ]
    },
    {
     "name": "stdout",
     "output_type": "stream",
     "text": [
      "_pre_test decorator: _random_mutation_operator: num_test=0 __init__() got an unexpected keyword argument 'max_depth'\n",
      "_pre_test decorator: _random_mutation_operator: num_test=1 __init__() got an unexpected keyword argument 'max_depth'\n",
      "_pre_test decorator: _random_mutation_operator: num_test=2 __init__() got an unexpected keyword argument 'max_depth'\n",
      "_pre_test decorator: _random_mutation_operator: num_test=3 __init__() got an unexpected keyword argument 'max_depth'\n",
      "_pre_test decorator: _random_mutation_operator: num_test=4 __init__() got an unexpected keyword argument 'max_depth'\n",
      "_pre_test decorator: _random_mutation_operator: num_test=5 __init__() got an unexpected keyword argument 'max_depth'\n",
      "_pre_test decorator: _random_mutation_operator: num_test=6 __init__() got an unexpected keyword argument 'max_depth'\n",
      "_pre_test decorator: _random_mutation_operator: num_test=7 __init__() got an unexpected keyword argument 'max_depth'\n",
      "_pre_test decorator: _random_mutation_operator: num_test=8 __init__() got an unexpected keyword argument 'max_depth'\n",
      "_pre_test decorator: _random_mutation_operator: num_test=9 __init__() got an unexpected keyword argument 'max_depth'\n",
      "Pipeline encountered that has previously been evaluated during the optimization process. Using the score from the previous evaluation.\n",
      "Pipeline encountered that has previously been evaluated during the optimization process. Using the score from the previous evaluation.\n",
      "Pipeline encountered that has previously been evaluated during the optimization process. Using the score from the previous evaluation.\n"
     ]
    },
    {
     "name": "stderr",
     "output_type": "stream",
     "text": [
      "Optimization Progress:  36%|███▌      | 118/330 [09:35<11:59,  3.39s/pipeline]"
     ]
    },
    {
     "name": "stdout",
     "output_type": "stream",
     "text": [
      "Generation 3 - Current Pareto front scores:\n",
      "1\t406.2644278849401\tKNeighborsRegressor(input_matrix, KNeighborsRegressor__n_neighbors=65, KNeighborsRegressor__p=DEFAULT, KNeighborsRegressor__weights=DEFAULT)\n",
      "2\t375.3292896161379\tKNeighborsRegressor(Normalizer(input_matrix, Normalizer__norm=l1), KNeighborsRegressor__n_neighbors=26, KNeighborsRegressor__p=2, KNeighborsRegressor__weights=DEFAULT)\n",
      "\n"
     ]
    },
    {
     "name": "stderr",
     "output_type": "stream",
     "text": [
      "\r",
      "          \r",
      "\r",
      "          \r",
      "Optimization Progress:  36%|███▌      | 118/330 [09:36<11:59,  3.39s/pipeline]\r",
      "          \r",
      "\r",
      "          \r",
      "Optimization Progress:  36%|███▌      | 118/330 [09:36<11:59,  3.39s/pipeline]\r",
      "          \r",
      "\r",
      "          \r",
      "Optimization Progress:  36%|███▌      | 118/330 [09:36<11:59,  3.39s/pipeline]\r",
      "          \r",
      "\r",
      "          \r",
      "Optimization Progress:  36%|███▌      | 118/330 [09:36<11:59,  3.39s/pipeline]"
     ]
    },
    {
     "name": "stdout",
     "output_type": "stream",
     "text": [
      "_pre_test decorator: _random_mutation_operator: num_test=0 __init__() got an unexpected keyword argument 'max_depth'\n",
      "_pre_test decorator: _random_mutation_operator: num_test=1 __init__() got an unexpected keyword argument 'max_depth'\n",
      "_pre_test decorator: _random_mutation_operator: num_test=2 __init__() got an unexpected keyword argument 'max_depth'\n",
      "_pre_test decorator: _random_mutation_operator: num_test=3 __init__() got an unexpected keyword argument 'max_depth'\n"
     ]
    },
    {
     "name": "stderr",
     "output_type": "stream",
     "text": [
      "          on Progress:  36%|███▌      | 119/330 [09:37<08:41,  2.47s/pipeline]"
     ]
    },
    {
     "name": "stdout",
     "output_type": "stream",
     "text": [
      "_pre_test decorator: _random_mutation_operator: num_test=0 Automatic alpha grid generation is not supported for l1_ratio=0. Please supply a grid by providing your estimator with the appropriate `alphas=` argument.\n",
      "_pre_test decorator: _random_mutation_operator: num_test=1 Automatic alpha grid generation is not supported for l1_ratio=0. Please supply a grid by providing your estimator with the appropriate `alphas=` argument.\n",
      "_pre_test decorator: _random_mutation_operator: num_test=2 Automatic alpha grid generation is not supported for l1_ratio=0. Please supply a grid by providing your estimator with the appropriate `alphas=` argument.\n",
      "_pre_test decorator: _random_mutation_operator: num_test=3 Automatic alpha grid generation is not supported for l1_ratio=0. Please supply a grid by providing your estimator with the appropriate `alphas=` argument.\n",
      "_pre_test decorator: _random_mutation_operator: num_test=4 Automatic alpha grid generation is not supported for l1_ratio=0. Please supply a grid by providing your estimator with the appropriate `alphas=` argument.\n",
      "_pre_test decorator: _random_mutation_operator: num_test=5 Automatic alpha grid generation is not supported for l1_ratio=0. Please supply a grid by providing your estimator with the appropriate `alphas=` argument.\n",
      "_pre_test decorator: _random_mutation_operator: num_test=6 Automatic alpha grid generation is not supported for l1_ratio=0. Please supply a grid by providing your estimator with the appropriate `alphas=` argument.\n",
      "_pre_test decorator: _random_mutation_operator: num_test=7 Automatic alpha grid generation is not supported for l1_ratio=0. Please supply a grid by providing your estimator with the appropriate `alphas=` argument.\n",
      "_pre_test decorator: _random_mutation_operator: num_test=0 Found array with 0 feature(s) (shape=(50, 0)) while a minimum of 1 is required.\n",
      "_pre_test decorator: _random_mutation_operator: num_test=1 Found array with 0 feature(s) (shape=(50, 0)) while a minimum of 1 is required.\n",
      "_pre_test decorator: _random_mutation_operator: num_test=2 Found array with 0 feature(s) (shape=(50, 0)) while a minimum of 1 is required.\n",
      "Pipeline encountered that has previously been evaluated during the optimization process. Using the score from the previous evaluation.\n",
      "Pipeline encountered that has previously been evaluated during the optimization process. Using the score from the previous evaluation.\n"
     ]
    },
    {
     "name": "stderr",
     "output_type": "stream",
     "text": [
      "Optimization Progress:  45%|████▍     | 148/330 [10:05<03:54,  1.29s/pipeline]"
     ]
    },
    {
     "name": "stdout",
     "output_type": "stream",
     "text": [
      "Pipeline encountered that has previously been evaluated during the optimization process. Using the score from the previous evaluation.\n",
      "Pipeline encountered that has previously been evaluated during the optimization process. Using the score from the previous evaluation.\n",
      "Generation 4 - Current Pareto front scores:\n",
      "1\t406.2644278849401\tKNeighborsRegressor(input_matrix, KNeighborsRegressor__n_neighbors=65, KNeighborsRegressor__p=DEFAULT, KNeighborsRegressor__weights=DEFAULT)\n",
      "2\t375.3292896161379\tKNeighborsRegressor(Normalizer(input_matrix, Normalizer__norm=l1), KNeighborsRegressor__n_neighbors=26, KNeighborsRegressor__p=2, KNeighborsRegressor__weights=DEFAULT)\n",
      "\n"
     ]
    },
    {
     "name": "stderr",
     "output_type": "stream",
     "text": [
      "\r",
      "          \r",
      "\r",
      "          \r",
      "Optimization Progress:  45%|████▍     | 148/330 [10:05<03:54,  1.29s/pipeline]\r",
      "          \r",
      "\r",
      "          \r",
      "Optimization Progress:  45%|████▍     | 148/330 [10:05<03:54,  1.29s/pipeline]\r",
      "          \r",
      "\r",
      "          \r",
      "Optimization Progress:  45%|████▍     | 148/330 [10:05<03:54,  1.29s/pipeline]\r",
      "          \r",
      "\r",
      "          \r",
      "Optimization Progress:  45%|████▍     | 148/330 [10:05<03:54,  1.29s/pipeline]\r",
      "          \r",
      "\r",
      "          \r",
      "Optimization Progress:  45%|████▍     | 148/330 [10:05<03:54,  1.29s/pipeline]\r",
      "          \r",
      "\r",
      "          \r",
      "Optimization Progress:  45%|████▍     | 148/330 [10:05<03:54,  1.29s/pipeline]\r",
      "          \r",
      "\r",
      "          \r",
      "Optimization Progress:  45%|████▍     | 148/330 [10:05<03:54,  1.29s/pipeline]\r",
      "          \r",
      "\r",
      "          \r",
      "Optimization Progress:  45%|████▍     | 148/330 [10:05<03:54,  1.29s/pipeline]\r",
      "          \r",
      "\r",
      "          \r",
      "Optimization Progress:  45%|████▍     | 148/330 [10:05<03:54,  1.29s/pipeline]\r",
      "          \r",
      "\r",
      "          \r",
      "Optimization Progress:  45%|████▍     | 148/330 [10:05<03:54,  1.29s/pipeline]\r",
      "          \r",
      "\r",
      "          \r",
      "Optimization Progress:  45%|████▍     | 148/330 [10:05<03:54,  1.29s/pipeline]\r",
      "          \r",
      "\r",
      "          \r",
      "Optimization Progress:  45%|████▍     | 148/330 [10:05<03:54,  1.29s/pipeline]\r",
      "          \r",
      "\r",
      "          \r",
      "Optimization Progress:  45%|████▍     | 148/330 [10:05<03:54,  1.29s/pipeline]\r",
      "          \r",
      "\r",
      "          \r",
      "Optimization Progress:  45%|████▍     | 148/330 [10:05<03:54,  1.29s/pipeline]\r",
      "          \r",
      "\r",
      "          \r",
      "Optimization Progress:  45%|████▍     | 148/330 [10:05<03:54,  1.29s/pipeline]\r",
      "          \r",
      "\r",
      "          \r",
      "Optimization Progress:  45%|████▍     | 148/330 [10:05<03:54,  1.29s/pipeline]\r",
      "          \r",
      "\r",
      "          \r",
      "Optimization Progress:  45%|████▍     | 148/330 [10:05<03:54,  1.29s/pipeline]\r",
      "          \r",
      "\r",
      "          \r",
      "Optimization Progress:  45%|████▍     | 148/330 [10:05<03:54,  1.29s/pipeline]\r",
      "          \r",
      "\r",
      "          \r",
      "Optimization Progress:  45%|████▍     | 148/330 [10:05<03:54,  1.29s/pipeline]\r",
      "          \r",
      "\r",
      "          \r",
      "Optimization Progress:  45%|████▍     | 148/330 [10:05<03:54,  1.29s/pipeline]"
     ]
    },
    {
     "name": "stdout",
     "output_type": "stream",
     "text": [
      "_pre_test decorator: _random_mutation_operator: num_test=0 __init__() got an unexpected keyword argument 'max_depth'\n",
      "_pre_test decorator: _random_mutation_operator: num_test=1 __init__() got an unexpected keyword argument 'max_depth'\n",
      "_pre_test decorator: _random_mutation_operator: num_test=2 __init__() got an unexpected keyword argument 'max_depth'\n",
      "_pre_test decorator: _random_mutation_operator: num_test=3 __init__() got an unexpected keyword argument 'max_depth'\n",
      "_pre_test decorator: _random_mutation_operator: num_test=4 __init__() got an unexpected keyword argument 'max_depth'\n",
      "_pre_test decorator: _random_mutation_operator: num_test=5 __init__() got an unexpected keyword argument 'max_depth'\n",
      "_pre_test decorator: _random_mutation_operator: num_test=6 __init__() got an unexpected keyword argument 'max_depth'\n",
      "_pre_test decorator: _random_mutation_operator: num_test=7 __init__() got an unexpected keyword argument 'max_depth'\n",
      "_pre_test decorator: _random_mutation_operator: num_test=8 __init__() got an unexpected keyword argument 'max_depth'\n",
      "_pre_test decorator: _random_mutation_operator: num_test=9 __init__() got an unexpected keyword argument 'max_depth'\n",
      "_pre_test decorator: _random_mutation_operator: num_test=0 __init__() got an unexpected keyword argument 'max_depth'\n",
      "_pre_test decorator: _random_mutation_operator: num_test=1 __init__() got an unexpected keyword argument 'max_depth'\n",
      "_pre_test decorator: _random_mutation_operator: num_test=2 __init__() got an unexpected keyword argument 'max_depth'\n",
      "_pre_test decorator: _random_mutation_operator: num_test=3 __init__() got an unexpected keyword argument 'max_depth'\n",
      "_pre_test decorator: _random_mutation_operator: num_test=4 __init__() got an unexpected keyword argument 'max_depth'\n",
      "_pre_test decorator: _random_mutation_operator: num_test=5 __init__() got an unexpected keyword argument 'max_depth'\n",
      "_pre_test decorator: _random_mutation_operator: num_test=6 __init__() got an unexpected keyword argument 'max_depth'\n",
      "_pre_test decorator: _random_mutation_operator: num_test=7 __init__() got an unexpected keyword argument 'max_depth'\n",
      "_pre_test decorator: _random_mutation_operator: num_test=8 __init__() got an unexpected keyword argument 'max_depth'\n",
      "_pre_test decorator: _random_mutation_operator: num_test=9 __init__() got an unexpected keyword argument 'max_depth'\n"
     ]
    },
    {
     "name": "stderr",
     "output_type": "stream",
     "text": [
      "Optimization Progress:  47%|████▋     | 154/330 [10:06<02:50,  1.03pipeline/s]"
     ]
    },
    {
     "name": "stdout",
     "output_type": "stream",
     "text": [
      "Pipeline encountered that has previously been evaluated during the optimization process. Using the score from the previous evaluation.\n",
      "Pipeline encountered that has previously been evaluated during the optimization process. Using the score from the previous evaluation.\n",
      "Pipeline encountered that has previously been evaluated during the optimization process. Using the score from the previous evaluation.\n",
      "Pipeline encountered that has previously been evaluated during the optimization process. Using the score from the previous evaluation.\n",
      "Pipeline encountered that has previously been evaluated during the optimization process. Using the score from the previous evaluation.\n"
     ]
    },
    {
     "name": "stderr",
     "output_type": "stream",
     "text": [
      "Optimization Progress:  53%|█████▎    | 176/330 [11:11<04:28,  1.74s/pipeline]"
     ]
    },
    {
     "name": "stdout",
     "output_type": "stream",
     "text": [
      "Generation 5 - Current Pareto front scores:\n",
      "1\t405.63061664041146\tKNeighborsRegressor(input_matrix, KNeighborsRegressor__n_neighbors=83, KNeighborsRegressor__p=DEFAULT, KNeighborsRegressor__weights=distance)\n",
      "2\t375.3292896161379\tKNeighborsRegressor(Normalizer(input_matrix, Normalizer__norm=l1), KNeighborsRegressor__n_neighbors=26, KNeighborsRegressor__p=2, KNeighborsRegressor__weights=DEFAULT)\n",
      "\n"
     ]
    },
    {
     "name": "stderr",
     "output_type": "stream",
     "text": [
      "Optimization Progress:  55%|█████▍    | 181/330 [11:12<03:48,  1.53s/pipeline]"
     ]
    },
    {
     "name": "stdout",
     "output_type": "stream",
     "text": [
      "Pipeline encountered that has previously been evaluated during the optimization process. Using the score from the previous evaluation.\n",
      "Pipeline encountered that has previously been evaluated during the optimization process. Using the score from the previous evaluation.\n",
      "Pipeline encountered that has previously been evaluated during the optimization process. Using the score from the previous evaluation.\n",
      "Pipeline encountered that has previously been evaluated during the optimization process. Using the score from the previous evaluation.\n",
      "Pipeline encountered that has previously been evaluated during the optimization process. Using the score from the previous evaluation.\n"
     ]
    },
    {
     "name": "stderr",
     "output_type": "stream",
     "text": [
      "Optimization Progress:  56%|█████▌    | 184/330 [29:16<2:14:32, 55.29s/pipeline]"
     ]
    },
    {
     "name": "stdout",
     "output_type": "stream",
     "text": [
      "Skipped pipeline #184 due to time out. Continuing to the next pipeline.\n"
     ]
    },
    {
     "name": "stderr",
     "output_type": "stream",
     "text": [
      "Optimization Progress:  61%|██████    | 200/330 [29:22<29:12, 13.48s/pipeline]  "
     ]
    },
    {
     "name": "stdout",
     "output_type": "stream",
     "text": [
      "Generation 6 - Current Pareto front scores:\n",
      "1\t405.4596058814028\tKNeighborsRegressor(input_matrix, KNeighborsRegressor__n_neighbors=81, KNeighborsRegressor__p=DEFAULT, KNeighborsRegressor__weights=DEFAULT)\n",
      "2\t375.3292896161379\tKNeighborsRegressor(Normalizer(input_matrix, Normalizer__norm=l1), KNeighborsRegressor__n_neighbors=26, KNeighborsRegressor__p=2, KNeighborsRegressor__weights=DEFAULT)\n",
      "\n"
     ]
    },
    {
     "name": "stderr",
     "output_type": "stream",
     "text": [
      "\r",
      "          \r",
      "\r",
      "          \r",
      "Optimization Progress:  61%|██████    | 200/330 [29:22<29:12, 13.48s/pipeline]"
     ]
    },
    {
     "name": "stdout",
     "output_type": "stream",
     "text": [
      "_pre_test decorator: _random_mutation_operator: num_test=0 Found array with 0 feature(s) (shape=(50, 0)) while a minimum of 1 is required.\n"
     ]
    },
    {
     "name": "stderr",
     "output_type": "stream",
     "text": [
      "\r",
      "          \r",
      "\r",
      "          \r",
      "Optimization Progress:  61%|██████    | 200/330 [29:22<29:12, 13.48s/pipeline]\r",
      "          \r",
      "\r",
      "          \r",
      "Optimization Progress:  61%|██████    | 200/330 [29:22<29:12, 13.48s/pipeline]\r",
      "          \r",
      "\r",
      "          \r",
      "Optimization Progress:  61%|██████    | 200/330 [29:22<29:12, 13.48s/pipeline]\r",
      "          \r",
      "\r",
      "          \r",
      "Optimization Progress:  61%|██████    | 200/330 [29:22<29:12, 13.48s/pipeline]\r",
      "          \r",
      "\r",
      "          \r",
      "Optimization Progress:  61%|██████    | 200/330 [29:22<29:12, 13.48s/pipeline]\r",
      "          \r",
      "\r",
      "          \r",
      "Optimization Progress:  61%|██████    | 200/330 [29:22<29:12, 13.48s/pipeline]\r",
      "          \r",
      "\r",
      "          \r",
      "Optimization Progress:  61%|██████    | 200/330 [29:22<29:12, 13.48s/pipeline]\r",
      "          \r",
      "\r",
      "          \r",
      "Optimization Progress:  61%|██████    | 200/330 [29:22<29:12, 13.48s/pipeline]\r",
      "          \r",
      "\r",
      "          \r",
      "Optimization Progress:  61%|██████    | 200/330 [29:22<29:12, 13.48s/pipeline]\r",
      "          \r",
      "\r",
      "          \r",
      "Optimization Progress:  61%|██████    | 200/330 [29:22<29:12, 13.48s/pipeline]"
     ]
    },
    {
     "name": "stdout",
     "output_type": "stream",
     "text": [
      "_pre_test decorator: _random_mutation_operator: num_test=0 __init__() got an unexpected keyword argument 'max_depth'\n",
      "_pre_test decorator: _random_mutation_operator: num_test=1 __init__() got an unexpected keyword argument 'max_depth'\n",
      "_pre_test decorator: _random_mutation_operator: num_test=2 __init__() got an unexpected keyword argument 'max_depth'\n",
      "_pre_test decorator: _random_mutation_operator: num_test=3 __init__() got an unexpected keyword argument 'max_depth'\n",
      "_pre_test decorator: _random_mutation_operator: num_test=4 __init__() got an unexpected keyword argument 'max_depth'\n",
      "_pre_test decorator: _random_mutation_operator: num_test=5 __init__() got an unexpected keyword argument 'max_depth'\n",
      "_pre_test decorator: _random_mutation_operator: num_test=6 __init__() got an unexpected keyword argument 'max_depth'\n",
      "_pre_test decorator: _random_mutation_operator: num_test=7 __init__() got an unexpected keyword argument 'max_depth'\n",
      "_pre_test decorator: _random_mutation_operator: num_test=8 __init__() got an unexpected keyword argument 'max_depth'\n",
      "_pre_test decorator: _random_mutation_operator: num_test=9 __init__() got an unexpected keyword argument 'max_depth'\n"
     ]
    },
    {
     "name": "stderr",
     "output_type": "stream",
     "text": [
      "Optimization Progress:  62%|██████▏   | 206/330 [29:23<20:05,  9.72s/pipeline]"
     ]
    },
    {
     "name": "stdout",
     "output_type": "stream",
     "text": [
      "_pre_test decorator: _random_mutation_operator: num_test=0 Expected n_neighbors <= n_samples,  but n_samples = 50, n_neighbors = 95\n",
      "_pre_test decorator: _random_mutation_operator: num_test=1 Expected n_neighbors <= n_samples,  but n_samples = 50, n_neighbors = 95\n",
      "Pipeline encountered that has previously been evaluated during the optimization process. Using the score from the previous evaluation.\n",
      "Pipeline encountered that has previously been evaluated during the optimization process. Using the score from the previous evaluation.\n",
      "Pipeline encountered that has previously been evaluated during the optimization process. Using the score from the previous evaluation.\n",
      "Pipeline encountered that has previously been evaluated during the optimization process. Using the score from the previous evaluation.\n",
      "Pipeline encountered that has previously been evaluated during the optimization process. Using the score from the previous evaluation.\n",
      "Pipeline encountered that has previously been evaluated during the optimization process. Using the score from the previous evaluation.\n"
     ]
    },
    {
     "name": "stderr",
     "output_type": "stream",
     "text": [
      "Optimization Progress:  70%|██████▉   | 230/330 [30:12<04:16,  2.57s/pipeline]"
     ]
    },
    {
     "name": "stdout",
     "output_type": "stream",
     "text": [
      "Generation 7 - Current Pareto front scores:\n",
      "1\t405.4596058814028\tKNeighborsRegressor(input_matrix, KNeighborsRegressor__n_neighbors=81, KNeighborsRegressor__p=DEFAULT, KNeighborsRegressor__weights=DEFAULT)\n",
      "2\t375.3292896161379\tKNeighborsRegressor(Normalizer(input_matrix, Normalizer__norm=l1), KNeighborsRegressor__n_neighbors=26, KNeighborsRegressor__p=2, KNeighborsRegressor__weights=DEFAULT)\n",
      "\n"
     ]
    },
    {
     "name": "stderr",
     "output_type": "stream",
     "text": [
      "Optimization Progress:  73%|███████▎  | 240/330 [30:12<02:44,  1.83s/pipeline]"
     ]
    },
    {
     "name": "stdout",
     "output_type": "stream",
     "text": [
      "Pipeline encountered that has previously been evaluated during the optimization process. Using the score from the previous evaluation.\n",
      "Pipeline encountered that has previously been evaluated during the optimization process. Using the score from the previous evaluation.\n",
      "Pipeline encountered that has previously been evaluated during the optimization process. Using the score from the previous evaluation.\n",
      "Pipeline encountered that has previously been evaluated during the optimization process. Using the score from the previous evaluation.\n",
      "Pipeline encountered that has previously been evaluated during the optimization process. Using the score from the previous evaluation.\n",
      "Pipeline encountered that has previously been evaluated during the optimization process. Using the score from the previous evaluation.\n",
      "Pipeline encountered that has previously been evaluated during the optimization process. Using the score from the previous evaluation.\n",
      "Pipeline encountered that has previously been evaluated during the optimization process. Using the score from the previous evaluation.\n",
      "Pipeline encountered that has previously been evaluated during the optimization process. Using the score from the previous evaluation.\n"
     ]
    },
    {
     "name": "stderr",
     "output_type": "stream",
     "text": [
      "Optimization Progress:  80%|███████▉  | 263/330 [30:24<00:46,  1.44pipeline/s]"
     ]
    },
    {
     "name": "stdout",
     "output_type": "stream",
     "text": [
      "Generation 8 - Current Pareto front scores:\n",
      "1\t405.4596058814028\tKNeighborsRegressor(input_matrix, KNeighborsRegressor__n_neighbors=81, KNeighborsRegressor__p=DEFAULT, KNeighborsRegressor__weights=DEFAULT)\n",
      "2\t375.3292896161379\tKNeighborsRegressor(Normalizer(input_matrix, Normalizer__norm=l1), KNeighborsRegressor__n_neighbors=26, KNeighborsRegressor__p=2, KNeighborsRegressor__weights=DEFAULT)\n",
      "\n",
      "_pre_test decorator: _random_mutation_operator: num_test=0 Found array with 0 feature(s) (shape=(50, 0)) while a minimum of 1 is required.\n",
      "_pre_test decorator: _random_mutation_operator: num_test=1 Found array with 0 feature(s) (shape=(50, 0)) while a minimum of 1 is required.\n",
      "_pre_test decorator: _random_mutation_operator: num_test=2 Found array with 0 feature(s) (shape=(50, 0)) while a minimum of 1 is required.\n",
      "_pre_test decorator: _random_mutation_operator: num_test=3 Found array with 0 feature(s) (shape=(50, 0)) while a minimum of 1 is required.\n",
      "_pre_test decorator: _random_mutation_operator: num_test=4 Found array with 0 feature(s) (shape=(50, 0)) while a minimum of 1 is required.\n",
      "Pipeline encountered that has previously been evaluated during the optimization process. Using the score from the previous evaluation.\n",
      "Pipeline encountered that has previously been evaluated during the optimization process. Using the score from the previous evaluation.\n",
      "Pipeline encountered that has previously been evaluated during the optimization process. Using the score from the previous evaluation.\n",
      "Pipeline encountered that has previously been evaluated during the optimization process. Using the score from the previous evaluation.\n",
      "Pipeline encountered that has previously been evaluated during the optimization process. Using the score from the previous evaluation.\n",
      "Pipeline encountered that has previously been evaluated during the optimization process. Using the score from the previous evaluation.\n",
      "Pipeline encountered that has previously been evaluated during the optimization process. Using the score from the previous evaluation.\n",
      "Pipeline encountered that has previously been evaluated during the optimization process. Using the score from the previous evaluation.\n"
     ]
    },
    {
     "name": "stderr",
     "output_type": "stream",
     "text": [
      "Optimization Progress:  85%|████████▌ | 282/330 [30:26<00:08,  5.77pipeline/s]"
     ]
    },
    {
     "name": "stdout",
     "output_type": "stream",
     "text": [
      "Generation 9 - Current Pareto front scores:\n",
      "1\t402.8218201267898\tKNeighborsRegressor(input_matrix, KNeighborsRegressor__n_neighbors=73, KNeighborsRegressor__p=DEFAULT, KNeighborsRegressor__weights=uniform)\n",
      "2\t375.3292896161379\tKNeighborsRegressor(Normalizer(input_matrix, Normalizer__norm=l1), KNeighborsRegressor__n_neighbors=26, KNeighborsRegressor__p=2, KNeighborsRegressor__weights=DEFAULT)\n",
      "\n"
     ]
    },
    {
     "name": "stderr",
     "output_type": "stream",
     "text": [
      "Optimization Progress:  87%|████████▋ | 286/330 [30:26<00:07,  5.83pipeline/s]"
     ]
    },
    {
     "name": "stdout",
     "output_type": "stream",
     "text": [
      "_pre_test decorator: _random_mutation_operator: num_test=0 Unsupported set of arguments: The combination of penalty='l2' and loss='epsilon_insensitive' are not supported when dual=False, Parameters: penalty='l2', loss='epsilon_insensitive', dual=False\n",
      "_pre_test decorator: _random_mutation_operator: num_test=1 Unsupported set of arguments: The combination of penalty='l2' and loss='epsilon_insensitive' are not supported when dual=False, Parameters: penalty='l2', loss='epsilon_insensitive', dual=False\n",
      "_pre_test decorator: _random_mutation_operator: num_test=2 Unsupported set of arguments: The combination of penalty='l2' and loss='epsilon_insensitive' are not supported when dual=False, Parameters: penalty='l2', loss='epsilon_insensitive', dual=False\n",
      "_pre_test decorator: _random_mutation_operator: num_test=3 Unsupported set of arguments: The combination of penalty='l2' and loss='epsilon_insensitive' are not supported when dual=False, Parameters: penalty='l2', loss='epsilon_insensitive', dual=False\n",
      "Pipeline encountered that has previously been evaluated during the optimization process. Using the score from the previous evaluation.\n",
      "Pipeline encountered that has previously been evaluated during the optimization process. Using the score from the previous evaluation.\n",
      "Pipeline encountered that has previously been evaluated during the optimization process. Using the score from the previous evaluation.\n",
      "Pipeline encountered that has previously been evaluated during the optimization process. Using the score from the previous evaluation.\n",
      "Pipeline encountered that has previously been evaluated during the optimization process. Using the score from the previous evaluation.\n"
     ]
    },
    {
     "name": "stderr",
     "output_type": "stream",
     "text": [
      "                                                                              "
     ]
    },
    {
     "name": "stdout",
     "output_type": "stream",
     "text": [
      "Generation 10 - Current Pareto front scores:\n",
      "1\t402.8218201267898\tKNeighborsRegressor(input_matrix, KNeighborsRegressor__n_neighbors=73, KNeighborsRegressor__p=DEFAULT, KNeighborsRegressor__weights=uniform)\n",
      "2\t375.3292896161379\tKNeighborsRegressor(Normalizer(input_matrix, Normalizer__norm=l1), KNeighborsRegressor__n_neighbors=26, KNeighborsRegressor__p=2, KNeighborsRegressor__weights=DEFAULT)\n",
      "\n",
      "299.158905501\n"
     ]
    },
    {
     "name": "stderr",
     "output_type": "stream",
     "text": [
      "\r"
     ]
    }
   ],
   "source": [
    "# Create a TPOTClassifier that will run for 10 generations\n",
    "\n",
    "pipeline_optimizer = TPOTRegressor(generations=10, population_size=30, cv=5,\n",
    "                                    random_state=42, verbosity=3) \n",
    "\n",
    "# Fit this baby! Takes a long time to run\n",
    "\n",
    "pipeline_optimizer.fit(training_data, labels)  \n",
    "  \n",
    "# See what kind of score we get\n",
    "print(pipeline_optimizer.score(training_data, labels))"
   ]
  },
  {
   "cell_type": "code",
   "execution_count": 9,
   "metadata": {
    "collapsed": true
   },
   "outputs": [],
   "source": [
    "pipeline_optimizer.export('tpot_exported_pipeline4.py')"
   ]
  },
  {
   "cell_type": "code",
   "execution_count": 21,
   "metadata": {},
   "outputs": [
    {
     "name": "stdout",
     "output_type": "stream",
     "text": [
      "17.296210726644947\n"
     ]
    }
   ],
   "source": [
    "print(sqrt(pipeline_optimizer.score(training_data, labels)))"
   ]
  },
  {
   "cell_type": "markdown",
   "metadata": {
    "collapsed": true
   },
   "source": [
    "##### Split values and labels arrays into random train and test subsets (20% set aside for testing)\n",
    "X_train, X_test, y_train, y_test = train_test_split(training_data,labels,test_size=0.2)"
   ]
  },
  {
   "cell_type": "code",
   "execution_count": 22,
   "metadata": {},
   "outputs": [
    {
     "name": "stdout",
     "output_type": "stream",
     "text": [
      "9.899494936611665\n"
     ]
    }
   ],
   "source": [
    "print(sqrt(98))"
   ]
  },
  {
   "cell_type": "code",
   "execution_count": null,
   "metadata": {
    "collapsed": true
   },
   "outputs": [],
   "source": []
  }
 ],
 "metadata": {
  "kernelspec": {
   "display_name": "Python 3",
   "language": "python",
   "name": "python3"
  },
  "language_info": {
   "codemirror_mode": {
    "name": "ipython",
    "version": 3
   },
   "file_extension": ".py",
   "mimetype": "text/x-python",
   "name": "python",
   "nbconvert_exporter": "python",
   "pygments_lexer": "ipython3",
   "version": "3.6.1"
  }
 },
 "nbformat": 4,
 "nbformat_minor": 2
}
