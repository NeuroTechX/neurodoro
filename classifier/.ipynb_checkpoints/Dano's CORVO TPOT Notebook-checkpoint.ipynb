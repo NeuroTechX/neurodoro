{
 "cells": [
  {
   "cell_type": "markdown",
   "metadata": {},
   "source": [
    "# Dano's CORVO & TPOT  notebook\n",
    "\n",
    "In this notebook, I will try and use TPOT to asses what traditional ML algorithms would be useful to predict cognitive performance from EEG data in Neurodoro"
   ]
  },
  {
   "cell_type": "code",
   "execution_count": 6,
   "metadata": {
    "collapsed": true
   },
   "outputs": [],
   "source": [
    "import pandas as pd\n",
    "import numpy as np\n",
    "import matplotlib.pyplot as plt\n",
    "import sklearn as sk\n",
    "from os import walk\n",
    "from os import listdir\n",
    "from os.path import isfile, join\n",
    "from sklearn.model_selection import train_test_split\n",
    "from tpot import TPOTRegressor"
   ]
  },
  {
   "cell_type": "code",
   "execution_count": 7,
   "metadata": {
    "collapsed": true
   },
   "outputs": [],
   "source": [
    "EPOCH_LENGTH = 440 # 2 seconds"
   ]
  },
  {
   "cell_type": "code",
   "execution_count": 8,
   "metadata": {},
   "outputs": [
    {
     "data": {
      "text/plain": [
       "<bound method NDFrame.describe of      Timestamp (ms)  Difficulty  Performance  Channel      1 hz      2 hz  \\\n",
       "0     1495072744254           0            0        1  0.263303  0.261625   \n",
       "1     1495072744254           0            0        2  0.225264  0.223013   \n",
       "2     1495072744255           0            0        3  0.231660  0.295456   \n",
       "3     1495072744256           0            0        4  0.251737  0.245464   \n",
       "4     1495072745283           0            0        1  0.412536  0.507440   \n",
       "5     1495072745284           0            0        2  0.407239  0.438822   \n",
       "6     1495072745285           0            0        3  0.479716  0.567057   \n",
       "7     1495072745286           0            0        4  0.422169  0.507769   \n",
       "8     1495072746318           0            0        1  0.701241  0.793904   \n",
       "9     1495072746318           0            0        2  0.612467  0.696235   \n",
       "10    1495072746319           0            0        3  0.681053  0.820618   \n",
       "11    1495072746320           0            0        4  0.711383  0.794960   \n",
       "12    1495072748407           0            0        1  0.999101  1.095327   \n",
       "13    1495072748408           0            0        2  0.780854  0.895783   \n",
       "14    1495072748409           0            0        3  0.927741  1.068099   \n",
       "15    1495072748410           0            0        4  0.995719  1.088536   \n",
       "16    1495072751536           0           64        1  1.163264  1.385673   \n",
       "17    1495072751537           0           64        2  0.898425  1.185399   \n",
       "18    1495072751538           0           64        3  1.155517  1.350107   \n",
       "19    1495072751539           0           64        4  1.201962  1.370133   \n",
       "20    1495072752553           0           62        1  1.422598  1.660492   \n",
       "21    1495072752554           0           62        2  1.116977  1.426291   \n",
       "22    1495072752555           0           62        3  1.336418  1.607684   \n",
       "23    1495072752556           0           62        4  1.466558  1.651381   \n",
       "24    1495072754611           0           76        1  1.529166  1.874619   \n",
       "25    1495072754612           0           76        2  1.376889  1.693189   \n",
       "26    1495072754613           0           76        3  1.502848  1.805965   \n",
       "27    1495072754614           0           76        4  1.616886  1.887044   \n",
       "28    1495072756665          11           74        1  1.839702  2.188629   \n",
       "29    1495072756666          11           74        2  1.695427  2.013841   \n",
       "..              ...         ...          ...      ...       ...       ...   \n",
       "470   1495073041886           0           53        3  3.736432  4.353118   \n",
       "471   1495073041887           0           53        4  3.896965  4.950181   \n",
       "472   1495073043924           0           51        1  3.791667  4.807361   \n",
       "473   1495073043925           0           51        2  3.641718  4.525480   \n",
       "474   1495073043926           0           51        3  3.716881  4.305353   \n",
       "475   1495073043927           0           51        4  3.803177  4.868860   \n",
       "476   1495073045871           0           51        1  3.796831  4.798275   \n",
       "477   1495073045873           0           51        2  3.577085  4.514641   \n",
       "478   1495073045873           0           51        3  3.709369  4.305590   \n",
       "479   1495073045874           0           51        4  3.936948  4.849239   \n",
       "480   1495073050936           0           51        1  3.713396  4.679649   \n",
       "481   1495073050937           0           51        2  3.646330  4.552239   \n",
       "482   1495073050937           0           51        3  3.887609  4.379437   \n",
       "483   1495073050938           0           51        4  3.896424  4.839652   \n",
       "484   1495073055084           0           -7        1  3.763278  4.718543   \n",
       "485   1495073055085           0           -7        2  3.625141  4.496701   \n",
       "486   1495073055086           0           -7        3  3.892628  4.398239   \n",
       "487   1495073055086           0           -7        4  3.912282  4.845844   \n",
       "488   1495073057073           0           52        1  3.817609  4.788203   \n",
       "489   1495073057074           0           52        2  3.652073  4.500221   \n",
       "490   1495073057075           0           52        3  3.905305  4.398840   \n",
       "491   1495073057075           0           52        4  4.049760  4.923294   \n",
       "492   1495073061267           0           62        1  3.745888  4.762143   \n",
       "493   1495073061268           0           62        2  3.549102  4.436935   \n",
       "494   1495073061269           0           62        3  3.948005  4.443884   \n",
       "495   1495073061270           0           62        4  4.031508  4.925300   \n",
       "496   1495073063418           4           52        1  3.778371  4.783988   \n",
       "497   1495073063419           4           52        2  3.604228  4.459451   \n",
       "498   1495073063419           4           52        3  3.783338  4.354013   \n",
       "499   1495073063420           4           52        4  4.203115  4.995276   \n",
       "\n",
       "         3 hz      4 hz      5 hz      6 hz    ...       119 hz    120 hz  \\\n",
       "0    0.240574  0.254895  0.242632  0.223693    ...     0.108636  0.088209   \n",
       "1    0.186685  0.142619  0.211411  0.100357    ...     0.080716  0.076550   \n",
       "2    0.290166  0.261823  0.219655  0.233626    ...     0.029734  0.023795   \n",
       "3    0.226696  0.244065  0.240432  0.236893    ...     0.033135  0.067251   \n",
       "4    0.527911  0.537531  0.509176  0.472447    ...     0.148500  0.144264   \n",
       "5    0.468832  0.426172  0.474313  0.360260    ...     0.150359  0.135348   \n",
       "6    0.574429  0.544633  0.491657  0.473387    ...     0.084912  0.086722   \n",
       "7    0.519574  0.530465  0.510488  0.490531    ...     0.117618  0.130311   \n",
       "8    0.786385  0.750837  0.756454  0.676010    ...     0.191721  0.239778   \n",
       "9    0.705634  0.674151  0.668760  0.591541    ...     0.198353  0.177169   \n",
       "10   0.788639  0.802176  0.705652  0.672035    ...     0.152254  0.165187   \n",
       "11   0.782043  0.728227  0.759930  0.587527    ...     0.218742  0.234627   \n",
       "12   1.030697  0.943425  0.987878  0.902615    ...     0.239289  0.309813   \n",
       "13   0.932682  0.903794  0.869532  0.782959    ...     0.245699  0.229207   \n",
       "14   1.043458  1.064869  0.893345  0.907161    ...     0.234334  0.241555   \n",
       "15   1.010693  0.875923  1.011613  0.831147    ...     0.287075  0.275996   \n",
       "16   1.293921  1.217669  1.259518  1.162362    ...     0.290640  0.403219   \n",
       "17   1.195970  1.168101  1.138884  1.032219    ...     0.332847  0.286680   \n",
       "18   1.307836  1.330323  1.150142  1.160112    ...     0.259978  0.303067   \n",
       "19   1.276861  1.159469  1.286017  1.112587    ...     0.384086  0.407810   \n",
       "20   1.600369  1.520399  1.559290  1.447112    ...     0.424219  0.497386   \n",
       "21   1.402143  1.427016  1.392124  1.305991    ...     0.407594  0.338422   \n",
       "22   1.552660  1.568263  1.398494  1.428850    ...     0.312554  0.327143   \n",
       "23   1.582487  1.468111  1.591801  1.404925    ...     0.485350  0.517780   \n",
       "24   1.828642  1.671743  1.803101  1.678808    ...     0.454055  0.573827   \n",
       "25   1.648257  1.621570  1.566338  1.488363    ...     0.404814  0.389126   \n",
       "26   1.796969  1.824116  1.654711  1.670786    ...     0.197363  0.371941   \n",
       "27   1.834939  1.684232  1.839308  1.604953    ...     0.541320  0.605716   \n",
       "28   2.051499  1.945176  2.058075  1.881069    ...     0.399190  0.684005   \n",
       "29   1.882393  1.887349  1.815226  1.665729    ...     0.453371  0.422822   \n",
       "..        ...       ...       ...       ...    ...          ...       ...   \n",
       "470  4.423882  4.405489  3.847476  3.812918    ...     1.216530  0.889823   \n",
       "471  4.680592  4.646847  4.285729  4.333700    ...     1.981457  1.626132   \n",
       "472  4.582840  4.343099  4.245312  4.205241    ...     1.548486  1.413686   \n",
       "473  4.431578  4.184283  3.760173  3.948698    ...     1.217593  1.188290   \n",
       "474  4.419458  4.373556  3.862140  3.817013    ...     1.175849  0.904065   \n",
       "475  4.642956  4.593119  4.212623  4.299010    ...     1.985842  1.543795   \n",
       "476  4.591592  4.272916  4.221500  4.212960    ...     1.545455  1.394187   \n",
       "477  4.457923  4.159080  3.759427  3.915608    ...     1.174817  1.163692   \n",
       "478  4.404284  4.355740  3.849436  3.780772    ...     1.099569  0.799956   \n",
       "479  4.579611  4.559154  4.158778  4.251120    ...     1.983374  1.571800   \n",
       "480  4.538786  4.316694  4.259064  4.233049    ...     1.514084  1.384668   \n",
       "481  4.484704  4.190105  3.828367  3.932633    ...     1.104376  1.129429   \n",
       "482  4.532177  4.357673  3.886047  3.815323    ...     1.099512  0.808731   \n",
       "483  4.607404  4.563376  4.163182  4.340788    ...     1.883078  1.590553   \n",
       "484  4.540912  4.339168  4.243958  4.237957    ...     1.563599  1.466946   \n",
       "485  4.452338  4.195325  3.847332  3.920546    ...     1.111002  1.124026   \n",
       "486  4.541562  4.332075  3.862002  3.825562    ...     1.085409  0.796040   \n",
       "487  4.591039  4.566366  4.162336  4.370578    ...     1.873795  1.627064   \n",
       "488  4.567807  4.321371  4.214620  4.220335    ...     1.648047  1.466364   \n",
       "489  4.393854  4.229499  3.813707  3.884363    ...     1.121500  1.108692   \n",
       "490  4.507312  4.270269  3.850867  3.801129    ...     1.059164  0.756454   \n",
       "491  4.618610  4.469053  4.153898  4.342535    ...     1.919403  1.649110   \n",
       "492  4.593408  4.383576  4.140235  4.188131    ...     1.619318  1.455375   \n",
       "493  4.337760  4.196762  3.763750  3.835934    ...     1.090509  1.086704   \n",
       "494  4.517880  4.237259  3.839873  3.849544    ...     1.060012  0.714115   \n",
       "495  4.538137  4.467443  4.213638  4.324366    ...     1.931772  1.670813   \n",
       "496  4.631826  4.358919  4.115230  4.252519    ...     1.648289  1.475586   \n",
       "497  4.316832  4.206839  3.759170  3.826179    ...     1.052422  1.061024   \n",
       "498  4.479413  4.171282  3.872550  3.853095    ...     1.024303  0.700715   \n",
       "499  4.537531  4.492622  4.170244  4.348115    ...     1.943819  1.609187   \n",
       "\n",
       "       121 hz    122 hz    123 hz    124 hz    125 hz    126 hz    127 hz  \\\n",
       "0    0.063852  0.047569  0.047405  0.068903  0.077187  0.028924  0.028307   \n",
       "1    0.054140  0.050318  0.077105  0.081052  0.079801  0.067151  0.065019   \n",
       "2    0.054213  0.036301  0.010811  0.034249  0.062755 -0.028661  0.003855   \n",
       "3    0.053010  0.072409  0.074804  0.075049  0.047423  0.035240  0.030942   \n",
       "4    0.120767  0.096274  0.108162  0.137377  0.160492  0.075958  0.058718   \n",
       "5    0.093450  0.099999  0.110396  0.046606  0.129681  0.109101  0.063165   \n",
       "6    0.099295  0.066024  0.013542  0.022298  0.090968  0.003938  0.021896   \n",
       "7    0.080743  0.144288  0.143552  0.058878  0.089295  0.092191  0.095243   \n",
       "8    0.180121  0.168733  0.134284  0.168564  0.163806  0.143292  0.074364   \n",
       "9    0.121347  0.148285  0.170233  0.063402  0.141643  0.138449  0.091660   \n",
       "10   0.131276  0.053454  0.048597  0.024646  0.096807  0.018610  0.066078   \n",
       "11   0.134847  0.179788  0.204530  0.070554  0.134018  0.144755  0.143995   \n",
       "12   0.244524  0.202959  0.166988  0.245698  0.142385  0.232396  0.124630   \n",
       "13   0.154388  0.155504  0.200349  0.122888  0.203102  0.191976  0.121397   \n",
       "14   0.160807  0.084785  0.054285  0.044968  0.139546  0.053354  0.100846   \n",
       "15   0.189917  0.266137  0.321255  0.173436  0.184951  0.233609  0.198906   \n",
       "16   0.337417  0.250087  0.207468  0.337548  0.244052  0.318387  0.112625   \n",
       "17   0.203763  0.224313  0.254979  0.098456  0.234233  0.244342  0.128578   \n",
       "18   0.232613  0.130621  0.050304  0.099921  0.190267  0.096779  0.145371   \n",
       "19   0.313836  0.370285  0.394275  0.249771  0.274369  0.335711  0.286114   \n",
       "20   0.323231  0.310933  0.278846  0.394193  0.298567  0.381927  0.172639   \n",
       "21   0.270713  0.277486  0.257866  0.170754  0.271291  0.301310  0.165512   \n",
       "22   0.247311  0.127615  0.091979  0.148666  0.254118  0.141182  0.118833   \n",
       "23   0.388717  0.423541  0.452736  0.345744  0.372811  0.429434  0.377244   \n",
       "24   0.379759  0.390891  0.355794  0.470311  0.378378  0.461004  0.240974   \n",
       "25   0.329935  0.342988  0.338343  0.181516  0.274185  0.259276  0.203024   \n",
       "26   0.299496  0.176690  0.140145  0.149877  0.310332  0.189644  0.121367   \n",
       "27   0.426977  0.462973  0.497073  0.387532  0.432129  0.491333  0.439714   \n",
       "28   0.474543  0.481379  0.464902  0.561623  0.464276  0.541168  0.335886   \n",
       "29   0.386408  0.359988  0.399508  0.203319  0.310866  0.317092  0.200885   \n",
       "..        ...       ...       ...       ...       ...       ...       ...   \n",
       "470  0.794282  0.831952  0.792074  0.703783  0.630159  0.587048  0.563795   \n",
       "471  1.514183  1.498818  1.419481  1.384542  1.305119  1.165841  1.228662   \n",
       "472  1.363711  1.471473  1.309403  1.141045  1.165589  0.853943  0.975748   \n",
       "473  0.920152  1.004377  0.853778  0.851837  0.591983  0.537259  0.614921   \n",
       "474  0.739071  0.760689  0.727990  0.696786  0.607133  0.544338  0.638378   \n",
       "475  1.606558  1.551823  1.410387  1.363172  1.304263  1.148554  1.228662   \n",
       "476  1.385283  1.500541  1.419709  1.156206  1.147436  0.853709  0.907019   \n",
       "477  0.910966  0.965120  0.813260  0.736257  0.580935  0.509366  0.597286   \n",
       "478  0.707361  0.735651  0.618160  0.604149  0.588220  0.575075  0.636747   \n",
       "479  1.564297  1.598146  1.453656  1.396235  1.337101  1.209964  1.294547   \n",
       "480  1.501874  1.475430  1.296284  1.161811  1.134503  0.845572  0.933078   \n",
       "481  0.933510  0.965219  0.818357  0.634884  0.526111  0.466422  0.588010   \n",
       "482  0.683421  0.731873  0.589969  0.582516  0.544377  0.534418  0.622110   \n",
       "483  1.554236  1.685666  1.467705  1.416477  1.383764  1.228395  1.277124   \n",
       "484  1.471778  1.460989  1.299619  1.179370  1.133668  0.835700  0.934545   \n",
       "485  0.901051  0.899703  0.833954  0.674021  0.514949  0.444172  0.558483   \n",
       "486  0.688596  0.737572  0.571219  0.582991  0.525587  0.561766  0.619074   \n",
       "487  1.573476  1.726181  1.446480  1.463521  1.400498  1.201162  1.234790   \n",
       "488  1.447763  1.427436  1.262638  1.149711  1.135222  0.755957  0.887175   \n",
       "489  0.883644  0.845812  0.809123  0.662828  0.496600  0.442510  0.488299   \n",
       "490  0.637580  0.682916  0.488795  0.460246  0.440367  0.519064  0.544323   \n",
       "491  1.580881  1.750450  1.481683  1.456538  1.396659  1.165309  1.210640   \n",
       "492  1.369096  1.450276  1.263460  1.143966  1.028220  0.733939  0.902037   \n",
       "493  0.906620  0.838292  0.838673  0.629852  0.447556  0.412203  0.458795   \n",
       "494  0.693794  0.685366  0.524478  0.429625  0.452084  0.549995  0.576707   \n",
       "495  1.566227  1.803203  1.558453  1.494569  1.420815  1.190907  1.255903   \n",
       "496  1.347212  1.463031  1.310004  1.113762  0.978029  0.731925  0.937364   \n",
       "497  0.864578  0.834023  0.896983  0.686603  0.437410  0.389447  0.430603   \n",
       "498  0.712117  0.641060  0.446527  0.401137  0.440410  0.547987  0.525764   \n",
       "499  1.616906  1.820903  1.531745  1.505358  1.424271  1.178195  1.272655   \n",
       "\n",
       "       128 hz  \n",
       "0    0.049813  \n",
       "1    0.082635  \n",
       "2    0.024063  \n",
       "3    0.031803  \n",
       "4    0.094786  \n",
       "5    0.080528  \n",
       "6   -0.076918  \n",
       "7    0.071872  \n",
       "8    0.054433  \n",
       "9    0.098759  \n",
       "10  -0.180240  \n",
       "11   0.025467  \n",
       "12   0.046168  \n",
       "13   0.148211  \n",
       "14  -0.118412  \n",
       "15   0.032806  \n",
       "16   0.129662  \n",
       "17   0.229717  \n",
       "18  -0.055778  \n",
       "19   0.136086  \n",
       "20   0.034880  \n",
       "21   0.262921  \n",
       "22  -0.101908  \n",
       "23   0.197342  \n",
       "24   0.105086  \n",
       "25   0.254765  \n",
       "26  -0.054645  \n",
       "27   0.213420  \n",
       "28   0.069719  \n",
       "29   0.208972  \n",
       "..        ...  \n",
       "470  0.295498  \n",
       "471  0.939942  \n",
       "472  0.860309  \n",
       "473  0.170301  \n",
       "474  0.292782  \n",
       "475  0.958373  \n",
       "476  1.130394  \n",
       "477  0.170467  \n",
       "478  0.344016  \n",
       "479  1.029049  \n",
       "480  1.188169  \n",
       "481 -0.001853  \n",
       "482  0.385182  \n",
       "483  1.119195  \n",
       "484  1.147786  \n",
       "485  0.147034  \n",
       "486  0.363442  \n",
       "487  1.114891  \n",
       "488  1.070773  \n",
       "489  0.101862  \n",
       "490  0.285223  \n",
       "491  1.159409  \n",
       "492  0.996961  \n",
       "493  0.098316  \n",
       "494  0.307009  \n",
       "495  1.156359  \n",
       "496  0.860379  \n",
       "497  0.138370  \n",
       "498  0.305141  \n",
       "499  1.174246  \n",
       "\n",
       "[500 rows x 132 columns]>"
      ]
     },
     "execution_count": 8,
     "metadata": {},
     "output_type": "execute_result"
    }
   ],
   "source": [
    "# Data has been collected, let's import it\n",
    "\n",
    "data = pd.read_csv(\"../muse-data/PSD_dataset_may_17.csv\", header=0, index_col=False)\n",
    "\n",
    "data = data.iloc[:500,:]\n",
    "\n",
    "data.describe"
   ]
  },
  {
   "cell_type": "code",
   "execution_count": 9,
   "metadata": {},
   "outputs": [],
   "source": [
    "# Let's get our labels data set first because it's easier. We'll grab every 4th row from the Performance column\n",
    "\n",
    "labels = data['Difficulty'].iloc[::4]\n",
    "\n",
    "# Then we'll reindex the dataframe\n",
    "\n",
    "labels = labels.reset_index().drop('index', axis=1)\n",
    "\n",
    "# Convert to 1D array for TPOT\n",
    "\n",
    "labels = np.array(labels).ravel()\n"
   ]
  },
  {
   "cell_type": "code",
   "execution_count": 11,
   "metadata": {},
   "outputs": [],
   "source": [
    "# Seperate data into 4 dataframes, 1 for each electrode\n",
    "\n",
    "chan1 = data.loc[:,'Channel':'60 hz'].loc[data['Channel'] == 1,].reset_index(drop=True)\n",
    "chan1.columns = np.arange(1000,1061)\n",
    "chan2 = data.loc[:,'Channel':'60 hz'].loc[data['Channel'] == 2,].reset_index(drop=True)\n",
    "chan2.columns = np.arange(2000,2061)\n",
    "chan3 = data.loc[:,'Channel':'60 hz'].loc[data['Channel'] == 3,].reset_index(drop=True)\n",
    "chan3.columns = np.arange(3000,3061)\n",
    "chan4 = data.loc[:,'Channel':'60 hz'].loc[data['Channel'] == 4,].reset_index(drop=True)\n",
    "chan4.columns = np.arange(4000,4061)\n",
    "\n",
    "\n",
    "# Concat all channel-specific dataframes together so that row = 2s epoch\n",
    "# columns = [electrode 1 FFT bins] + [electrode 2 FFT bins] + ...\n",
    "training_data = pd.concat([chan1.iloc[:,1:], chan2.iloc[:,1:], chan3.iloc[:,1:], chan4.iloc[:,1:]], axis=1, join_axes=[chan1.index])"
   ]
  },
  {
   "cell_type": "code",
   "execution_count": 12,
   "metadata": {},
   "outputs": [
    {
     "name": "stdout",
     "output_type": "stream",
     "text": [
      "(125, 240)\n"
     ]
    },
    {
     "data": {
      "text/plain": [
       "(125,)"
      ]
     },
     "execution_count": 12,
     "metadata": {},
     "output_type": "execute_result"
    }
   ],
   "source": [
    "print(training_data.shape)\n",
    "labels.shape\n"
   ]
  },
  {
   "cell_type": "markdown",
   "metadata": {},
   "source": [
    "# Nice!"
   ]
  },
  {
   "cell_type": "code",
   "execution_count": null,
   "metadata": {
    "scrolled": true
   },
   "outputs": [],
   "source": []
  },
  {
   "cell_type": "code",
   "execution_count": 13,
   "metadata": {},
   "outputs": [
    {
     "name": "stderr",
     "output_type": "stream",
     "text": [
      "/home/dano/anaconda3/lib/python3.6/site-packages/sklearn/cross_validation.py:44: DeprecationWarning: This module was deprecated in version 0.18 in favor of the model_selection module into which all the refactored classes and functions are moved. Also note that the interface of the new CV iterators are different from that of this module. This module will be removed in 0.20.\n",
      "  \"This module will be removed in 0.20.\", DeprecationWarning)\n"
     ]
    },
    {
     "name": "stdout",
     "output_type": "stream",
     "text": [
      "28 operators have been imported by TPOT.\n",
      "_pre_test decorator: _generate: num_test=0 __init__() got an unexpected keyword argument 'max_depth'\n",
      "_pre_test decorator: _generate: num_test=0 __init__() got an unexpected keyword argument 'max_depth'\n",
      "_pre_test decorator: _generate: num_test=0 __init__() got an unexpected keyword argument 'max_depth'\n",
      "_pre_test decorator: _generate: num_test=1 __init__() got an unexpected keyword argument 'max_depth'\n",
      "_pre_test decorator: _generate: num_test=2 Unsupported set of arguments: The combination of penalty='l2' and loss='epsilon_insensitive' are not supported when dual=False, Parameters: penalty='l2', loss='epsilon_insensitive', dual=False\n",
      "_pre_test decorator: _generate: num_test=0 Found array with 0 feature(s) (shape=(50, 0)) while a minimum of 1 is required.\n",
      "_pre_test decorator: _generate: num_test=0 Found array with 0 feature(s) (shape=(50, 0)) while a minimum of 1 is required."
     ]
    },
    {
     "name": "stderr",
     "output_type": "stream",
     "text": [
      "\r",
      "Optimization Progress:   0%|          | 0/330 [00:00<?, ?pipeline/s]"
     ]
    },
    {
     "name": "stdout",
     "output_type": "stream",
     "text": [
      "\n",
      "_pre_test decorator: _generate: num_test=0 __init__() got an unexpected keyword argument 'max_depth'\n",
      "_pre_test decorator: _generate: num_test=0 Found array with 0 feature(s) (shape=(50, 0)) while a minimum of 1 is required.\n"
     ]
    },
    {
     "name": "stderr",
     "output_type": "stream",
     "text": [
      "Optimization Progress:   9%|▉         | 30/330 [00:47<06:04,  1.21s/pipeline]"
     ]
    },
    {
     "name": "stdout",
     "output_type": "stream",
     "text": [
      "_pre_test decorator: _random_mutation_operator: num_test=0 Found array with 0 feature(s) (shape=(50, 0)) while a minimum of 1 is required.\n",
      "_pre_test decorator: _random_mutation_operator: num_test=1 Found array with 0 feature(s) (shape=(50, 0)) while a minimum of 1 is required.\n",
      "_pre_test decorator: _random_mutation_operator: num_test=2 Found array with 0 feature(s) (shape=(50, 0)) while a minimum of 1 is required.\n"
     ]
    },
    {
     "name": "stderr",
     "output_type": "stream",
     "text": [
      "\r",
      "          \r",
      "\r",
      "          \r",
      "Optimization Progress:   9%|▉         | 30/330 [00:48<06:04,  1.21s/pipeline]\r",
      "          \r",
      "\r",
      "          \r",
      "Optimization Progress:   9%|▉         | 30/330 [00:48<06:04,  1.21s/pipeline]\r",
      "          \r"
     ]
    },
    {
     "name": "stdout",
     "output_type": "stream",
     "text": [
      "_pre_test decorator: _random_mutation_operator: num_test=3 Found array with 0 feature(s) (shape=(50, 0)) while a minimum of 1 is required.\n",
      "_pre_test decorator: _random_mutation_operator: num_test=4 Found array with 0 feature(s) (shape=(50, 0)) while a minimum of 1 is required.\n"
     ]
    },
    {
     "name": "stderr",
     "output_type": "stream",
     "text": [
      "\r",
      "          \r",
      "Optimization Progress:   9%|▉         | 30/330 [00:48<06:04,  1.21s/pipeline]\r",
      "          \r",
      "\r",
      "          \r",
      "Optimization Progress:   9%|▉         | 30/330 [00:48<06:04,  1.21s/pipeline]\r",
      "          \r",
      "\r",
      "          \r",
      "Optimization Progress:   9%|▉         | 30/330 [00:54<06:04,  1.21s/pipeline]\r",
      "          \r",
      "\r",
      "          \r",
      "Optimization Progress:   9%|▉         | 30/330 [00:54<06:04,  1.21s/pipeline]\r",
      "          \r",
      "\r",
      "          \r",
      "Optimization Progress:   9%|▉         | 30/330 [00:54<06:04,  1.21s/pipeline]\r",
      "          \r",
      "\r",
      "          \r",
      "Optimization Progress:   9%|▉         | 30/330 [00:54<06:04,  1.21s/pipeline]"
     ]
    },
    {
     "name": "stdout",
     "output_type": "stream",
     "text": [
      "_pre_test decorator: _random_mutation_operator: num_test=0 Expected n_neighbors <= n_samples,  but n_samples = 50, n_neighbors = 72\n",
      "_pre_test decorator: _random_mutation_operator: num_test=1 Expected n_neighbors <= n_samples,  but n_samples = 50, n_neighbors = 72\n",
      "_pre_test decorator: _random_mutation_operator: num_test=0 Found array with 0 feature(s) (shape=(50, 0)) while a minimum of 1 is required.\n",
      "_pre_test decorator: _random_mutation_operator: num_test=1 Found array with 0 feature(s) (shape=(50, 0)) while a minimum of 1 is required.\n",
      "_pre_test decorator: _random_mutation_operator: num_test=2 Found array with 0 feature(s) (shape=(50, 0)) while a minimum of 1 is required.\n",
      "_pre_test decorator: _random_mutation_operator: num_test=3 b'[22:52:27] src/tree/updater_colmaker.cc:161: Check failed: (n) > (0) colsample_bytree=1 is too small that no feature can be included'\n"
     ]
    },
    {
     "name": "stderr",
     "output_type": "stream",
     "text": [
      "Optimization Progress:   9%|▉         | 31/330 [00:54<10:07,  2.03s/pipeline]"
     ]
    },
    {
     "name": "stdout",
     "output_type": "stream",
     "text": [
      "Pipeline encountered that has previously been evaluated during the optimization process. Using the score from the previous evaluation.\n"
     ]
    },
    {
     "name": "stderr",
     "output_type": "stream",
     "text": [
      "Optimization Progress:  18%|█▊        | 59/330 [01:35<09:38,  2.13s/pipeline]"
     ]
    },
    {
     "name": "stdout",
     "output_type": "stream",
     "text": [
      "Generation 1 - Current Pareto front scores:\n",
      "1\t461.383440835688\tLinearSVR(input_matrix, LinearSVR__C=10.0, LinearSVR__dual=True, LinearSVR__epsilon=0.1, LinearSVR__loss=epsilon_insensitive, LinearSVR__tol=0.001)\n",
      "2\t328.9109389284564\tElasticNetCV(PolynomialFeatures(input_matrix, PolynomialFeatures__degree=2, PolynomialFeatures__include_bias=DEFAULT, PolynomialFeatures__interaction_only=DEFAULT), ElasticNetCV__l1_ratio=0.05, ElasticNetCV__tol=0.1)\n",
      "\n"
     ]
    },
    {
     "name": "stderr",
     "output_type": "stream",
     "text": [
      "Optimization Progress:  18%|█▊        | 59/330 [01:39<07:44,  1.71s/pipeline]"
     ]
    },
    {
     "name": "stdout",
     "output_type": "stream",
     "text": [
      "Pipeline encountered that has previously been evaluated during the optimization process. Using the score from the previous evaluation.\n"
     ]
    },
    {
     "name": "stderr",
     "output_type": "stream",
     "text": [
      "Optimization Progress:  26%|██▋       | 87/330 [02:19<05:36,  1.39s/pipeline]"
     ]
    },
    {
     "name": "stdout",
     "output_type": "stream",
     "text": [
      "Generation 2 - Current Pareto front scores:\n",
      "1\t461.383440835688\tLinearSVR(input_matrix, LinearSVR__C=10.0, LinearSVR__dual=True, LinearSVR__epsilon=0.1, LinearSVR__loss=epsilon_insensitive, LinearSVR__tol=0.001)\n",
      "2\t328.9109389284564\tElasticNetCV(PolynomialFeatures(input_matrix, PolynomialFeatures__degree=2, PolynomialFeatures__include_bias=DEFAULT, PolynomialFeatures__interaction_only=DEFAULT), ElasticNetCV__l1_ratio=0.05, ElasticNetCV__tol=0.1)\n",
      "\n"
     ]
    },
    {
     "name": "stderr",
     "output_type": "stream",
     "text": [
      "\r",
      "          \r",
      "\r",
      "          \r",
      "Optimization Progress:  26%|██▋       | 87/330 [02:26<05:36,  1.39s/pipeline]\r",
      "          \r",
      "\r",
      "          \r",
      "Optimization Progress:  26%|██▋       | 87/330 [02:26<05:36,  1.39s/pipeline]"
     ]
    },
    {
     "name": "stdout",
     "output_type": "stream",
     "text": [
      "_pre_test decorator: _random_mutation_operator: num_test=0 Expected n_neighbors <= n_samples,  but n_samples = 50, n_neighbors = 81\n",
      "_pre_test decorator: _random_mutation_operator: num_test=1 Expected n_neighbors <= n_samples,  but n_samples = 50, n_neighbors = 81\n"
     ]
    },
    {
     "name": "stderr",
     "output_type": "stream",
     "text": [
      "Optimization Progress:  28%|██▊       | 92/330 [02:35<08:28,  2.13s/pipeline]"
     ]
    },
    {
     "name": "stdout",
     "output_type": "stream",
     "text": [
      "Pipeline encountered that has previously been evaluated during the optimization process. Using the score from the previous evaluation.\n",
      "Pipeline encountered that has previously been evaluated during the optimization process. Using the score from the previous evaluation.\n",
      "Pipeline encountered that has previously been evaluated during the optimization process. Using the score from the previous evaluation.\n",
      "Pipeline encountered that has previously been evaluated during the optimization process. Using the score from the previous evaluation.\n"
     ]
    },
    {
     "name": "stderr",
     "output_type": "stream",
     "text": [
      "Optimization Progress:  35%|███▍      | 115/330 [04:49<24:45,  6.91s/pipeline]"
     ]
    },
    {
     "name": "stdout",
     "output_type": "stream",
     "text": [
      "Generation 3 - Current Pareto front scores:\n",
      "1\t461.383440835688\tLinearSVR(input_matrix, LinearSVR__C=10.0, LinearSVR__dual=True, LinearSVR__epsilon=0.1, LinearSVR__loss=epsilon_insensitive, LinearSVR__tol=0.001)\n",
      "2\t328.9109389284564\tElasticNetCV(PolynomialFeatures(input_matrix, PolynomialFeatures__degree=2, PolynomialFeatures__include_bias=DEFAULT, PolynomialFeatures__interaction_only=DEFAULT), ElasticNetCV__l1_ratio=0.05, ElasticNetCV__tol=0.1)\n",
      "\n"
     ]
    },
    {
     "name": "stderr",
     "output_type": "stream",
     "text": [
      "\r",
      "          \r",
      "\r",
      "          \r",
      "Optimization Progress:  35%|███▍      | 115/330 [04:49<24:45,  6.91s/pipeline]"
     ]
    },
    {
     "name": "stdout",
     "output_type": "stream",
     "text": [
      "_pre_test decorator: _random_mutation_operator: num_test=0 Found array with 0 feature(s) (shape=(50, 0)) while a minimum of 1 is required.\n"
     ]
    },
    {
     "name": "stderr",
     "output_type": "stream",
     "text": [
      "\r",
      "          \r",
      "\r",
      "          \r",
      "Optimization Progress:  35%|███▍      | 115/330 [04:50<24:45,  6.91s/pipeline]\r",
      "          \r",
      "\r",
      "          \r",
      "Optimization Progress:  35%|███▍      | 115/330 [04:50<24:45,  6.91s/pipeline]\r",
      "          \r",
      "\r",
      "          \r",
      "Optimization Progress:  35%|███▍      | 115/330 [04:50<24:45,  6.91s/pipeline]\r",
      "          \r",
      "\r",
      "          \r",
      "Optimization Progress:  35%|███▍      | 115/330 [04:50<24:45,  6.91s/pipeline]\r",
      "          \r",
      "\r",
      "          \r",
      "Optimization Progress:  35%|███▍      | 115/330 [04:50<24:45,  6.91s/pipeline]\r",
      "          \r",
      "\r",
      "          \r",
      "Optimization Progress:  35%|███▍      | 115/330 [04:50<24:45,  6.91s/pipeline]"
     ]
    },
    {
     "name": "stdout",
     "output_type": "stream",
     "text": [
      "_pre_test decorator: _random_mutation_operator: num_test=0 __init__() got an unexpected keyword argument 'max_depth'\n",
      "_pre_test decorator: _random_mutation_operator: num_test=1 __init__() got an unexpected keyword argument 'max_depth'\n",
      "_pre_test decorator: _random_mutation_operator: num_test=2 __init__() got an unexpected keyword argument 'max_depth'\n",
      "_pre_test decorator: _random_mutation_operator: num_test=3 __init__() got an unexpected keyword argument 'max_depth'\n",
      "_pre_test decorator: _random_mutation_operator: num_test=4 __init__() got an unexpected keyword argument 'max_depth'\n",
      "_pre_test decorator: _random_mutation_operator: num_test=5 __init__() got an unexpected keyword argument 'max_depth'\n"
     ]
    },
    {
     "name": "stderr",
     "output_type": "stream",
     "text": [
      "\r",
      "          \r",
      "\r",
      "          \r",
      "Optimization Progress:  35%|███▍      | 115/330 [04:54<24:45,  6.91s/pipeline]\r",
      "          \r",
      "\r",
      "          \r",
      "Optimization Progress:  35%|███▍      | 115/330 [04:54<24:45,  6.91s/pipeline]"
     ]
    },
    {
     "name": "stdout",
     "output_type": "stream",
     "text": [
      "_pre_test decorator: _random_mutation_operator: num_test=0 Found array with 0 feature(s) (shape=(50, 0)) while a minimum of 1 is required.\n",
      "_pre_test decorator: _random_mutation_operator: num_test=1 Found array with 0 feature(s) (shape=(50, 0)) while a minimum of 1 is required.\n"
     ]
    },
    {
     "name": "stderr",
     "output_type": "stream",
     "text": [
      "\r",
      "          \r",
      "\r",
      "          \r",
      "Optimization Progress:  35%|███▍      | 115/330 [04:55<24:45,  6.91s/pipeline]\r",
      "          \r",
      "\r",
      "          \r",
      "Optimization Progress:  35%|███▍      | 115/330 [04:55<24:45,  6.91s/pipeline]\r",
      "          \r",
      "\r",
      "          \r",
      "Optimization Progress:  35%|███▍      | 115/330 [04:55<24:45,  6.91s/pipeline]\r",
      "          \r",
      "\r",
      "          \r",
      "Optimization Progress:  35%|███▍      | 115/330 [04:55<24:45,  6.91s/pipeline]\r",
      "          \r",
      "\r",
      "          \r",
      "Optimization Progress:  35%|███▍      | 115/330 [04:55<24:45,  6.91s/pipeline]\r",
      "          \r",
      "\r",
      "          \r",
      "Optimization Progress:  35%|███▍      | 115/330 [04:55<24:45,  6.91s/pipeline]\r",
      "          \r",
      "\r",
      "          \r",
      "Optimization Progress:  35%|███▍      | 115/330 [04:55<24:45,  6.91s/pipeline]\r",
      "          \r",
      "\r",
      "          \r",
      "Optimization Progress:  35%|███▍      | 115/330 [04:55<24:45,  6.91s/pipeline]\r",
      "          \r",
      "\r",
      "          \r",
      "Optimization Progress:  35%|███▍      | 115/330 [04:55<24:45,  6.91s/pipeline]"
     ]
    },
    {
     "name": "stdout",
     "output_type": "stream",
     "text": [
      "_pre_test decorator: _random_mutation_operator: num_test=0 Unsupported set of arguments: The combination of penalty='l2' and loss='epsilon_insensitive' are not supported when dual=False, Parameters: penalty='l2', loss='epsilon_insensitive', dual=False\n",
      "_pre_test decorator: _random_mutation_operator: num_test=1 Unsupported set of arguments: The combination of penalty='l2' and loss='epsilon_insensitive' are not supported when dual=False, Parameters: penalty='l2', loss='epsilon_insensitive', dual=False\n",
      "_pre_test decorator: _random_mutation_operator: num_test=2 Unsupported set of arguments: The combination of penalty='l2' and loss='epsilon_insensitive' are not supported when dual=False, Parameters: penalty='l2', loss='epsilon_insensitive', dual=False\n",
      "_pre_test decorator: _random_mutation_operator: num_test=3 Unsupported set of arguments: The combination of penalty='l2' and loss='epsilon_insensitive' are not supported when dual=False, Parameters: penalty='l2', loss='epsilon_insensitive', dual=False\n",
      "_pre_test decorator: _random_mutation_operator: num_test=4 Unsupported set of arguments: The combination of penalty='l2' and loss='epsilon_insensitive' are not supported when dual=False, Parameters: penalty='l2', loss='epsilon_insensitive', dual=False\n",
      "_pre_test decorator: _random_mutation_operator: num_test=5 Unsupported set of arguments: The combination of penalty='l2' and loss='epsilon_insensitive' are not supported when dual=False, Parameters: penalty='l2', loss='epsilon_insensitive', dual=False\n",
      "_pre_test decorator: _random_mutation_operator: num_test=6 Unsupported set of arguments: The combination of penalty='l2' and loss='epsilon_insensitive' are not supported when dual=False, Parameters: penalty='l2', loss='epsilon_insensitive', dual=False\n",
      "_pre_test decorator: _random_mutation_operator: num_test=7 Unsupported set of arguments: The combination of penalty='l2' and loss='epsilon_insensitive' are not supported when dual=False, Parameters: penalty='l2', loss='epsilon_insensitive', dual=False\n",
      "_pre_test decorator: _random_mutation_operator: num_test=8 Unsupported set of arguments: The combination of penalty='l2' and loss='epsilon_insensitive' are not supported when dual=False, Parameters: penalty='l2', loss='epsilon_insensitive', dual=False\n"
     ]
    },
    {
     "name": "stderr",
     "output_type": "stream",
     "text": [
      "\r",
      "          \r",
      "\r",
      "          \r",
      "Optimization Progress:  35%|███▍      | 115/330 [04:56<24:45,  6.91s/pipeline]\r",
      "          \r",
      "\r",
      "          \r",
      "Optimization Progress:  35%|███▍      | 115/330 [04:56<24:45,  6.91s/pipeline]"
     ]
    },
    {
     "name": "stdout",
     "output_type": "stream",
     "text": [
      "_pre_test decorator: _random_mutation_operator: num_test=0 __init__() got an unexpected keyword argument 'max_depth'\n",
      "_pre_test decorator: _random_mutation_operator: num_test=1 __init__() got an unexpected keyword argument 'max_depth'\n"
     ]
    },
    {
     "name": "stderr",
     "output_type": "stream",
     "text": [
      "Optimization Progress:  36%|███▌      | 118/330 [04:56<20:53,  5.91s/pipeline]"
     ]
    },
    {
     "name": "stdout",
     "output_type": "stream",
     "text": [
      "Pipeline encountered that has previously been evaluated during the optimization process. Using the score from the previous evaluation.\n",
      "Pipeline encountered that has previously been evaluated during the optimization process. Using the score from the previous evaluation.\n",
      "Pipeline encountered that has previously been evaluated during the optimization process. Using the score from the previous evaluation.\n"
     ]
    },
    {
     "name": "stderr",
     "output_type": "stream",
     "text": [
      "Optimization Progress:  43%|████▎     | 143/330 [10:22<38:39, 12.40s/pipeline]  "
     ]
    },
    {
     "name": "stdout",
     "output_type": "stream",
     "text": [
      "Generation 4 - Current Pareto front scores:\n",
      "1\t461.383440835688\tLinearSVR(input_matrix, LinearSVR__C=10.0, LinearSVR__dual=True, LinearSVR__epsilon=0.1, LinearSVR__loss=epsilon_insensitive, LinearSVR__tol=0.001)\n",
      "2\t328.9109389284564\tElasticNetCV(PolynomialFeatures(input_matrix, PolynomialFeatures__degree=2, PolynomialFeatures__include_bias=DEFAULT, PolynomialFeatures__interaction_only=DEFAULT), ElasticNetCV__l1_ratio=0.05, ElasticNetCV__tol=0.1)\n",
      "\n"
     ]
    },
    {
     "name": "stderr",
     "output_type": "stream",
     "text": [
      "\r",
      "          \r",
      "\r",
      "          \r",
      "Optimization Progress:  43%|████▎     | 143/330 [10:23<38:39, 12.40s/pipeline]\r",
      "          \r",
      "\r",
      "          \r",
      "Optimization Progress:  43%|████▎     | 143/330 [10:23<38:39, 12.40s/pipeline]\r",
      "          \r",
      "\r",
      "          \r",
      "Optimization Progress:  43%|████▎     | 143/330 [10:23<38:39, 12.40s/pipeline]\r",
      "          \r",
      "\r",
      "          \r",
      "Optimization Progress:  43%|████▎     | 143/330 [10:23<38:39, 12.40s/pipeline]\r",
      "          \r",
      "\r",
      "          \r",
      "Optimization Progress:  43%|████▎     | 143/330 [10:23<38:39, 12.40s/pipeline]\r",
      "          \r",
      "\r",
      "          \r",
      "Optimization Progress:  43%|████▎     | 143/330 [10:23<38:39, 12.40s/pipeline]\r",
      "          \r",
      "\r",
      "          \r",
      "Optimization Progress:  43%|████▎     | 143/330 [10:23<38:39, 12.40s/pipeline]\r",
      "          \r",
      "\r",
      "          \r",
      "Optimization Progress:  43%|████▎     | 143/330 [10:23<38:39, 12.40s/pipeline]\r",
      "          \r",
      "\r",
      "          \r",
      "Optimization Progress:  43%|████▎     | 143/330 [10:23<38:39, 12.40s/pipeline]\r",
      "          \r",
      "\r",
      "          \r",
      "Optimization Progress:  43%|████▎     | 143/330 [10:23<38:39, 12.40s/pipeline]"
     ]
    },
    {
     "name": "stdout",
     "output_type": "stream",
     "text": [
      "_pre_test decorator: _random_mutation_operator: num_test=0 Unsupported set of arguments: The combination of penalty='l2' and loss='epsilon_insensitive' are not supported when dual=False, Parameters: penalty='l2', loss='epsilon_insensitive', dual=False\n",
      "_pre_test decorator: _random_mutation_operator: num_test=1 Unsupported set of arguments: The combination of penalty='l2' and loss='epsilon_insensitive' are not supported when dual=False, Parameters: penalty='l2', loss='epsilon_insensitive', dual=False\n",
      "_pre_test decorator: _random_mutation_operator: num_test=2 Unsupported set of arguments: The combination of penalty='l2' and loss='epsilon_insensitive' are not supported when dual=False, Parameters: penalty='l2', loss='epsilon_insensitive', dual=False\n",
      "_pre_test decorator: _random_mutation_operator: num_test=3 Unsupported set of arguments: The combination of penalty='l2' and loss='epsilon_insensitive' are not supported when dual=False, Parameters: penalty='l2', loss='epsilon_insensitive', dual=False\n",
      "_pre_test decorator: _random_mutation_operator: num_test=4 Unsupported set of arguments: The combination of penalty='l2' and loss='epsilon_insensitive' are not supported when dual=False, Parameters: penalty='l2', loss='epsilon_insensitive', dual=False\n",
      "_pre_test decorator: _random_mutation_operator: num_test=5 Unsupported set of arguments: The combination of penalty='l2' and loss='epsilon_insensitive' are not supported when dual=False, Parameters: penalty='l2', loss='epsilon_insensitive', dual=False\n",
      "_pre_test decorator: _random_mutation_operator: num_test=6 Unsupported set of arguments: The combination of penalty='l2' and loss='epsilon_insensitive' are not supported when dual=False, Parameters: penalty='l2', loss='epsilon_insensitive', dual=False\n",
      "_pre_test decorator: _random_mutation_operator: num_test=7 Unsupported set of arguments: The combination of penalty='l2' and loss='epsilon_insensitive' are not supported when dual=False, Parameters: penalty='l2', loss='epsilon_insensitive', dual=False\n",
      "_pre_test decorator: _random_mutation_operator: num_test=8 Unsupported set of arguments: The combination of penalty='l2' and loss='epsilon_insensitive' are not supported when dual=False, Parameters: penalty='l2', loss='epsilon_insensitive', dual=False\n",
      "_pre_test decorator: _random_mutation_operator: num_test=9 Unsupported set of arguments: The combination of penalty='l2' and loss='epsilon_insensitive' are not supported when dual=False, Parameters: penalty='l2', loss='epsilon_insensitive', dual=False\n"
     ]
    },
    {
     "name": "stderr",
     "output_type": "stream",
     "text": [
      "\r",
      "          \r",
      "\r",
      "          \r",
      "Optimization Progress:  43%|████▎     | 143/330 [10:23<38:39, 12.40s/pipeline]\r",
      "          \r",
      "\r",
      "          \r",
      "Optimization Progress:  43%|████▎     | 143/330 [10:23<38:39, 12.40s/pipeline]\r",
      "          \r",
      "\r",
      "          \r",
      "Optimization Progress:  43%|████▎     | 143/330 [10:23<38:39, 12.40s/pipeline]\r",
      "          \r",
      "\r",
      "          \r",
      "Optimization Progress:  43%|████▎     | 143/330 [10:23<38:39, 12.40s/pipeline]"
     ]
    },
    {
     "name": "stdout",
     "output_type": "stream",
     "text": [
      "_pre_test decorator: _random_mutation_operator: num_test=0 Found array with 0 feature(s) (shape=(50, 0)) while a minimum of 1 is required.\n",
      "_pre_test decorator: _random_mutation_operator: num_test=1 Found array with 0 feature(s) (shape=(50, 0)) while a minimum of 1 is required.\n",
      "_pre_test decorator: _random_mutation_operator: num_test=2 Found array with 0 feature(s) (shape=(50, 0)) while a minimum of 1 is required.\n",
      "_pre_test decorator: _random_mutation_operator: num_test=3 Found array with 0 feature(s) (shape=(50, 0)) while a minimum of 1 is required.\n"
     ]
    },
    {
     "name": "stderr",
     "output_type": "stream",
     "text": [
      "Optimization Progress:  45%|████▌     | 149/330 [10:25<27:17,  9.05s/pipeline]"
     ]
    },
    {
     "name": "stdout",
     "output_type": "stream",
     "text": [
      "Pipeline encountered that has previously been evaluated during the optimization process. Using the score from the previous evaluation.\n",
      "Pipeline encountered that has previously been evaluated during the optimization process. Using the score from the previous evaluation.\n",
      "Pipeline encountered that has previously been evaluated during the optimization process. Using the score from the previous evaluation.\n",
      "Pipeline encountered that has previously been evaluated during the optimization process. Using the score from the previous evaluation.\n",
      "Pipeline encountered that has previously been evaluated during the optimization process. Using the score from the previous evaluation.\n",
      "Pipeline encountered that has previously been evaluated during the optimization process. Using the score from the previous evaluation.\n",
      "Pipeline encountered that has previously been evaluated during the optimization process. Using the score from the previous evaluation.\n"
     ]
    },
    {
     "name": "stderr",
     "output_type": "stream",
     "text": [
      "Optimization Progress:  52%|█████▏    | 171/330 [10:43<04:22,  1.65s/pipeline]"
     ]
    },
    {
     "name": "stdout",
     "output_type": "stream",
     "text": [
      "Generation 5 - Current Pareto front scores:\n",
      "1\t459.43977912911157\tLinearSVR(input_matrix, LinearSVR__C=DEFAULT, LinearSVR__dual=True, LinearSVR__epsilon=0.1, LinearSVR__loss=epsilon_insensitive, LinearSVR__tol=0.0001)\n",
      "2\t328.9109389284564\tElasticNetCV(PolynomialFeatures(input_matrix, PolynomialFeatures__degree=2, PolynomialFeatures__include_bias=DEFAULT, PolynomialFeatures__interaction_only=DEFAULT), ElasticNetCV__l1_ratio=0.05, ElasticNetCV__tol=0.1)\n",
      "\n"
     ]
    },
    {
     "name": "stderr",
     "output_type": "stream",
     "text": [
      "Optimization Progress:  54%|█████▍    | 179/330 [10:50<08:22,  3.33s/pipeline]"
     ]
    },
    {
     "name": "stdout",
     "output_type": "stream",
     "text": [
      "Pipeline encountered that has previously been evaluated during the optimization process. Using the score from the previous evaluation.\n",
      "Pipeline encountered that has previously been evaluated during the optimization process. Using the score from the previous evaluation.\n",
      "Pipeline encountered that has previously been evaluated during the optimization process. Using the score from the previous evaluation.\n",
      "Pipeline encountered that has previously been evaluated during the optimization process. Using the score from the previous evaluation.\n",
      "Pipeline encountered that has previously been evaluated during the optimization process. Using the score from the previous evaluation.\n",
      "Pipeline encountered that has previously been evaluated during the optimization process. Using the score from the previous evaluation.\n",
      "Pipeline encountered that has previously been evaluated during the optimization process. Using the score from the previous evaluation.\n",
      "Pipeline encountered that has previously been evaluated during the optimization process. Using the score from the previous evaluation.\n"
     ]
    },
    {
     "name": "stderr",
     "output_type": "stream",
     "text": [
      "Optimization Progress:  60%|█████▉    | 197/330 [13:05<06:57,  3.14s/pipeline]"
     ]
    },
    {
     "name": "stdout",
     "output_type": "stream",
     "text": [
      "Generation 6 - Current Pareto front scores:\n",
      "1\t459.43977912911157\tLinearSVR(input_matrix, LinearSVR__C=DEFAULT, LinearSVR__dual=True, LinearSVR__epsilon=0.1, LinearSVR__loss=epsilon_insensitive, LinearSVR__tol=0.0001)\n",
      "2\t323.3329734475559\tRandomForestRegressor(FeatureAgglomeration(input_matrix, FeatureAgglomeration__affinity=manhattan, FeatureAgglomeration__linkage=average), RandomForestRegressor__bootstrap=False, RandomForestRegressor__max_features=0.2, RandomForestRegressor__min_samples_leaf=DEFAULT, RandomForestRegressor__min_samples_split=6, RandomForestRegressor__n_estimators=100)\n",
      "\n"
     ]
    },
    {
     "name": "stderr",
     "output_type": "stream",
     "text": [
      "\r",
      "          \r",
      "\r",
      "          \r",
      "Optimization Progress:  60%|█████▉    | 197/330 [13:05<06:57,  3.14s/pipeline]\r",
      "          \r",
      "\r",
      "          \r",
      "Optimization Progress:  60%|█████▉    | 197/330 [13:05<06:57,  3.14s/pipeline]\r",
      "          \r",
      "\r",
      "          \r",
      "Optimization Progress:  60%|█████▉    | 197/330 [13:05<06:57,  3.14s/pipeline]\r",
      "          \r",
      "\r",
      "          \r",
      "Optimization Progress:  60%|█████▉    | 197/330 [13:05<06:57,  3.14s/pipeline]"
     ]
    },
    {
     "name": "stdout",
     "output_type": "stream",
     "text": [
      "_pre_test decorator: _random_mutation_operator: num_test=0 manhattan was provided as affinity. Ward can only work with euclidean distances.\n",
      "_pre_test decorator: _random_mutation_operator: num_test=1 manhattan was provided as affinity. Ward can only work with euclidean distances.\n",
      "_pre_test decorator: _random_mutation_operator: num_test=2 manhattan was provided as affinity. Ward can only work with euclidean distances.\n",
      "_pre_test decorator: _random_mutation_operator: num_test=3 manhattan was provided as affinity. Ward can only work with euclidean distances.\n"
     ]
    },
    {
     "name": "stderr",
     "output_type": "stream",
     "text": [
      "Optimization Progress:  61%|██████    | 200/330 [13:06<05:19,  2.46s/pipeline]"
     ]
    },
    {
     "name": "stdout",
     "output_type": "stream",
     "text": [
      "Pipeline encountered that has previously been evaluated during the optimization process. Using the score from the previous evaluation.\n",
      "Pipeline encountered that has previously been evaluated during the optimization process. Using the score from the previous evaluation.\n",
      "Pipeline encountered that has previously been evaluated during the optimization process. Using the score from the previous evaluation.\n",
      "Pipeline encountered that has previously been evaluated during the optimization process. Using the score from the previous evaluation.\n"
     ]
    },
    {
     "name": "stderr",
     "output_type": "stream",
     "text": [
      "Optimization Progress:  68%|██████▊   | 223/330 [14:02<04:57,  2.78s/pipeline]"
     ]
    },
    {
     "name": "stdout",
     "output_type": "stream",
     "text": [
      "Generation 7 - Current Pareto front scores:\n",
      "1\t387.5134115750846\tLinearSVR(input_matrix, LinearSVR__C=5.0, LinearSVR__dual=DEFAULT, LinearSVR__epsilon=1.0, LinearSVR__loss=DEFAULT, LinearSVR__tol=0.001)\n",
      "2\t323.3329734475559\tRandomForestRegressor(FeatureAgglomeration(input_matrix, FeatureAgglomeration__affinity=manhattan, FeatureAgglomeration__linkage=average), RandomForestRegressor__bootstrap=False, RandomForestRegressor__max_features=0.2, RandomForestRegressor__min_samples_leaf=DEFAULT, RandomForestRegressor__min_samples_split=6, RandomForestRegressor__n_estimators=100)\n",
      "\n"
     ]
    },
    {
     "name": "stderr",
     "output_type": "stream",
     "text": [
      "          on Progress:  68%|██████▊   | 223/330 [14:03<03:47,  2.12s/pipeline]"
     ]
    },
    {
     "name": "stdout",
     "output_type": "stream",
     "text": [
      "_pre_test decorator: _random_mutation_operator: num_test=0 Found array with 0 feature(s) (shape=(50, 0)) while a minimum of 1 is required.\n",
      "_pre_test decorator: _random_mutation_operator: num_test=1 Found array with 0 feature(s) (shape=(50, 0)) while a minimum of 1 is required.\n",
      "_pre_test decorator: _random_mutation_operator: num_test=2 Found array with 0 feature(s) (shape=(50, 0)) while a minimum of 1 is required.\n",
      "_pre_test decorator: _random_mutation_operator: num_test=3 Found array with 0 feature(s) (shape=(50, 0)) while a minimum of 1 is required.\n",
      "Pipeline encountered that has previously been evaluated during the optimization process. Using the score from the previous evaluation.\n"
     ]
    },
    {
     "name": "stderr",
     "output_type": "stream",
     "text": [
      "Optimization Progress:  76%|███████▌  | 250/330 [14:15<00:56,  1.40pipeline/s]"
     ]
    },
    {
     "name": "stdout",
     "output_type": "stream",
     "text": [
      "Pipeline encountered that has previously been evaluated during the optimization process. Using the score from the previous evaluation.\n",
      "Pipeline encountered that has previously been evaluated during the optimization process. Using the score from the previous evaluation.\n",
      "Generation 8 - Current Pareto front scores:\n",
      "1\t387.5134115750846\tLinearSVR(input_matrix, LinearSVR__C=5.0, LinearSVR__dual=DEFAULT, LinearSVR__epsilon=1.0, LinearSVR__loss=DEFAULT, LinearSVR__tol=0.001)\n",
      "2\t323.3329734475559\tRandomForestRegressor(FeatureAgglomeration(input_matrix, FeatureAgglomeration__affinity=manhattan, FeatureAgglomeration__linkage=average), RandomForestRegressor__bootstrap=False, RandomForestRegressor__max_features=0.2, RandomForestRegressor__min_samples_leaf=DEFAULT, RandomForestRegressor__min_samples_split=6, RandomForestRegressor__n_estimators=100)\n",
      "\n"
     ]
    },
    {
     "name": "stderr",
     "output_type": "stream",
     "text": [
      "\r",
      "          \r",
      "\r",
      "          \r",
      "Optimization Progress:  76%|███████▌  | 250/330 [14:15<00:56,  1.40pipeline/s]\r",
      "          \r",
      "\r",
      "          \r",
      "Optimization Progress:  76%|███████▌  | 250/330 [14:15<00:56,  1.40pipeline/s]\r",
      "          \r",
      "\r",
      "          \r",
      "Optimization Progress:  76%|███████▌  | 250/330 [14:15<00:56,  1.40pipeline/s]\r",
      "          \r",
      "\r",
      "          \r",
      "Optimization Progress:  76%|███████▌  | 250/330 [14:15<00:56,  1.40pipeline/s]\r",
      "          \r",
      "\r",
      "          \r",
      "Optimization Progress:  76%|███████▌  | 250/330 [14:15<00:56,  1.40pipeline/s]\r",
      "          \r",
      "\r",
      "          \r",
      "Optimization Progress:  76%|███████▌  | 250/330 [14:15<00:56,  1.40pipeline/s]\r",
      "          \r",
      "\r",
      "          \r",
      "Optimization Progress:  76%|███████▌  | 250/330 [14:15<00:56,  1.40pipeline/s]\r",
      "          \r",
      "\r",
      "          \r",
      "Optimization Progress:  76%|███████▌  | 250/330 [14:15<00:56,  1.40pipeline/s]\r",
      "          \r",
      "\r",
      "          \r",
      "Optimization Progress:  76%|███████▌  | 250/330 [14:15<00:56,  1.40pipeline/s]\r",
      "          \r",
      "\r",
      "          \r",
      "Optimization Progress:  76%|███████▌  | 250/330 [14:15<00:56,  1.40pipeline/s]\r",
      "          \r",
      "\r",
      "          \r",
      "Optimization Progress:  76%|███████▌  | 250/330 [14:15<00:56,  1.40pipeline/s]\r",
      "          \r",
      "\r",
      "          \r",
      "Optimization Progress:  76%|███████▌  | 250/330 [14:15<00:56,  1.40pipeline/s]\r",
      "          \r",
      "\r",
      "          \r",
      "Optimization Progress:  76%|███████▌  | 250/330 [14:15<00:56,  1.40pipeline/s]\r",
      "          \r",
      "\r",
      "          \r",
      "Optimization Progress:  76%|███████▌  | 250/330 [14:15<00:56,  1.40pipeline/s]\r",
      "          \r",
      "\r",
      "          \r",
      "Optimization Progress:  76%|███████▌  | 250/330 [14:15<00:56,  1.40pipeline/s]\r",
      "          \r",
      "\r",
      "          \r",
      "Optimization Progress:  76%|███████▌  | 250/330 [14:15<00:56,  1.40pipeline/s]\r",
      "          \r",
      "\r",
      "          \r",
      "Optimization Progress:  76%|███████▌  | 250/330 [14:15<00:56,  1.40pipeline/s]\r",
      "          \r",
      "\r",
      "          \r",
      "Optimization Progress:  76%|███████▌  | 250/330 [14:15<00:56,  1.40pipeline/s]\r",
      "          \r",
      "\r",
      "          \r",
      "Optimization Progress:  76%|███████▌  | 250/330 [14:15<00:56,  1.40pipeline/s]\r",
      "          \r",
      "\r",
      "          \r",
      "Optimization Progress:  76%|███████▌  | 250/330 [14:15<00:56,  1.40pipeline/s]\r",
      "          \r",
      "\r",
      "          \r",
      "Optimization Progress:  76%|███████▌  | 250/330 [14:15<00:56,  1.40pipeline/s]\r",
      "          \r",
      "\r",
      "          "
     ]
    },
    {
     "name": "stdout",
     "output_type": "stream",
     "text": [
      "_pre_test decorator: _random_mutation_operator: num_test=0 Unsupported set of arguments: The combination of penalty='l2' and loss='epsilon_insensitive' are not supported when dual=False, Parameters: penalty='l2', loss='epsilon_insensitive', dual=False\n",
      "_pre_test decorator: _random_mutation_operator: num_test=1 Unsupported set of arguments: The combination of penalty='l2' and loss='epsilon_insensitive' are not supported when dual=False, Parameters: penalty='l2', loss='epsilon_insensitive', dual=False\n",
      "_pre_test decorator: _random_mutation_operator: num_test=2 Unsupported set of arguments: The combination of penalty='l2' and loss='epsilon_insensitive' are not supported when dual=False, Parameters: penalty='l2', loss='epsilon_insensitive', dual=False\n",
      "_pre_test decorator: _random_mutation_operator: num_test=3 Unsupported set of arguments: The combination of penalty='l2' and loss='epsilon_insensitive' are not supported when dual=False, Parameters: penalty='l2', loss='epsilon_insensitive', dual=False\n",
      "_pre_test decorator: _random_mutation_operator: num_test=4 Unsupported set of arguments: The combination of penalty='l2' and loss='epsilon_insensitive' are not supported when dual=False, Parameters: penalty='l2', loss='epsilon_insensitive', dual=False\n",
      "_pre_test decorator: _random_mutation_operator: num_test=5 Unsupported set of arguments: The combination of penalty='l2' and loss='epsilon_insensitive' are not supported when dual=False, Parameters: penalty='l2', loss='epsilon_insensitive', dual=False\n",
      "_pre_test decorator: _random_mutation_operator: num_test=0 Unsupported set of arguments: The combination of penalty='l2' and loss='epsilon_insensitive' are not supported when dual=False, Parameters: penalty='l2', loss='epsilon_insensitive', dual=False\n",
      "_pre_test decorator: _random_mutation_operator: num_test=1 Unsupported set of arguments: The combination of penalty='l2' and loss='epsilon_insensitive' are not supported when dual=False, Parameters: penalty='l2', loss='epsilon_insensitive', dual=False\n",
      "_pre_test decorator: _random_mutation_operator: num_test=2 Unsupported set of arguments: The combination of penalty='l2' and loss='epsilon_insensitive' are not supported when dual=False, Parameters: penalty='l2', loss='epsilon_insensitive', dual=False\n",
      "_pre_test decorator: _random_mutation_operator: num_test=3 Unsupported set of arguments: The combination of penalty='l2' and loss='epsilon_insensitive' are not supported when dual=False, Parameters: penalty='l2', loss='epsilon_insensitive', dual=False\n",
      "_pre_test decorator: _random_mutation_operator: num_test=4 Found array with 0 feature(s) (shape=(50, 0)) while a minimum of 1 is required.\n",
      "_pre_test decorator: _random_mutation_operator: num_test=5 Found array with 0 feature(s) (shape=(50, 0)) while a minimum of 1 is required.\n",
      "_pre_test decorator: _random_mutation_operator: num_test=6 Found array with 0 feature(s) (shape=(50, 0)) while a minimum of 1 is required.\n",
      "_pre_test decorator: _random_mutation_operator: num_test=7 Unsupported set of arguments: The combination of penalty='l2' and loss='epsilon_insensitive' are not supported when dual=False, Parameters: penalty='l2', loss='epsilon_insensitive', dual=False\n",
      "_pre_test decorator: _random_mutation_operator: num_test=8 Unsupported set of arguments: The combination of penalty='l2' and loss='epsilon_insensitive' are not supported when dual=False, Parameters: penalty='l2', loss='epsilon_insensitive', dual=False\n",
      "_pre_test decorator: _random_mutation_operator: num_test=9 Unsupported set of arguments: The combination of penalty='l2' and loss='epsilon_insensitive' are not supported when dual=False, Parameters: penalty='l2', loss='epsilon_insensitive', dual=False\n",
      "_pre_test decorator: _random_mutation_operator: num_test=0 __init__() got an unexpected keyword argument 'max_depth'\n",
      "_pre_test decorator: _random_mutation_operator: num_test=1 __init__() got an unexpected keyword argument 'max_depth'\n",
      "_pre_test decorator: _random_mutation_operator: num_test=2 __init__() got an unexpected keyword argument 'max_depth'\n",
      "_pre_test decorator: _random_mutation_operator: num_test=3 __init__() got an unexpected keyword argument 'max_depth'\n",
      "_pre_test decorator: _random_mutation_operator: num_test=4 __init__() got an unexpected keyword argument 'max_depth'\n",
      "_pre_test decorator: _random_mutation_operator: num_test=5 __init__() got an unexpected keyword argument 'max_depth'\n"
     ]
    },
    {
     "name": "stderr",
     "output_type": "stream",
     "text": [
      "Optimization Progress:  78%|███████▊  | 257/330 [14:15<00:40,  1.79pipeline/s]"
     ]
    },
    {
     "name": "stdout",
     "output_type": "stream",
     "text": [
      "_pre_test decorator: _random_mutation_operator: num_test=6 __init__() got an unexpected keyword argument 'max_depth'\n",
      "_pre_test decorator: _random_mutation_operator: num_test=7 __init__() got an unexpected keyword argument 'max_depth'\n",
      "_pre_test decorator: _random_mutation_operator: num_test=8 __init__() got an unexpected keyword argument 'max_depth'\n",
      "_pre_test decorator: _random_mutation_operator: num_test=9 __init__() got an unexpected keyword argument 'max_depth'\n",
      "_pre_test decorator: _random_mutation_operator: num_test=0 Unsupported set of arguments: The combination of penalty='l2' and loss='epsilon_insensitive' are not supported when dual=False, Parameters: penalty='l2', loss='epsilon_insensitive', dual=False\n",
      "_pre_test decorator: _random_mutation_operator: num_test=1 Unsupported set of arguments: The combination of penalty='l2' and loss='epsilon_insensitive' are not supported when dual=False, Parameters: penalty='l2', loss='epsilon_insensitive', dual=False\n",
      "_pre_test decorator: _random_mutation_operator: num_test=2 Unsupported set of arguments: The combination of penalty='l2' and loss='epsilon_insensitive' are not supported when dual=False, Parameters: penalty='l2', loss='epsilon_insensitive', dual=False\n",
      "_pre_test decorator: _random_mutation_operator: num_test=0 Found array with 0 feature(s) (shape=(50, 0)) while a minimum of 1 is required.\n",
      "Pipeline encountered that has previously been evaluated during the optimization process. Using the score from the previous evaluation.\n",
      "Pipeline encountered that has previously been evaluated during the optimization process. Using the score from the previous evaluation.\n",
      "Pipeline encountered that has previously been evaluated during the optimization process. Using the score from the previous evaluation.\n",
      "Pipeline encountered that has previously been evaluated during the optimization process. Using the score from the previous evaluation.\n",
      "Pipeline encountered that has previously been evaluated during the optimization process. Using the score from the previous evaluation.\n",
      "Pipeline encountered that has previously been evaluated during the optimization process. Using the score from the previous evaluation.\n",
      "Pipeline encountered that has previously been evaluated during the optimization process. Using the score from the previous evaluation.\n"
     ]
    },
    {
     "name": "stderr",
     "output_type": "stream",
     "text": [
      "Optimization Progress:  84%|████████▍ | 278/330 [14:24<00:24,  2.12pipeline/s]"
     ]
    },
    {
     "name": "stdout",
     "output_type": "stream",
     "text": [
      "Generation 9 - Current Pareto front scores:\n",
      "1\t387.5134115750846\tLinearSVR(input_matrix, LinearSVR__C=5.0, LinearSVR__dual=DEFAULT, LinearSVR__epsilon=1.0, LinearSVR__loss=DEFAULT, LinearSVR__tol=0.001)\n",
      "2\t323.3329734475559\tRandomForestRegressor(FeatureAgglomeration(input_matrix, FeatureAgglomeration__affinity=manhattan, FeatureAgglomeration__linkage=average), RandomForestRegressor__bootstrap=False, RandomForestRegressor__max_features=0.2, RandomForestRegressor__min_samples_leaf=DEFAULT, RandomForestRegressor__min_samples_split=6, RandomForestRegressor__n_estimators=100)\n",
      "\n"
     ]
    },
    {
     "name": "stderr",
     "output_type": "stream",
     "text": [
      "\r",
      "          \r",
      "\r",
      "          \r",
      "Optimization Progress:  84%|████████▍ | 278/330 [14:25<00:24,  2.12pipeline/s]\r",
      "          \r",
      "\r",
      "          \r",
      "Optimization Progress:  84%|████████▍ | 278/330 [14:25<00:24,  2.12pipeline/s]\r",
      "          \r",
      "\r",
      "          \r",
      "Optimization Progress:  84%|████████▍ | 278/330 [14:25<00:24,  2.12pipeline/s]\r",
      "          \r",
      "\r",
      "          \r",
      "Optimization Progress:  84%|████████▍ | 278/330 [14:25<00:24,  2.12pipeline/s]\r",
      "          \r",
      "\r",
      "          \r",
      "Optimization Progress:  84%|████████▍ | 278/330 [14:25<00:24,  2.12pipeline/s]\r",
      "          \r",
      "\r",
      "          \r",
      "Optimization Progress:  84%|████████▍ | 278/330 [14:25<00:24,  2.12pipeline/s]\r",
      "          \r",
      "\r",
      "          \r",
      "Optimization Progress:  84%|████████▍ | 278/330 [14:25<00:24,  2.12pipeline/s]\r",
      "          \r",
      "\r",
      "          \r",
      "Optimization Progress:  84%|████████▍ | 278/330 [14:25<00:24,  2.12pipeline/s]\r",
      "          \r",
      "\r",
      "          \r",
      "Optimization Progress:  84%|████████▍ | 278/330 [14:25<00:24,  2.12pipeline/s]\r",
      "          \r",
      "\r",
      "          \r",
      "Optimization Progress:  84%|████████▍ | 278/330 [14:25<00:24,  2.12pipeline/s]"
     ]
    },
    {
     "name": "stdout",
     "output_type": "stream",
     "text": [
      "_pre_test decorator: _random_mutation_operator: num_test=0 Unsupported set of arguments: The combination of penalty='l2' and loss='epsilon_insensitive' are not supported when dual=False, Parameters: penalty='l2', loss='epsilon_insensitive', dual=False\n",
      "_pre_test decorator: _random_mutation_operator: num_test=1 Unsupported set of arguments: The combination of penalty='l2' and loss='epsilon_insensitive' are not supported when dual=False, Parameters: penalty='l2', loss='epsilon_insensitive', dual=False\n",
      "_pre_test decorator: _random_mutation_operator: num_test=2 Unsupported set of arguments: The combination of penalty='l2' and loss='epsilon_insensitive' are not supported when dual=False, Parameters: penalty='l2', loss='epsilon_insensitive', dual=False\n",
      "_pre_test decorator: _random_mutation_operator: num_test=3 Unsupported set of arguments: The combination of penalty='l2' and loss='epsilon_insensitive' are not supported when dual=False, Parameters: penalty='l2', loss='epsilon_insensitive', dual=False\n",
      "_pre_test decorator: _random_mutation_operator: num_test=4 Unsupported set of arguments: The combination of penalty='l2' and loss='epsilon_insensitive' are not supported when dual=False, Parameters: penalty='l2', loss='epsilon_insensitive', dual=False\n",
      "_pre_test decorator: _random_mutation_operator: num_test=5 Unsupported set of arguments: The combination of penalty='l2' and loss='epsilon_insensitive' are not supported when dual=False, Parameters: penalty='l2', loss='epsilon_insensitive', dual=False\n",
      "_pre_test decorator: _random_mutation_operator: num_test=6 Unsupported set of arguments: The combination of penalty='l2' and loss='epsilon_insensitive' are not supported when dual=False, Parameters: penalty='l2', loss='epsilon_insensitive', dual=False\n",
      "_pre_test decorator: _random_mutation_operator: num_test=7 Unsupported set of arguments: The combination of penalty='l2' and loss='epsilon_insensitive' are not supported when dual=False, Parameters: penalty='l2', loss='epsilon_insensitive', dual=False\n",
      "_pre_test decorator: _random_mutation_operator: num_test=8 Unsupported set of arguments: The combination of penalty='l2' and loss='epsilon_insensitive' are not supported when dual=False, Parameters: penalty='l2', loss='epsilon_insensitive', dual=False\n",
      "_pre_test decorator: _random_mutation_operator: num_test=9 Unsupported set of arguments: The combination of penalty='l2' and loss='epsilon_insensitive' are not supported when dual=False, Parameters: penalty='l2', loss='epsilon_insensitive', dual=False\n"
     ]
    },
    {
     "name": "stderr",
     "output_type": "stream",
     "text": [
      "          on Progress:  85%|████████▌ | 281/330 [14:25<00:22,  2.15pipeline/s]\r"
     ]
    },
    {
     "name": "stdout",
     "output_type": "stream",
     "text": [
      "Pipeline encountered that has previously been evaluated during the optimization process. Using the score from the previous evaluation.\n",
      "Pipeline encountered that has previously been evaluated during the optimization process. Using the score from the previous evaluation.\n",
      "Pipeline encountered that has previously been evaluated during the optimization process. Using the score from the previous evaluation.\n",
      "Pipeline encountered that has previously been evaluated during the optimization process. Using the score from the previous evaluation.\n",
      "Pipeline encountered that has previously been evaluated during the optimization process. Using the score from the previous evaluation.\n"
     ]
    },
    {
     "name": "stderr",
     "output_type": "stream",
     "text": [
      "                                                                              \r"
     ]
    },
    {
     "name": "stdout",
     "output_type": "stream",
     "text": [
      "Pipeline encountered that has previously been evaluated during the optimization process. Using the score from the previous evaluation.\n",
      "Generation 10 - Current Pareto front scores:\n",
      "1\t334.3731524079625\tLinearSVR(input_matrix, LinearSVR__C=5.0, LinearSVR__dual=DEFAULT, LinearSVR__epsilon=0.001, LinearSVR__loss=DEFAULT, LinearSVR__tol=DEFAULT)\n",
      "2\t323.3329734475559\tRandomForestRegressor(FeatureAgglomeration(input_matrix, FeatureAgglomeration__affinity=manhattan, FeatureAgglomeration__linkage=average), RandomForestRegressor__bootstrap=False, RandomForestRegressor__max_features=0.2, RandomForestRegressor__min_samples_leaf=DEFAULT, RandomForestRegressor__min_samples_split=6, RandomForestRegressor__n_estimators=100)\n",
      "\n",
      "8.72787504222\n"
     ]
    }
   ],
   "source": [
    "# Create a TPOTClassifier that will run for 10 generations\n",
    "\n",
    "pipeline_optimizer = TPOTRegressor(generations=10, population_size=30, cv=5,\n",
    "                                    random_state=42, verbosity=3) \n",
    "\n",
    "# Fit this baby! Takes a long time to run\n",
    "\n",
    "pipeline_optimizer.fit(training_data, labels)  \n",
    "  \n",
    "# See what kind of score we get\n",
    "print(pipeline_optimizer.score(training_data, labels))"
   ]
  },
  {
   "cell_type": "code",
   "execution_count": 14,
   "metadata": {
    "collapsed": true
   },
   "outputs": [],
   "source": [
    "pipeline_optimizer.export('tpot_exported_pipeline3.py')"
   ]
  },
  {
   "cell_type": "code",
   "execution_count": 15,
   "metadata": {},
   "outputs": [
    {
     "name": "stdout",
     "output_type": "stream",
     "text": [
      "8.72787504222\n"
     ]
    }
   ],
   "source": [
    "print(pipeline_optimizer.score(training_data, labels))"
   ]
  },
  {
   "cell_type": "code",
   "execution_count": 16,
   "metadata": {
    "collapsed": true
   },
   "outputs": [],
   "source": [
    "# Split values and labels arrays into random train and test subsets (20% set aside for testing)\n",
    "X_train, X_test, y_train, y_test = train_test_split(training_data,labels,test_size=0.2)"
   ]
  },
  {
   "cell_type": "code",
   "execution_count": 17,
   "metadata": {},
   "outputs": [
    {
     "name": "stdout",
     "output_type": "stream",
     "text": [
      "5.60732752444\n"
     ]
    }
   ],
   "source": [
    "print(pipeline_optimizer.score(X_test, y_test))"
   ]
  },
  {
   "cell_type": "code",
   "execution_count": null,
   "metadata": {
    "collapsed": true
   },
   "outputs": [],
   "source": []
  }
 ],
 "metadata": {
  "kernelspec": {
   "display_name": "Python 3",
   "language": "python",
   "name": "python3"
  }
 },
 "nbformat": 4,
 "nbformat_minor": 2
}
