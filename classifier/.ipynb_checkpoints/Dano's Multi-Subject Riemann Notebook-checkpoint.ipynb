{
 "cells": [
  {
   "cell_type": "markdown",
   "metadata": {},
   "source": [
    "# Dano's pyRiemann  notebook\n",
    "\n",
    "In this notebook, I will try and use pyRiemann and data from all subjects to predict cognitive performance from EEG data in Neurodoro"
   ]
  },
  {
   "cell_type": "code",
   "execution_count": 49,
   "metadata": {
    "collapsed": true
   },
   "outputs": [],
   "source": [
    "import pandas as pd\n",
    "import numpy as np\n",
    "import matplotlib.pyplot as plt\n",
    "import seaborn as sns\n",
    "import sklearn as sk\n",
    "from os import walk\n",
    "from os import listdir\n",
    "from os.path import isfile, join\n",
    "from sklearn.model_selection import train_test_split\n",
    "from tpot import TPOTRegressor\n",
    "from math import sqrt\n",
    "import pyriemann\n",
    "from mne import create_info, concatenate_raws\n",
    "from mne.io import RawArray\n",
    "from mne.channels import read_montage\n",
    "from glob import glob\n",
    "from pyriemann.utils.viz import plt, plot_confusion_matrix, plot_embedding\n",
    "from pyriemann.estimation import Covariances, HankelCovariances\n",
    "from pyriemann.tangentspace import TangentSpace\n",
    "from pyriemann.clustering import Potato"
   ]
  },
  {
   "cell_type": "markdown",
   "metadata": {},
   "source": [
    "Steps\n",
    "\n",
    "1. Concat all raw datasets together\n",
    "2. Use Knearest Neighbors in pipeline"
   ]
  },
  {
   "cell_type": "code",
   "execution_count": 108,
   "metadata": {
    "scrolled": false
   },
   "outputs": [],
   "source": [
    "# Here are the good raw datasets\n",
    "\n",
    "monica = pd.read_csv(\"../muse-data/MonicaGRawEEG0.csv\", header=0, index_col=False)\n",
    "monica = monica[:38000]\n",
    "\n",
    "dano1 = pd.read_csv(\"../muse-data/DanoMondayRawEEG0.csv\", header=0, index_col=False)\n",
    "dano2 = pd.read_csv(\"../muse-data/Dano-08-11-RawEEG0.csv\", header=0, index_col=False)\n",
    "dano3 = pd.read_csv(\"../muse-data/Dano-08-11-RawEEG3.csv\", header=0, index_col=False)\n",
    "\n",
    "\n"
   ]
  },
  {
   "cell_type": "code",
   "execution_count": 120,
   "metadata": {},
   "outputs": [
    {
     "data": {
      "text/html": [
       "<div>\n",
       "<style>\n",
       "    .dataframe thead tr:only-child th {\n",
       "        text-align: right;\n",
       "    }\n",
       "\n",
       "    .dataframe thead th {\n",
       "        text-align: left;\n",
       "    }\n",
       "\n",
       "    .dataframe tbody tr th {\n",
       "        vertical-align: top;\n",
       "    }\n",
       "</style>\n",
       "<table border=\"1\" class=\"dataframe\">\n",
       "  <thead>\n",
       "    <tr style=\"text-align: right;\">\n",
       "      <th></th>\n",
       "      <th>Difficulty</th>\n",
       "      <th>Performance</th>\n",
       "      <th>Channel 1</th>\n",
       "      <th>Channel 2</th>\n",
       "      <th>Channel 3</th>\n",
       "      <th>Channel 4</th>\n",
       "    </tr>\n",
       "  </thead>\n",
       "  <tbody>\n",
       "    <tr>\n",
       "      <th>0</th>\n",
       "      <td>0</td>\n",
       "      <td>0</td>\n",
       "      <td>487.232990</td>\n",
       "      <td>569.475538</td>\n",
       "      <td>575.156767</td>\n",
       "      <td>479.387484</td>\n",
       "    </tr>\n",
       "    <tr>\n",
       "      <th>1</th>\n",
       "      <td>0</td>\n",
       "      <td>0</td>\n",
       "      <td>456.075779</td>\n",
       "      <td>522.673674</td>\n",
       "      <td>514.112317</td>\n",
       "      <td>409.617701</td>\n",
       "    </tr>\n",
       "    <tr>\n",
       "      <th>2</th>\n",
       "      <td>0</td>\n",
       "      <td>0</td>\n",
       "      <td>835.957052</td>\n",
       "      <td>962.667141</td>\n",
       "      <td>952.051364</td>\n",
       "      <td>778.598121</td>\n",
       "    </tr>\n",
       "    <tr>\n",
       "      <th>3</th>\n",
       "      <td>0</td>\n",
       "      <td>0</td>\n",
       "      <td>912.851281</td>\n",
       "      <td>1057.227213</td>\n",
       "      <td>1054.159345</td>\n",
       "      <td>870.660624</td>\n",
       "    </tr>\n",
       "    <tr>\n",
       "      <th>4</th>\n",
       "      <td>0</td>\n",
       "      <td>0</td>\n",
       "      <td>706.852916</td>\n",
       "      <td>802.325481</td>\n",
       "      <td>789.910665</td>\n",
       "      <td>659.249648</td>\n",
       "    </tr>\n",
       "    <tr>\n",
       "      <th>5</th>\n",
       "      <td>0</td>\n",
       "      <td>0</td>\n",
       "      <td>617.613835</td>\n",
       "      <td>711.468400</td>\n",
       "      <td>711.485316</td>\n",
       "      <td>585.479840</td>\n",
       "    </tr>\n",
       "    <tr>\n",
       "      <th>6</th>\n",
       "      <td>0</td>\n",
       "      <td>0</td>\n",
       "      <td>717.877179</td>\n",
       "      <td>818.589342</td>\n",
       "      <td>829.912818</td>\n",
       "      <td>704.245968</td>\n",
       "    </tr>\n",
       "    <tr>\n",
       "      <th>7</th>\n",
       "      <td>0</td>\n",
       "      <td>0</td>\n",
       "      <td>776.271770</td>\n",
       "      <td>870.050917</td>\n",
       "      <td>878.268466</td>\n",
       "      <td>749.776457</td>\n",
       "    </tr>\n",
       "    <tr>\n",
       "      <th>8</th>\n",
       "      <td>0</td>\n",
       "      <td>0</td>\n",
       "      <td>759.758949</td>\n",
       "      <td>852.210667</td>\n",
       "      <td>866.282786</td>\n",
       "      <td>709.933029</td>\n",
       "    </tr>\n",
       "    <tr>\n",
       "      <th>9</th>\n",
       "      <td>0</td>\n",
       "      <td>0</td>\n",
       "      <td>775.530536</td>\n",
       "      <td>856.145420</td>\n",
       "      <td>876.778855</td>\n",
       "      <td>761.307720</td>\n",
       "    </tr>\n",
       "    <tr>\n",
       "      <th>10</th>\n",
       "      <td>0</td>\n",
       "      <td>0</td>\n",
       "      <td>773.668625</td>\n",
       "      <td>850.172122</td>\n",
       "      <td>889.382071</td>\n",
       "      <td>774.591492</td>\n",
       "    </tr>\n",
       "    <tr>\n",
       "      <th>11</th>\n",
       "      <td>0</td>\n",
       "      <td>0</td>\n",
       "      <td>737.017565</td>\n",
       "      <td>806.099219</td>\n",
       "      <td>836.884379</td>\n",
       "      <td>718.940747</td>\n",
       "    </tr>\n",
       "    <tr>\n",
       "      <th>12</th>\n",
       "      <td>0</td>\n",
       "      <td>0</td>\n",
       "      <td>770.125212</td>\n",
       "      <td>825.767108</td>\n",
       "      <td>841.247670</td>\n",
       "      <td>749.585301</td>\n",
       "    </tr>\n",
       "    <tr>\n",
       "      <th>13</th>\n",
       "      <td>0</td>\n",
       "      <td>0</td>\n",
       "      <td>837.240895</td>\n",
       "      <td>900.638539</td>\n",
       "      <td>932.751603</td>\n",
       "      <td>829.776683</td>\n",
       "    </tr>\n",
       "    <tr>\n",
       "      <th>14</th>\n",
       "      <td>0</td>\n",
       "      <td>0</td>\n",
       "      <td>820.368564</td>\n",
       "      <td>884.905947</td>\n",
       "      <td>919.303346</td>\n",
       "      <td>822.585561</td>\n",
       "    </tr>\n",
       "    <tr>\n",
       "      <th>15</th>\n",
       "      <td>0</td>\n",
       "      <td>0</td>\n",
       "      <td>753.970934</td>\n",
       "      <td>802.952499</td>\n",
       "      <td>849.500329</td>\n",
       "      <td>756.142849</td>\n",
       "    </tr>\n",
       "    <tr>\n",
       "      <th>16</th>\n",
       "      <td>0</td>\n",
       "      <td>0</td>\n",
       "      <td>764.115851</td>\n",
       "      <td>805.928611</td>\n",
       "      <td>873.933602</td>\n",
       "      <td>776.038468</td>\n",
       "    </tr>\n",
       "    <tr>\n",
       "      <th>17</th>\n",
       "      <td>0</td>\n",
       "      <td>0</td>\n",
       "      <td>846.225761</td>\n",
       "      <td>886.976038</td>\n",
       "      <td>947.087685</td>\n",
       "      <td>859.959261</td>\n",
       "    </tr>\n",
       "    <tr>\n",
       "      <th>18</th>\n",
       "      <td>0</td>\n",
       "      <td>0</td>\n",
       "      <td>872.261564</td>\n",
       "      <td>902.230945</td>\n",
       "      <td>941.794158</td>\n",
       "      <td>870.993591</td>\n",
       "    </tr>\n",
       "    <tr>\n",
       "      <th>19</th>\n",
       "      <td>0</td>\n",
       "      <td>0</td>\n",
       "      <td>815.882507</td>\n",
       "      <td>835.736788</td>\n",
       "      <td>868.105569</td>\n",
       "      <td>816.962060</td>\n",
       "    </tr>\n",
       "    <tr>\n",
       "      <th>20</th>\n",
       "      <td>0</td>\n",
       "      <td>0</td>\n",
       "      <td>795.214364</td>\n",
       "      <td>814.006341</td>\n",
       "      <td>858.346357</td>\n",
       "      <td>811.657223</td>\n",
       "    </tr>\n",
       "    <tr>\n",
       "      <th>21</th>\n",
       "      <td>0</td>\n",
       "      <td>0</td>\n",
       "      <td>828.701863</td>\n",
       "      <td>864.068570</td>\n",
       "      <td>909.616460</td>\n",
       "      <td>850.238313</td>\n",
       "    </tr>\n",
       "    <tr>\n",
       "      <th>22</th>\n",
       "      <td>0</td>\n",
       "      <td>0</td>\n",
       "      <td>845.167560</td>\n",
       "      <td>889.142309</td>\n",
       "      <td>938.279873</td>\n",
       "      <td>866.884910</td>\n",
       "    </tr>\n",
       "    <tr>\n",
       "      <th>23</th>\n",
       "      <td>0</td>\n",
       "      <td>0</td>\n",
       "      <td>830.264596</td>\n",
       "      <td>852.728868</td>\n",
       "      <td>899.958507</td>\n",
       "      <td>847.058853</td>\n",
       "    </tr>\n",
       "    <tr>\n",
       "      <th>24</th>\n",
       "      <td>0</td>\n",
       "      <td>0</td>\n",
       "      <td>807.021595</td>\n",
       "      <td>829.248613</td>\n",
       "      <td>874.298919</td>\n",
       "      <td>834.114973</td>\n",
       "    </tr>\n",
       "    <tr>\n",
       "      <th>25</th>\n",
       "      <td>0</td>\n",
       "      <td>0</td>\n",
       "      <td>826.060652</td>\n",
       "      <td>846.914408</td>\n",
       "      <td>901.055237</td>\n",
       "      <td>866.729896</td>\n",
       "    </tr>\n",
       "    <tr>\n",
       "      <th>26</th>\n",
       "      <td>0</td>\n",
       "      <td>0</td>\n",
       "      <td>847.554067</td>\n",
       "      <td>853.625252</td>\n",
       "      <td>900.790330</td>\n",
       "      <td>860.589386</td>\n",
       "    </tr>\n",
       "    <tr>\n",
       "      <th>27</th>\n",
       "      <td>0</td>\n",
       "      <td>0</td>\n",
       "      <td>847.021349</td>\n",
       "      <td>848.638076</td>\n",
       "      <td>885.718108</td>\n",
       "      <td>850.650333</td>\n",
       "    </tr>\n",
       "    <tr>\n",
       "      <th>28</th>\n",
       "      <td>0</td>\n",
       "      <td>0</td>\n",
       "      <td>860.021518</td>\n",
       "      <td>849.538286</td>\n",
       "      <td>868.409417</td>\n",
       "      <td>877.168654</td>\n",
       "    </tr>\n",
       "    <tr>\n",
       "      <th>29</th>\n",
       "      <td>0</td>\n",
       "      <td>0</td>\n",
       "      <td>849.412984</td>\n",
       "      <td>851.330574</td>\n",
       "      <td>860.100025</td>\n",
       "      <td>850.920866</td>\n",
       "    </tr>\n",
       "    <tr>\n",
       "      <th>...</th>\n",
       "      <td>...</td>\n",
       "      <td>...</td>\n",
       "      <td>...</td>\n",
       "      <td>...</td>\n",
       "      <td>...</td>\n",
       "      <td>...</td>\n",
       "    </tr>\n",
       "    <tr>\n",
       "      <th>275522</th>\n",
       "      <td>0</td>\n",
       "      <td>43</td>\n",
       "      <td>839.135013</td>\n",
       "      <td>847.105365</td>\n",
       "      <td>841.748125</td>\n",
       "      <td>849.180011</td>\n",
       "    </tr>\n",
       "    <tr>\n",
       "      <th>275523</th>\n",
       "      <td>0</td>\n",
       "      <td>43</td>\n",
       "      <td>846.176735</td>\n",
       "      <td>848.472394</td>\n",
       "      <td>841.779993</td>\n",
       "      <td>846.796363</td>\n",
       "    </tr>\n",
       "    <tr>\n",
       "      <th>275524</th>\n",
       "      <td>0</td>\n",
       "      <td>43</td>\n",
       "      <td>848.466608</td>\n",
       "      <td>852.266302</td>\n",
       "      <td>846.150544</td>\n",
       "      <td>848.096871</td>\n",
       "    </tr>\n",
       "    <tr>\n",
       "      <th>275525</th>\n",
       "      <td>0</td>\n",
       "      <td>43</td>\n",
       "      <td>849.337234</td>\n",
       "      <td>849.260553</td>\n",
       "      <td>843.775434</td>\n",
       "      <td>853.402705</td>\n",
       "    </tr>\n",
       "    <tr>\n",
       "      <th>275526</th>\n",
       "      <td>0</td>\n",
       "      <td>43</td>\n",
       "      <td>847.316637</td>\n",
       "      <td>846.047054</td>\n",
       "      <td>836.002464</td>\n",
       "      <td>847.493125</td>\n",
       "    </tr>\n",
       "    <tr>\n",
       "      <th>275527</th>\n",
       "      <td>0</td>\n",
       "      <td>43</td>\n",
       "      <td>848.670153</td>\n",
       "      <td>846.985371</td>\n",
       "      <td>836.773243</td>\n",
       "      <td>845.531377</td>\n",
       "    </tr>\n",
       "    <tr>\n",
       "      <th>275528</th>\n",
       "      <td>0</td>\n",
       "      <td>43</td>\n",
       "      <td>851.966230</td>\n",
       "      <td>846.767796</td>\n",
       "      <td>836.497619</td>\n",
       "      <td>842.939549</td>\n",
       "    </tr>\n",
       "    <tr>\n",
       "      <th>275529</th>\n",
       "      <td>0</td>\n",
       "      <td>43</td>\n",
       "      <td>848.240435</td>\n",
       "      <td>846.187681</td>\n",
       "      <td>837.498544</td>\n",
       "      <td>845.055176</td>\n",
       "    </tr>\n",
       "    <tr>\n",
       "      <th>275530</th>\n",
       "      <td>0</td>\n",
       "      <td>43</td>\n",
       "      <td>853.459088</td>\n",
       "      <td>848.539606</td>\n",
       "      <td>841.883119</td>\n",
       "      <td>857.572005</td>\n",
       "    </tr>\n",
       "    <tr>\n",
       "      <th>275531</th>\n",
       "      <td>0</td>\n",
       "      <td>43</td>\n",
       "      <td>847.084474</td>\n",
       "      <td>849.397989</td>\n",
       "      <td>845.480141</td>\n",
       "      <td>859.305436</td>\n",
       "    </tr>\n",
       "    <tr>\n",
       "      <th>275532</th>\n",
       "      <td>0</td>\n",
       "      <td>43</td>\n",
       "      <td>848.478312</td>\n",
       "      <td>847.003609</td>\n",
       "      <td>844.775912</td>\n",
       "      <td>863.154473</td>\n",
       "    </tr>\n",
       "    <tr>\n",
       "      <th>275533</th>\n",
       "      <td>0</td>\n",
       "      <td>43</td>\n",
       "      <td>839.020294</td>\n",
       "      <td>847.440373</td>\n",
       "      <td>844.306901</td>\n",
       "      <td>856.662356</td>\n",
       "    </tr>\n",
       "    <tr>\n",
       "      <th>275534</th>\n",
       "      <td>0</td>\n",
       "      <td>43</td>\n",
       "      <td>852.650058</td>\n",
       "      <td>844.269675</td>\n",
       "      <td>847.855693</td>\n",
       "      <td>861.640148</td>\n",
       "    </tr>\n",
       "    <tr>\n",
       "      <th>275535</th>\n",
       "      <td>0</td>\n",
       "      <td>43</td>\n",
       "      <td>850.249955</td>\n",
       "      <td>842.701683</td>\n",
       "      <td>844.156830</td>\n",
       "      <td>858.816272</td>\n",
       "    </tr>\n",
       "    <tr>\n",
       "      <th>275536</th>\n",
       "      <td>0</td>\n",
       "      <td>43</td>\n",
       "      <td>853.475254</td>\n",
       "      <td>842.072772</td>\n",
       "      <td>839.460544</td>\n",
       "      <td>854.401907</td>\n",
       "    </tr>\n",
       "    <tr>\n",
       "      <th>275537</th>\n",
       "      <td>0</td>\n",
       "      <td>43</td>\n",
       "      <td>843.237266</td>\n",
       "      <td>841.955453</td>\n",
       "      <td>838.652891</td>\n",
       "      <td>848.607955</td>\n",
       "    </tr>\n",
       "    <tr>\n",
       "      <th>275538</th>\n",
       "      <td>0</td>\n",
       "      <td>43</td>\n",
       "      <td>839.659643</td>\n",
       "      <td>844.857765</td>\n",
       "      <td>836.706921</td>\n",
       "      <td>845.815078</td>\n",
       "    </tr>\n",
       "    <tr>\n",
       "      <th>275539</th>\n",
       "      <td>0</td>\n",
       "      <td>43</td>\n",
       "      <td>832.977459</td>\n",
       "      <td>846.568496</td>\n",
       "      <td>841.168193</td>\n",
       "      <td>842.763652</td>\n",
       "    </tr>\n",
       "    <tr>\n",
       "      <th>275540</th>\n",
       "      <td>0</td>\n",
       "      <td>43</td>\n",
       "      <td>836.456398</td>\n",
       "      <td>844.181735</td>\n",
       "      <td>846.223789</td>\n",
       "      <td>847.826061</td>\n",
       "    </tr>\n",
       "    <tr>\n",
       "      <th>275541</th>\n",
       "      <td>0</td>\n",
       "      <td>43</td>\n",
       "      <td>841.543439</td>\n",
       "      <td>846.895204</td>\n",
       "      <td>848.082578</td>\n",
       "      <td>853.118799</td>\n",
       "    </tr>\n",
       "    <tr>\n",
       "      <th>275542</th>\n",
       "      <td>0</td>\n",
       "      <td>43</td>\n",
       "      <td>842.103425</td>\n",
       "      <td>847.828937</td>\n",
       "      <td>845.115408</td>\n",
       "      <td>852.855707</td>\n",
       "    </tr>\n",
       "    <tr>\n",
       "      <th>275543</th>\n",
       "      <td>0</td>\n",
       "      <td>43</td>\n",
       "      <td>842.206977</td>\n",
       "      <td>847.806513</td>\n",
       "      <td>842.242382</td>\n",
       "      <td>853.586361</td>\n",
       "    </tr>\n",
       "    <tr>\n",
       "      <th>275544</th>\n",
       "      <td>0</td>\n",
       "      <td>43</td>\n",
       "      <td>839.547688</td>\n",
       "      <td>850.386346</td>\n",
       "      <td>839.851531</td>\n",
       "      <td>852.906900</td>\n",
       "    </tr>\n",
       "    <tr>\n",
       "      <th>275545</th>\n",
       "      <td>0</td>\n",
       "      <td>43</td>\n",
       "      <td>838.242534</td>\n",
       "      <td>846.521579</td>\n",
       "      <td>837.931848</td>\n",
       "      <td>850.084449</td>\n",
       "    </tr>\n",
       "    <tr>\n",
       "      <th>275546</th>\n",
       "      <td>0</td>\n",
       "      <td>43</td>\n",
       "      <td>839.043642</td>\n",
       "      <td>845.435648</td>\n",
       "      <td>837.676818</td>\n",
       "      <td>848.626500</td>\n",
       "    </tr>\n",
       "    <tr>\n",
       "      <th>275547</th>\n",
       "      <td>0</td>\n",
       "      <td>43</td>\n",
       "      <td>849.171287</td>\n",
       "      <td>845.909077</td>\n",
       "      <td>839.418410</td>\n",
       "      <td>851.376512</td>\n",
       "    </tr>\n",
       "    <tr>\n",
       "      <th>275548</th>\n",
       "      <td>0</td>\n",
       "      <td>43</td>\n",
       "      <td>842.173978</td>\n",
       "      <td>847.157618</td>\n",
       "      <td>843.260779</td>\n",
       "      <td>845.274279</td>\n",
       "    </tr>\n",
       "    <tr>\n",
       "      <th>275549</th>\n",
       "      <td>0</td>\n",
       "      <td>43</td>\n",
       "      <td>848.712798</td>\n",
       "      <td>846.472907</td>\n",
       "      <td>843.467134</td>\n",
       "      <td>849.866340</td>\n",
       "    </tr>\n",
       "    <tr>\n",
       "      <th>275550</th>\n",
       "      <td>0</td>\n",
       "      <td>43</td>\n",
       "      <td>841.525544</td>\n",
       "      <td>846.469767</td>\n",
       "      <td>843.653758</td>\n",
       "      <td>852.350049</td>\n",
       "    </tr>\n",
       "    <tr>\n",
       "      <th>275551</th>\n",
       "      <td>0</td>\n",
       "      <td>43</td>\n",
       "      <td>846.262783</td>\n",
       "      <td>847.040998</td>\n",
       "      <td>846.817265</td>\n",
       "      <td>854.853301</td>\n",
       "    </tr>\n",
       "  </tbody>\n",
       "</table>\n",
       "<p>275552 rows × 6 columns</p>\n",
       "</div>"
      ],
      "text/plain": [
       "        Difficulty  Performance   Channel 1    Channel 2    Channel 3  \\\n",
       "0                0            0  487.232990   569.475538   575.156767   \n",
       "1                0            0  456.075779   522.673674   514.112317   \n",
       "2                0            0  835.957052   962.667141   952.051364   \n",
       "3                0            0  912.851281  1057.227213  1054.159345   \n",
       "4                0            0  706.852916   802.325481   789.910665   \n",
       "5                0            0  617.613835   711.468400   711.485316   \n",
       "6                0            0  717.877179   818.589342   829.912818   \n",
       "7                0            0  776.271770   870.050917   878.268466   \n",
       "8                0            0  759.758949   852.210667   866.282786   \n",
       "9                0            0  775.530536   856.145420   876.778855   \n",
       "10               0            0  773.668625   850.172122   889.382071   \n",
       "11               0            0  737.017565   806.099219   836.884379   \n",
       "12               0            0  770.125212   825.767108   841.247670   \n",
       "13               0            0  837.240895   900.638539   932.751603   \n",
       "14               0            0  820.368564   884.905947   919.303346   \n",
       "15               0            0  753.970934   802.952499   849.500329   \n",
       "16               0            0  764.115851   805.928611   873.933602   \n",
       "17               0            0  846.225761   886.976038   947.087685   \n",
       "18               0            0  872.261564   902.230945   941.794158   \n",
       "19               0            0  815.882507   835.736788   868.105569   \n",
       "20               0            0  795.214364   814.006341   858.346357   \n",
       "21               0            0  828.701863   864.068570   909.616460   \n",
       "22               0            0  845.167560   889.142309   938.279873   \n",
       "23               0            0  830.264596   852.728868   899.958507   \n",
       "24               0            0  807.021595   829.248613   874.298919   \n",
       "25               0            0  826.060652   846.914408   901.055237   \n",
       "26               0            0  847.554067   853.625252   900.790330   \n",
       "27               0            0  847.021349   848.638076   885.718108   \n",
       "28               0            0  860.021518   849.538286   868.409417   \n",
       "29               0            0  849.412984   851.330574   860.100025   \n",
       "...            ...          ...         ...          ...          ...   \n",
       "275522           0           43  839.135013   847.105365   841.748125   \n",
       "275523           0           43  846.176735   848.472394   841.779993   \n",
       "275524           0           43  848.466608   852.266302   846.150544   \n",
       "275525           0           43  849.337234   849.260553   843.775434   \n",
       "275526           0           43  847.316637   846.047054   836.002464   \n",
       "275527           0           43  848.670153   846.985371   836.773243   \n",
       "275528           0           43  851.966230   846.767796   836.497619   \n",
       "275529           0           43  848.240435   846.187681   837.498544   \n",
       "275530           0           43  853.459088   848.539606   841.883119   \n",
       "275531           0           43  847.084474   849.397989   845.480141   \n",
       "275532           0           43  848.478312   847.003609   844.775912   \n",
       "275533           0           43  839.020294   847.440373   844.306901   \n",
       "275534           0           43  852.650058   844.269675   847.855693   \n",
       "275535           0           43  850.249955   842.701683   844.156830   \n",
       "275536           0           43  853.475254   842.072772   839.460544   \n",
       "275537           0           43  843.237266   841.955453   838.652891   \n",
       "275538           0           43  839.659643   844.857765   836.706921   \n",
       "275539           0           43  832.977459   846.568496   841.168193   \n",
       "275540           0           43  836.456398   844.181735   846.223789   \n",
       "275541           0           43  841.543439   846.895204   848.082578   \n",
       "275542           0           43  842.103425   847.828937   845.115408   \n",
       "275543           0           43  842.206977   847.806513   842.242382   \n",
       "275544           0           43  839.547688   850.386346   839.851531   \n",
       "275545           0           43  838.242534   846.521579   837.931848   \n",
       "275546           0           43  839.043642   845.435648   837.676818   \n",
       "275547           0           43  849.171287   845.909077   839.418410   \n",
       "275548           0           43  842.173978   847.157618   843.260779   \n",
       "275549           0           43  848.712798   846.472907   843.467134   \n",
       "275550           0           43  841.525544   846.469767   843.653758   \n",
       "275551           0           43  846.262783   847.040998   846.817265   \n",
       "\n",
       "         Channel 4  \n",
       "0       479.387484  \n",
       "1       409.617701  \n",
       "2       778.598121  \n",
       "3       870.660624  \n",
       "4       659.249648  \n",
       "5       585.479840  \n",
       "6       704.245968  \n",
       "7       749.776457  \n",
       "8       709.933029  \n",
       "9       761.307720  \n",
       "10      774.591492  \n",
       "11      718.940747  \n",
       "12      749.585301  \n",
       "13      829.776683  \n",
       "14      822.585561  \n",
       "15      756.142849  \n",
       "16      776.038468  \n",
       "17      859.959261  \n",
       "18      870.993591  \n",
       "19      816.962060  \n",
       "20      811.657223  \n",
       "21      850.238313  \n",
       "22      866.884910  \n",
       "23      847.058853  \n",
       "24      834.114973  \n",
       "25      866.729896  \n",
       "26      860.589386  \n",
       "27      850.650333  \n",
       "28      877.168654  \n",
       "29      850.920866  \n",
       "...            ...  \n",
       "275522  849.180011  \n",
       "275523  846.796363  \n",
       "275524  848.096871  \n",
       "275525  853.402705  \n",
       "275526  847.493125  \n",
       "275527  845.531377  \n",
       "275528  842.939549  \n",
       "275529  845.055176  \n",
       "275530  857.572005  \n",
       "275531  859.305436  \n",
       "275532  863.154473  \n",
       "275533  856.662356  \n",
       "275534  861.640148  \n",
       "275535  858.816272  \n",
       "275536  854.401907  \n",
       "275537  848.607955  \n",
       "275538  845.815078  \n",
       "275539  842.763652  \n",
       "275540  847.826061  \n",
       "275541  853.118799  \n",
       "275542  852.855707  \n",
       "275543  853.586361  \n",
       "275544  852.906900  \n",
       "275545  850.084449  \n",
       "275546  848.626500  \n",
       "275547  851.376512  \n",
       "275548  845.274279  \n",
       "275549  849.866340  \n",
       "275550  852.350049  \n",
       "275551  854.853301  \n",
       "\n",
       "[275552 rows x 6 columns]"
      ]
     },
     "execution_count": 120,
     "metadata": {},
     "output_type": "execute_result"
    }
   ],
   "source": [
    "# Add them all together\n",
    "\n",
    "data = pd.concat([monica,dano1,dano2,dano3])\n",
    "data = data[data.Performance > -200]\n",
    "data = data.drop('Timestamp (ms)', axis = 1)\n",
    "data.reset_index(drop=True)\n"
   ]
  },
  {
   "cell_type": "code",
   "execution_count": 122,
   "metadata": {},
   "outputs": [
    {
     "data": {
      "text/plain": [
       "<matplotlib.axes._subplots.AxesSubplot at 0x7fd3f62cf198>"
      ]
     },
     "execution_count": 122,
     "metadata": {},
     "output_type": "execute_result"
    },
    {
     "data": {
      "image/png": "[encoded data removed]",
      "text/plain": [
       "<matplotlib.figure.Figure at 0x7fd3f6399ba8>"
      ]
     },
     "metadata": {},
     "output_type": "display_data"
    }
   ],
   "source": [
    "%matplotlib inline\n",
    "data.Performance.plot()"
   ]
  },
  {
   "cell_type": "code",
   "execution_count": 123,
   "metadata": {},
   "outputs": [
    {
     "name": "stdout",
     "output_type": "stream",
     "text": [
      "Creating RawArray with float64 data, n_channels=5, n_times=275552\n",
      "    Range : 0 ... 275551 =      0.000 ...  1076.371 secs\n",
      "Ready.\n"
     ]
    }
   ],
   "source": [
    "sfreq = 256\n",
    "\n",
    "# name of each channels \n",
    "ch_names = ['Diff', 'TP9', 'FP1', 'FP2', 'TP10']\n",
    "\n",
    "# type of each channels\n",
    "ch_types = ['stim'] + ['eeg'] * 4\n",
    "montage = read_montage('standard_1005')\n",
    "\n",
    "# get data and exclude Aux channel\n",
    "data = data.values[:,-5:].T\n",
    "data\n",
    "\n",
    "# convert in Volts (from uVolts)\n",
    "data[:-1] *= 1e-6\n",
    "\n",
    "# create mne objects\n",
    "info = create_info(ch_names=ch_names, ch_types=ch_types, sfreq=sfreq, montage=montage)\n",
    "raw = (RawArray(data=data, info=info))"
   ]
  },
  {
   "cell_type": "code",
   "execution_count": 124,
   "metadata": {},
   "outputs": [
    {
     "name": "stdout",
     "output_type": "stream",
     "text": [
      "tmax defaults to 60. in 0.14 but will change to np.inf in 0.15. Set it explicitly to avoid this warning\n",
      "Effective window size : 8.000 (s)\n"
     ]
    },
    {
     "name": "stderr",
     "output_type": "stream",
     "text": [
      "<ipython-input-124-39b392d59ea0>:3: DeprecationWarning: tmax defaults to 60. in 0.14 but will change to np.inf in 0.15. Set it explicitly to avoid this warning\n",
      "  raw.plot_psd(picks=[1]);\n",
      "/home/dano/anaconda3/lib/python3.6/site-packages/mne/viz/raw.py:614: DeprecationWarning: In version 0.15 average will default to False and spatial_colors will default to True.\n",
      "  'spatial_colors will default to True.', DeprecationWarning)\n"
     ]
    },
    {
     "data": {
      "image/png": "[encoded data removed]",
      "text/plain": [
       "<matplotlib.figure.Figure at 0x7fd3f6200978>"
      ]
     },
     "metadata": {},
     "output_type": "display_data"
    }
   ],
   "source": [
    "## Plot the PSD of the EEG data just to make sure it looks alright\n",
    "\n",
    "raw.plot_psd(picks=[1]);\n"
   ]
  },
  {
   "cell_type": "code",
   "execution_count": 125,
   "metadata": {},
   "outputs": [
    {
     "name": "stdout",
     "output_type": "stream",
     "text": [
      "Setting up band-pass filter from 2 - 50 Hz\n"
     ]
    },
    {
     "data": {
      "text/plain": [
       "<RawArray  |  None, n_channels x n_times : 5 x 275552 (1076.4 sec), ~10.5 MB, data loaded>"
      ]
     },
     "execution_count": 125,
     "metadata": {},
     "output_type": "execute_result"
    }
   ],
   "source": [
    "raw.filter(2, 50, method='iir')"
   ]
  },
  {
   "cell_type": "markdown",
   "metadata": {},
   "source": [
    "## Epochs"
   ]
  },
  {
   "cell_type": "code",
   "execution_count": 126,
   "metadata": {},
   "outputs": [
    {
     "name": "stdout",
     "output_type": "stream",
     "text": [
      "2152 matching events found\n",
      "0 projection items activated\n",
      "Loading data for 2152 events and 1025 original time points ...\n",
      "7 bad epochs dropped\n"
     ]
    },
    {
     "data": {
      "text/plain": [
       "<Epochs  |  n_events : 2145 (all good), tmin : 0.0 (s), tmax : 4.0 (s), baseline : (None, 0), ~83.9 MB, data loaded>"
      ]
     },
     "execution_count": 126,
     "metadata": {},
     "output_type": "execute_result"
    }
   ],
   "source": [
    "from mne import make_fixed_length_events, Epochs\n",
    "\n",
    "# Make an events array with epoch times every .5 seconds\n",
    "event = make_fixed_length_events(raw, 1, duration=0.5)\n",
    "\n",
    "# Make an epochs array object from the raw dataset with events array event, length of 2 seconds\n",
    "epochs = Epochs(raw, event, tmin=0, tmax=4, preload=True)\n",
    "\n",
    "epochs"
   ]
  },
  {
   "cell_type": "code",
   "execution_count": 127,
   "metadata": {},
   "outputs": [
    {
     "name": "stdout",
     "output_type": "stream",
     "text": [
      "(2145, 4, 1025) (2145, 1)\n"
     ]
    }
   ],
   "source": [
    "X = epochs.copy().pick_types(eeg=True).get_data()\n",
    "\n",
    "y = epochs.copy().pick_types(eeg=False, stim=True).get_data().mean(axis=2)\n",
    "print(X.shape, y.shape)"
   ]
  },
  {
   "cell_type": "code",
   "execution_count": null,
   "metadata": {
    "collapsed": true
   },
   "outputs": [],
   "source": [
    "# Let's transform our data into a covariance matrix and a tangentspace\n",
    "covs = Covariances().fit_transform(X)\n",
    "tans = TangentSpace().fit_transform(covs)\n",
    "potato = Potato().fit_transform(covs)"
   ]
  },
  {
   "cell_type": "code",
   "execution_count": 73,
   "metadata": {},
   "outputs": [
    {
     "data": {
      "image/png": "[encoded data removed]",
      "text/plain": [
       "<matplotlib.figure.Figure at 0x7f46d9b0a0b8>"
      ]
     },
     "execution_count": 73,
     "metadata": {},
     "output_type": "execute_result"
    },
    {
     "data": {
      "image/png": "[encoded data removed]",
      "text/plain": [
       "<matplotlib.figure.Figure at 0x7f46d9b0a0b8>"
      ]
     },
     "metadata": {},
     "output_type": "display_data"
    }
   ],
   "source": [
    "# Now that we have our data setup for sklearn in X and y, let's visualize it\n",
    "\n",
    "plot_embedding(covs)"
   ]
  },
  {
   "cell_type": "code",
   "execution_count": 18,
   "metadata": {},
   "outputs": [
    {
     "name": "stderr",
     "output_type": "stream",
     "text": [
      "/home/dano/anaconda3/lib/python3.6/site-packages/sklearn/cross_validation.py:44: DeprecationWarning: This module was deprecated in version 0.18 in favor of the model_selection module into which all the refactored classes and functions are moved. Also note that the interface of the new CV iterators are different from that of this module. This module will be removed in 0.20.\n",
      "  \"This module will be removed in 0.20.\", DeprecationWarning)\n",
      "/home/dano/anaconda3/lib/python3.6/site-packages/sklearn/utils/validation.py:526: DataConversionWarning: A column-vector y was passed when a 1d array was expected. Please change the shape of y to (n_samples, ), for example using ravel().\n",
      "  y = column_or_1d(y, warn=True)\n"
     ]
    },
    {
     "name": "stdout",
     "output_type": "stream",
     "text": [
      "28 operators have been imported by TPOT.\n",
      "_pre_test decorator: _generate: num_test=0 __init__() got an unexpected keyword argument 'max_depth'\n",
      "_pre_test decorator: _generate: num_test=0 __init__() got an unexpected keyword argument 'max_depth'\n",
      "_pre_test decorator: _generate: num_test=0 __init__() got an unexpected keyword argument 'max_depth'\n",
      "_pre_test decorator: _generate: num_test=1 __init__() got an unexpected keyword argument 'max_depth'\n",
      "_pre_test decorator: _generate: num_test=2 Unsupported set of arguments: The combination of penalty='l2' and loss='epsilon_insensitive' are not supported when dual=False, Parameters: penalty='l2', loss='epsilon_insensitive', dual=False\n",
      "_pre_test decorator: _generate: num_test=0 Found array with 0 feature(s) (shape=(50, 0)) while a minimum of 1 is required.\n",
      "_pre_test decorator: _generate: num_test=0 Found array with 0 feature(s) (shape=(50, 0)) while a minimum of 1 is required.\n"
     ]
    },
    {
     "name": "stderr",
     "output_type": "stream",
     "text": [
      "\r",
      "Optimization Progress:   0%|          | 0/330 [00:00<?, ?pipeline/s]"
     ]
    },
    {
     "name": "stdout",
     "output_type": "stream",
     "text": [
      "_pre_test decorator: _generate: num_test=0 __init__() got an unexpected keyword argument 'max_depth'\n",
      "_pre_test decorator: _generate: num_test=0 Found array with 0 feature(s) (shape=(50, 0)) while a minimum of 1 is required.\n"
     ]
    },
    {
     "name": "stderr",
     "output_type": "stream",
     "text": [
      "Optimization Progress:   9%|▉         | 30/330 [00:07<01:21,  3.66pipeline/s]\r"
     ]
    },
    {
     "name": "stdout",
     "output_type": "stream",
     "text": [
      "_pre_test decorator: _random_mutation_operator: num_test=0 Found array with 0 feature(s) (shape=(50, 0)) while a minimum of 1 is required.\n",
      "_pre_test decorator: _random_mutation_operator: num_test=1 Found array with 0 feature(s) (shape=(50, 0)) while a minimum of 1 is required.\n"
     ]
    },
    {
     "name": "stderr",
     "output_type": "stream",
     "text": [
      "          \r",
      "\r",
      "          \r",
      "Optimization Progress:   9%|▉         | 30/330 [00:08<01:21,  3.66pipeline/s]\r",
      "          \r",
      "\r",
      "          \r",
      "Optimization Progress:   9%|▉         | 30/330 [00:08<01:21,  3.66pipeline/s]\r",
      "          \r"
     ]
    },
    {
     "name": "stdout",
     "output_type": "stream",
     "text": [
      "_pre_test decorator: _random_mutation_operator: num_test=2 Found array with 0 feature(s) (shape=(50, 0)) while a minimum of 1 is required.\n",
      "_pre_test decorator: _random_mutation_operator: num_test=3 Found array with 0 feature(s) (shape=(50, 0)) while a minimum of 1 is required.\n",
      "_pre_test decorator: _random_mutation_operator: num_test=4 Found array with 0 feature(s) (shape=(50, 0)) while a minimum of 1 is required.\n"
     ]
    },
    {
     "name": "stderr",
     "output_type": "stream",
     "text": [
      "Optimization Progress:   9%|▉         | 30/330 [00:14<01:21,  3.66pipeline/s]"
     ]
    },
    {
     "name": "stdout",
     "output_type": "stream",
     "text": [
      "_pre_test decorator: _random_mutation_operator: num_test=0 Expected n_neighbors <= n_samples,  but n_samples = 50, n_neighbors = 72\n",
      "_pre_test decorator: _random_mutation_operator: num_test=1 Expected n_neighbors <= n_samples,  but n_samples = 50, n_neighbors = 72\n",
      "_pre_test decorator: _random_mutation_operator: num_test=0 Found array with 0 feature(s) (shape=(50, 0)) while a minimum of 1 is required.\n",
      "_pre_test decorator: _random_mutation_operator: num_test=1 Found array with 0 feature(s) (shape=(50, 0)) while a minimum of 1 is required.\n",
      "_pre_test decorator: _random_mutation_operator: num_test=2 Found array with 0 feature(s) (shape=(50, 0)) while a minimum of 1 is required.\n",
      "_pre_test decorator: _random_mutation_operator: num_test=3 b'[14:59:49] src/tree/updater_colmaker.cc:161: Check failed: (n) > (0) colsample_bytree=1 is too small that no feature can be included'\n"
     ]
    },
    {
     "name": "stderr",
     "output_type": "stream",
     "text": [
      "Optimization Progress:   9%|▉         | 31/330 [00:15<03:05,  1.62pipeline/s]"
     ]
    },
    {
     "name": "stdout",
     "output_type": "stream",
     "text": [
      "Pipeline encountered that has previously been evaluated during the optimization process. Using the score from the previous evaluation.\n"
     ]
    },
    {
     "name": "stderr",
     "output_type": "stream",
     "text": [
      "Optimization Progress:  18%|█▊        | 59/330 [00:21<01:19,  3.42pipeline/s]"
     ]
    },
    {
     "name": "stdout",
     "output_type": "stream",
     "text": [
      "Generation 1 - Current Pareto front scores:\n",
      "1\t2.0767061003740006e-10\tGradientBoostingRegressor(input_matrix, GradientBoostingRegressor__alpha=0.99, GradientBoostingRegressor__learning_rate=DEFAULT, GradientBoostingRegressor__loss=DEFAULT, GradientBoostingRegressor__max_depth=5, GradientBoostingRegressor__max_features=DEFAULT, GradientBoostingRegressor__min_samples_leaf=2, GradientBoostingRegressor__min_samples_split=19, GradientBoostingRegressor__n_estimators=100, GradientBoostingRegressor__subsample=0.45)\n",
      "\n"
     ]
    },
    {
     "name": "stderr",
     "output_type": "stream",
     "text": [
      "\r",
      "          \r",
      "\r",
      "          \r",
      "Optimization Progress:  18%|█▊        | 59/330 [00:24<01:19,  3.42pipeline/s]\r",
      "          \r",
      "\r",
      "          \r",
      "Optimization Progress:  18%|█▊        | 59/330 [00:24<01:19,  3.42pipeline/s]\r",
      "          \r",
      "\r",
      "          \r",
      "Optimization Progress:  18%|█▊        | 59/330 [00:24<01:19,  3.42pipeline/s]\r",
      "          \r",
      "\r",
      "          \r",
      "Optimization Progress:  18%|█▊        | 59/330 [00:24<01:19,  3.42pipeline/s]\r",
      "          \r",
      "\r",
      "          \r",
      "Optimization Progress:  18%|█▊        | 59/330 [00:24<01:19,  3.42pipeline/s]\r",
      "          \r",
      "\r",
      "          \r",
      "Optimization Progress:  18%|█▊        | 59/330 [00:24<01:19,  3.42pipeline/s]\r",
      "          \r",
      "\r",
      "          \r",
      "Optimization Progress:  18%|█▊        | 59/330 [00:24<01:19,  3.42pipeline/s]\r",
      "          \r",
      "\r",
      "          \r",
      "Optimization Progress:  18%|█▊        | 59/330 [00:24<01:19,  3.42pipeline/s]"
     ]
    },
    {
     "name": "stdout",
     "output_type": "stream",
     "text": [
      "_pre_test decorator: _random_mutation_operator: num_test=0 Unsupported set of arguments: The combination of penalty='l2' and loss='epsilon_insensitive' are not supported when dual=False, Parameters: penalty='l2', loss='epsilon_insensitive', dual=False\n",
      "_pre_test decorator: _random_mutation_operator: num_test=1 Unsupported set of arguments: The combination of penalty='l2' and loss='epsilon_insensitive' are not supported when dual=False, Parameters: penalty='l2', loss='epsilon_insensitive', dual=False\n",
      "_pre_test decorator: _random_mutation_operator: num_test=2 Unsupported set of arguments: The combination of penalty='l2' and loss='epsilon_insensitive' are not supported when dual=False, Parameters: penalty='l2', loss='epsilon_insensitive', dual=False\n",
      "_pre_test decorator: _random_mutation_operator: num_test=3 Unsupported set of arguments: The combination of penalty='l2' and loss='epsilon_insensitive' are not supported when dual=False, Parameters: penalty='l2', loss='epsilon_insensitive', dual=False\n",
      "_pre_test decorator: _random_mutation_operator: num_test=4 Unsupported set of arguments: The combination of penalty='l2' and loss='epsilon_insensitive' are not supported when dual=False, Parameters: penalty='l2', loss='epsilon_insensitive', dual=False\n",
      "_pre_test decorator: _random_mutation_operator: num_test=5 Unsupported set of arguments: The combination of penalty='l2' and loss='epsilon_insensitive' are not supported when dual=False, Parameters: penalty='l2', loss='epsilon_insensitive', dual=False\n",
      "_pre_test decorator: _random_mutation_operator: num_test=6 Unsupported set of arguments: The combination of penalty='l2' and loss='epsilon_insensitive' are not supported when dual=False, Parameters: penalty='l2', loss='epsilon_insensitive', dual=False\n",
      "_pre_test decorator: _random_mutation_operator: num_test=0 Found array with 0 feature(s) (shape=(50, 0)) while a minimum of 1 is required.\n"
     ]
    },
    {
     "name": "stderr",
     "output_type": "stream",
     "text": [
      "Optimization Progress:  18%|█▊        | 60/330 [00:26<01:55,  2.35pipeline/s]"
     ]
    },
    {
     "name": "stdout",
     "output_type": "stream",
     "text": [
      "Pipeline encountered that has previously been evaluated during the optimization process. Using the score from the previous evaluation.\n",
      "Pipeline encountered that has previously been evaluated during the optimization process. Using the score from the previous evaluation.\n"
     ]
    },
    {
     "name": "stderr",
     "output_type": "stream",
     "text": [
      "Optimization Progress:  26%|██▌       | 85/330 [00:31<01:06,  3.71pipeline/s]"
     ]
    },
    {
     "name": "stdout",
     "output_type": "stream",
     "text": [
      "Generation 2 - Current Pareto front scores:\n",
      "1\t2.0767061003740006e-10\tGradientBoostingRegressor(input_matrix, GradientBoostingRegressor__alpha=0.99, GradientBoostingRegressor__learning_rate=DEFAULT, GradientBoostingRegressor__loss=DEFAULT, GradientBoostingRegressor__max_depth=5, GradientBoostingRegressor__max_features=DEFAULT, GradientBoostingRegressor__min_samples_leaf=2, GradientBoostingRegressor__min_samples_split=19, GradientBoostingRegressor__n_estimators=100, GradientBoostingRegressor__subsample=0.45)\n",
      "\n"
     ]
    },
    {
     "name": "stderr",
     "output_type": "stream",
     "text": [
      "\r",
      "          \r",
      "\r",
      "          \r",
      "Optimization Progress:  26%|██▌       | 85/330 [00:32<01:06,  3.71pipeline/s]"
     ]
    },
    {
     "name": "stdout",
     "output_type": "stream",
     "text": [
      "_pre_test decorator: _random_mutation_operator: num_test=0 Found array with 0 feature(s) (shape=(50, 0)) while a minimum of 1 is required.\n"
     ]
    },
    {
     "name": "stderr",
     "output_type": "stream",
     "text": [
      "Optimization Progress:  26%|██▋       | 87/330 [00:33<01:31,  2.65pipeline/s]"
     ]
    },
    {
     "name": "stdout",
     "output_type": "stream",
     "text": [
      "_pre_test decorator: _random_mutation_operator: num_test=0 Found array with 0 feature(s) (shape=(50, 0)) while a minimum of 1 is required.\n",
      "_pre_test decorator: _random_mutation_operator: num_test=1 Found array with 0 feature(s) (shape=(50, 0)) while a minimum of 1 is required.\n",
      "Pipeline encountered that has previously been evaluated during the optimization process. Using the score from the previous evaluation.\n",
      "Pipeline encountered that has previously been evaluated during the optimization process. Using the score from the previous evaluation.\n",
      "Pipeline encountered that has previously been evaluated during the optimization process. Using the score from the previous evaluation.\n"
     ]
    },
    {
     "name": "stderr",
     "output_type": "stream",
     "text": [
      "Optimization Progress:  35%|███▍      | 115/330 [00:37<00:33,  6.38pipeline/s]"
     ]
    },
    {
     "name": "stdout",
     "output_type": "stream",
     "text": [
      "Generation 3 - Current Pareto front scores:\n",
      "1\t2.0767061003740006e-10\tGradientBoostingRegressor(input_matrix, GradientBoostingRegressor__alpha=0.99, GradientBoostingRegressor__learning_rate=DEFAULT, GradientBoostingRegressor__loss=DEFAULT, GradientBoostingRegressor__max_depth=5, GradientBoostingRegressor__max_features=DEFAULT, GradientBoostingRegressor__min_samples_leaf=2, GradientBoostingRegressor__min_samples_split=19, GradientBoostingRegressor__n_estimators=100, GradientBoostingRegressor__subsample=0.45)\n",
      "\n"
     ]
    },
    {
     "name": "stderr",
     "output_type": "stream",
     "text": [
      "Optimization Progress:  35%|███▌      | 117/330 [00:40<01:21,  2.62pipeline/s]"
     ]
    },
    {
     "name": "stdout",
     "output_type": "stream",
     "text": [
      "Pipeline encountered that has previously been evaluated during the optimization process. Using the score from the previous evaluation.\n",
      "Pipeline encountered that has previously been evaluated during the optimization process. Using the score from the previous evaluation.\n"
     ]
    },
    {
     "name": "stderr",
     "output_type": "stream",
     "text": [
      "Optimization Progress:  44%|████▍     | 145/330 [00:45<00:42,  4.35pipeline/s]"
     ]
    },
    {
     "name": "stdout",
     "output_type": "stream",
     "text": [
      "Generation 4 - Current Pareto front scores:\n",
      "1\t2.059971884409253e-10\tGradientBoostingRegressor(input_matrix, GradientBoostingRegressor__alpha=0.99, GradientBoostingRegressor__learning_rate=0.5, GradientBoostingRegressor__loss=DEFAULT, GradientBoostingRegressor__max_depth=5, GradientBoostingRegressor__max_features=DEFAULT, GradientBoostingRegressor__min_samples_leaf=2, GradientBoostingRegressor__min_samples_split=19, GradientBoostingRegressor__n_estimators=100, GradientBoostingRegressor__subsample=0.45)\n",
      "\n",
      "_pre_test decorator: _random_mutation_operator: num_test=0 __init__() got an unexpected keyword argument 'max_depth'\n",
      "_pre_test decorator: _random_mutation_operator: num_test=1 __init__() got an unexpected keyword argument 'max_depth'\n",
      "_pre_test decorator: _random_mutation_operator: num_test=2 __init__() got an unexpected keyword argument 'max_depth'\n",
      "_pre_test decorator: _random_mutation_operator: num_test=3 __init__() got an unexpected keyword argument 'max_depth'\n",
      "_pre_test decorator: _random_mutation_operator: num_test=4 __init__() got an unexpected keyword argument 'max_depth'\n",
      "_pre_test decorator: _random_mutation_operator: num_test=5 __init__() got an unexpected keyword argument 'max_depth'\n",
      "_pre_test decorator: _random_mutation_operator: num_test=6 __init__() got an unexpected keyword argument 'max_depth'\n",
      "_pre_test decorator: _random_mutation_operator: num_test=7 __init__() got an unexpected keyword argument 'max_depth'\n",
      "_pre_test decorator: _random_mutation_operator: num_test=8 __init__() got an unexpected keyword argument 'max_depth'\n",
      "_pre_test decorator: _random_mutation_operator: num_test=9 __init__() got an unexpected keyword argument 'max_depth'\n"
     ]
    },
    {
     "name": "stderr",
     "output_type": "stream",
     "text": [
      "\r",
      "          \r",
      "\r",
      "          \r",
      "Optimization Progress:  44%|████▍     | 145/330 [00:45<00:42,  4.35pipeline/s]\r",
      "          \r",
      "\r",
      "          \r",
      "Optimization Progress:  44%|████▍     | 145/330 [00:45<00:42,  4.35pipeline/s]\r",
      "          \r",
      "\r",
      "          \r",
      "Optimization Progress:  44%|████▍     | 145/330 [00:45<00:42,  4.35pipeline/s]\r",
      "          \r",
      "\r",
      "          \r",
      "Optimization Progress:  44%|████▍     | 145/330 [00:45<00:42,  4.35pipeline/s]"
     ]
    },
    {
     "name": "stdout",
     "output_type": "stream",
     "text": [
      "_pre_test decorator: _random_mutation_operator: num_test=0 __init__() got an unexpected keyword argument 'max_depth'\n",
      "_pre_test decorator: _random_mutation_operator: num_test=1 __init__() got an unexpected keyword argument 'max_depth'\n",
      "_pre_test decorator: _random_mutation_operator: num_test=2 __init__() got an unexpected keyword argument 'max_depth'\n",
      "_pre_test decorator: _random_mutation_operator: num_test=3 __init__() got an unexpected keyword argument 'max_depth'\n"
     ]
    },
    {
     "name": "stderr",
     "output_type": "stream",
     "text": [
      "\r",
      "          \r",
      "\r",
      "          \r",
      "Optimization Progress:  44%|████▍     | 145/330 [00:46<00:42,  4.35pipeline/s]\r",
      "          \r",
      "\r",
      "          \r",
      "Optimization Progress:  44%|████▍     | 145/330 [00:46<00:42,  4.35pipeline/s]\r",
      "          \r",
      "\r",
      "          \r",
      "Optimization Progress:  44%|████▍     | 145/330 [00:46<00:42,  4.35pipeline/s]\r",
      "          \r",
      "\r",
      "          \r",
      "Optimization Progress:  44%|████▍     | 145/330 [00:46<00:42,  4.35pipeline/s]"
     ]
    },
    {
     "name": "stdout",
     "output_type": "stream",
     "text": [
      "_pre_test decorator: _random_mutation_operator: num_test=0 Unsupported set of arguments: The combination of penalty='l2' and loss='epsilon_insensitive' are not supported when dual=False, Parameters: penalty='l2', loss='epsilon_insensitive', dual=False\n",
      "_pre_test decorator: _random_mutation_operator: num_test=1 Unsupported set of arguments: The combination of penalty='l2' and loss='epsilon_insensitive' are not supported when dual=False, Parameters: penalty='l2', loss='epsilon_insensitive', dual=False\n",
      "_pre_test decorator: _random_mutation_operator: num_test=2 Unsupported set of arguments: The combination of penalty='l2' and loss='epsilon_insensitive' are not supported when dual=False, Parameters: penalty='l2', loss='epsilon_insensitive', dual=False\n",
      "_pre_test decorator: _random_mutation_operator: num_test=3 Unsupported set of arguments: The combination of penalty='l2' and loss='epsilon_insensitive' are not supported when dual=False, Parameters: penalty='l2', loss='epsilon_insensitive', dual=False\n"
     ]
    },
    {
     "name": "stderr",
     "output_type": "stream",
     "text": [
      "Optimization Progress:  45%|████▌     | 150/330 [00:47<00:48,  3.71pipeline/s]"
     ]
    },
    {
     "name": "stdout",
     "output_type": "stream",
     "text": [
      "Pipeline encountered that has previously been evaluated during the optimization process. Using the score from the previous evaluation.\n",
      "Pipeline encountered that has previously been evaluated during the optimization process. Using the score from the previous evaluation.\n",
      "Pipeline encountered that has previously been evaluated during the optimization process. Using the score from the previous evaluation.\n",
      "Pipeline encountered that has previously been evaluated during the optimization process. Using the score from the previous evaluation.\n",
      "Pipeline encountered that has previously been evaluated during the optimization process. Using the score from the previous evaluation.\n"
     ]
    },
    {
     "name": "stderr",
     "output_type": "stream",
     "text": [
      "Optimization Progress:  52%|█████▏    | 173/330 [00:50<00:20,  7.79pipeline/s]"
     ]
    },
    {
     "name": "stdout",
     "output_type": "stream",
     "text": [
      "Generation 5 - Current Pareto front scores:\n",
      "1\t2.049280473618215e-10\tGradientBoostingRegressor(input_matrix, GradientBoostingRegressor__alpha=0.99, GradientBoostingRegressor__learning_rate=DEFAULT, GradientBoostingRegressor__loss=DEFAULT, GradientBoostingRegressor__max_depth=5, GradientBoostingRegressor__max_features=DEFAULT, GradientBoostingRegressor__min_samples_leaf=14, GradientBoostingRegressor__min_samples_split=19, GradientBoostingRegressor__n_estimators=100, GradientBoostingRegressor__subsample=0.05)\n",
      "\n"
     ]
    },
    {
     "name": "stderr",
     "output_type": "stream",
     "text": [
      "Optimization Progress:  54%|█████▍    | 178/330 [00:53<02:50,  1.12s/pipeline]"
     ]
    },
    {
     "name": "stdout",
     "output_type": "stream",
     "text": [
      "Pipeline encountered that has previously been evaluated during the optimization process. Using the score from the previous evaluation.\n",
      "Pipeline encountered that has previously been evaluated during the optimization process. Using the score from the previous evaluation.\n",
      "Pipeline encountered that has previously been evaluated during the optimization process. Using the score from the previous evaluation.\n",
      "Pipeline encountered that has previously been evaluated during the optimization process. Using the score from the previous evaluation.\n",
      "Pipeline encountered that has previously been evaluated during the optimization process. Using the score from the previous evaluation.\n",
      "Pipeline encountered that has previously been evaluated during the optimization process. Using the score from the previous evaluation.\n"
     ]
    },
    {
     "name": "stderr",
     "output_type": "stream",
     "text": [
      "Optimization Progress:  60%|██████    | 199/330 [00:57<00:40,  3.20pipeline/s]"
     ]
    },
    {
     "name": "stdout",
     "output_type": "stream",
     "text": [
      "Generation 6 - Current Pareto front scores:\n",
      "1\t2.049280473618215e-10\tGradientBoostingRegressor(input_matrix, GradientBoostingRegressor__alpha=0.99, GradientBoostingRegressor__learning_rate=DEFAULT, GradientBoostingRegressor__loss=DEFAULT, GradientBoostingRegressor__max_depth=5, GradientBoostingRegressor__max_features=DEFAULT, GradientBoostingRegressor__min_samples_leaf=14, GradientBoostingRegressor__min_samples_split=19, GradientBoostingRegressor__n_estimators=100, GradientBoostingRegressor__subsample=0.05)\n",
      "\n"
     ]
    },
    {
     "name": "stderr",
     "output_type": "stream",
     "text": [
      "\r",
      "          \r",
      "\r",
      "          \r",
      "Optimization Progress:  60%|██████    | 199/330 [00:57<00:40,  3.20pipeline/s]\r",
      "          \r",
      "\r",
      "          \r",
      "Optimization Progress:  60%|██████    | 199/330 [00:57<00:40,  3.20pipeline/s]\r",
      "          \r",
      "\r",
      "          \r",
      "Optimization Progress:  60%|██████    | 199/330 [00:57<00:40,  3.20pipeline/s]\r",
      "          \r",
      "\r",
      "          \r",
      "Optimization Progress:  60%|██████    | 199/330 [00:57<00:40,  3.20pipeline/s]\r",
      "          \r",
      "\r",
      "          \r",
      "Optimization Progress:  60%|██████    | 199/330 [00:57<00:40,  3.20pipeline/s]"
     ]
    },
    {
     "name": "stdout",
     "output_type": "stream",
     "text": [
      "_pre_test decorator: _random_mutation_operator: num_test=0 X contains negative values.\n",
      "_pre_test decorator: _random_mutation_operator: num_test=1 X contains negative values.\n",
      "_pre_test decorator: _random_mutation_operator: num_test=2 X contains negative values.\n",
      "_pre_test decorator: _random_mutation_operator: num_test=3 X contains negative values.\n",
      "_pre_test decorator: _random_mutation_operator: num_test=4 X contains negative values.\n"
     ]
    },
    {
     "name": "stderr",
     "output_type": "stream",
     "text": [
      "Optimization Progress:  61%|██████    | 200/330 [00:59<00:58,  2.22pipeline/s]"
     ]
    },
    {
     "name": "stdout",
     "output_type": "stream",
     "text": [
      "Pipeline encountered that has previously been evaluated during the optimization process. Using the score from the previous evaluation.\n",
      "Pipeline encountered that has previously been evaluated during the optimization process. Using the score from the previous evaluation.\n"
     ]
    },
    {
     "name": "stderr",
     "output_type": "stream",
     "text": [
      "Optimization Progress:  69%|██████▉   | 228/330 [01:03<00:16,  6.11pipeline/s]"
     ]
    },
    {
     "name": "stdout",
     "output_type": "stream",
     "text": [
      "Generation 7 - Current Pareto front scores:\n",
      "1\t2.036175463682654e-10\tGradientBoostingRegressor(input_matrix, GradientBoostingRegressor__alpha=0.8, GradientBoostingRegressor__learning_rate=1.0, GradientBoostingRegressor__loss=DEFAULT, GradientBoostingRegressor__max_depth=5, GradientBoostingRegressor__max_features=DEFAULT, GradientBoostingRegressor__min_samples_leaf=2, GradientBoostingRegressor__min_samples_split=19, GradientBoostingRegressor__n_estimators=100, GradientBoostingRegressor__subsample=0.45)\n",
      "\n"
     ]
    },
    {
     "name": "stderr",
     "output_type": "stream",
     "text": [
      "Optimization Progress:  70%|███████   | 232/330 [01:04<00:34,  2.88pipeline/s]"
     ]
    },
    {
     "name": "stdout",
     "output_type": "stream",
     "text": [
      "Pipeline encountered that has previously been evaluated during the optimization process. Using the score from the previous evaluation.\n",
      "Pipeline encountered that has previously been evaluated during the optimization process. Using the score from the previous evaluation.\n",
      "Pipeline encountered that has previously been evaluated during the optimization process. Using the score from the previous evaluation.\n",
      "Pipeline encountered that has previously been evaluated during the optimization process. Using the score from the previous evaluation.\n",
      "Pipeline encountered that has previously been evaluated during the optimization process. Using the score from the previous evaluation.\n"
     ]
    },
    {
     "name": "stderr",
     "output_type": "stream",
     "text": [
      "Optimization Progress:  78%|███████▊  | 257/330 [01:08<00:12,  5.88pipeline/s]"
     ]
    },
    {
     "name": "stdout",
     "output_type": "stream",
     "text": [
      "Generation 8 - Current Pareto front scores:\n",
      "1\t2.036175463682654e-10\tGradientBoostingRegressor(input_matrix, GradientBoostingRegressor__alpha=0.8, GradientBoostingRegressor__learning_rate=1.0, GradientBoostingRegressor__loss=DEFAULT, GradientBoostingRegressor__max_depth=5, GradientBoostingRegressor__max_features=DEFAULT, GradientBoostingRegressor__min_samples_leaf=2, GradientBoostingRegressor__min_samples_split=19, GradientBoostingRegressor__n_estimators=100, GradientBoostingRegressor__subsample=0.45)\n",
      "\n"
     ]
    },
    {
     "name": "stderr",
     "output_type": "stream",
     "text": [
      "Optimization Progress:  78%|███████▊  | 259/330 [01:10<00:21,  3.33pipeline/s]"
     ]
    },
    {
     "name": "stdout",
     "output_type": "stream",
     "text": [
      "Pipeline encountered that has previously been evaluated during the optimization process. Using the score from the previous evaluation.\n",
      "Pipeline encountered that has previously been evaluated during the optimization process. Using the score from the previous evaluation.\n",
      "Pipeline encountered that has previously been evaluated during the optimization process. Using the score from the previous evaluation.\n"
     ]
    },
    {
     "name": "stderr",
     "output_type": "stream",
     "text": [
      "Optimization Progress:  86%|████████▌ | 284/330 [01:13<00:07,  6.54pipeline/s]"
     ]
    },
    {
     "name": "stdout",
     "output_type": "stream",
     "text": [
      "Generation 9 - Current Pareto front scores:\n",
      "1\t2.036175463682654e-10\tGradientBoostingRegressor(input_matrix, GradientBoostingRegressor__alpha=0.8, GradientBoostingRegressor__learning_rate=1.0, GradientBoostingRegressor__loss=DEFAULT, GradientBoostingRegressor__max_depth=5, GradientBoostingRegressor__max_features=DEFAULT, GradientBoostingRegressor__min_samples_leaf=2, GradientBoostingRegressor__min_samples_split=19, GradientBoostingRegressor__n_estimators=100, GradientBoostingRegressor__subsample=0.45)\n",
      "\n"
     ]
    },
    {
     "name": "stderr",
     "output_type": "stream",
     "text": [
      "Optimization Progress:  88%|████████▊ | 289/330 [01:18<00:19,  2.10pipeline/s]"
     ]
    },
    {
     "name": "stdout",
     "output_type": "stream",
     "text": [
      "Pipeline encountered that has previously been evaluated during the optimization process. Using the score from the previous evaluation.\n",
      "Pipeline encountered that has previously been evaluated during the optimization process. Using the score from the previous evaluation.\n",
      "Pipeline encountered that has previously been evaluated during the optimization process. Using the score from the previous evaluation.\n",
      "Pipeline encountered that has previously been evaluated during the optimization process. Using the score from the previous evaluation.\n",
      "Pipeline encountered that has previously been evaluated during the optimization process. Using the score from the previous evaluation.\n"
     ]
    },
    {
     "name": "stderr",
     "output_type": "stream",
     "text": [
      "                                                                              "
     ]
    },
    {
     "name": "stdout",
     "output_type": "stream",
     "text": [
      "Generation 10 - Current Pareto front scores:\n",
      "1\t2.036175463682654e-10\tGradientBoostingRegressor(input_matrix, GradientBoostingRegressor__alpha=0.8, GradientBoostingRegressor__learning_rate=1.0, GradientBoostingRegressor__loss=DEFAULT, GradientBoostingRegressor__max_depth=5, GradientBoostingRegressor__max_features=DEFAULT, GradientBoostingRegressor__min_samples_leaf=2, GradientBoostingRegressor__min_samples_split=19, GradientBoostingRegressor__n_estimators=100, GradientBoostingRegressor__subsample=0.45)\n",
      "\n",
      "1.93260280604e-10\n"
     ]
    },
    {
     "name": "stderr",
     "output_type": "stream",
     "text": [
      "\r"
     ]
    }
   ],
   "source": [
    "# Create a TPOTClassifier that will run for 10 generations\n",
    "pipeline_optimizer = TPOTRegressor(generations=10, population_size=30, cv=5,\n",
    "                                    random_state=42, verbosity=3) \n",
    "\n",
    "# Fit this baby! Takes a long time to run\n",
    "pipeline_optimizer.fit(tans, y)  \n",
    "  \n",
    "# See what kind of score we get\n",
    "print(pipeline_optimizer.score(tans, y))"
   ]
  },
  {
   "cell_type": "code",
   "execution_count": 20,
   "metadata": {},
   "outputs": [
    {
     "data": {
      "text/plain": [
       "<matplotlib.legend.Legend at 0x7f46df9b7fd0>"
      ]
     },
     "execution_count": 20,
     "metadata": {},
     "output_type": "execute_result"
    },
    {
     "data": {
      "image/png": "[encoded data removed]",
      "text/plain": [
       "<matplotlib.figure.Figure at 0x7f46dfc9de80>"
      ]
     },
     "metadata": {},
     "output_type": "display_data"
    }
   ],
   "source": [
    "pr = pipeline_optimizer.predict(tans)\n",
    "plt.plot(pr)\n",
    "plt.plot(y)\n",
    "plt.legend(['prediction', 'True labels'])"
   ]
  },
  {
   "cell_type": "code",
   "execution_count": 21,
   "metadata": {},
   "outputs": [
    {
     "name": "stderr",
     "output_type": "stream",
     "text": [
      "/home/dano/anaconda3/lib/python3.6/site-packages/sklearn/utils/validation.py:526: DataConversionWarning: A column-vector y was passed when a 1d array was expected. Please change the shape of y to (n_samples, ), for example using ravel().\n",
      "  y = column_or_1d(y, warn=True)\n",
      "/home/dano/anaconda3/lib/python3.6/site-packages/sklearn/utils/validation.py:526: DataConversionWarning: A column-vector y was passed when a 1d array was expected. Please change the shape of y to (n_samples, ), for example using ravel().\n",
      "  y = column_or_1d(y, warn=True)\n",
      "/home/dano/anaconda3/lib/python3.6/site-packages/sklearn/utils/validation.py:526: DataConversionWarning: A column-vector y was passed when a 1d array was expected. Please change the shape of y to (n_samples, ), for example using ravel().\n",
      "  y = column_or_1d(y, warn=True)\n",
      "/home/dano/anaconda3/lib/python3.6/site-packages/sklearn/utils/validation.py:526: DataConversionWarning: A column-vector y was passed when a 1d array was expected. Please change the shape of y to (n_samples, ), for example using ravel().\n",
      "  y = column_or_1d(y, warn=True)\n",
      "/home/dano/anaconda3/lib/python3.6/site-packages/sklearn/utils/validation.py:526: DataConversionWarning: A column-vector y was passed when a 1d array was expected. Please change the shape of y to (n_samples, ), for example using ravel().\n",
      "  y = column_or_1d(y, warn=True)\n",
      "/home/dano/anaconda3/lib/python3.6/site-packages/sklearn/utils/validation.py:526: DataConversionWarning: A column-vector y was passed when a 1d array was expected. Please change the shape of y to (n_samples, ), for example using ravel().\n",
      "  y = column_or_1d(y, warn=True)\n"
     ]
    },
    {
     "data": {
      "text/plain": [
       "<matplotlib.legend.Legend at 0x7f46d9c3b6a0>"
      ]
     },
     "execution_count": 21,
     "metadata": {},
     "output_type": "execute_result"
    },
    {
     "data": {
      "image/png": "[encoded data removed]",
      "text/plain": [
       "<matplotlib.figure.Figure at 0x7f46dfdf00f0>"
      ]
     },
     "metadata": {},
     "output_type": "display_data"
    }
   ],
   "source": [
    "from sklearn.model_selection import cross_val_score, cross_val_predict\n",
    "\n",
    "pr = cross_val_predict(pipeline_optimizer.fitted_pipeline_, tans, y, cv=6)\n",
    "\n",
    "plt.plot(pr)\n",
    "plt.plot(y)\n",
    "plt.legend(['prediction', 'True labels'])"
   ]
  },
  {
   "cell_type": "markdown",
   "metadata": {},
   "source": [
    "# Nice!"
   ]
  },
  {
   "cell_type": "code",
   "execution_count": 279,
   "metadata": {
    "collapsed": true
   },
   "outputs": [],
   "source": [
    "pipeline_optimizer.export('tpot_exported_pipeline_riemann2.py')"
   ]
  }
 ],
 "metadata": {
  "kernelspec": {
   "display_name": "Python 3",
   "language": "python",
   "name": "python3"
  },
  "language_info": {
   "codemirror_mode": {
    "name": "ipython",
    "version": 3
   },
   "file_extension": ".py",
   "mimetype": "text/x-python",
   "name": "python",
   "nbconvert_exporter": "python",
   "pygments_lexer": "ipython3",
   "version": "3.6.1"
  }
 },
 "nbformat": 4,
 "nbformat_minor": 2
}
