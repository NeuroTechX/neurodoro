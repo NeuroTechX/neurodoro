{
 "cells": [
  {
   "cell_type": "markdown",
   "metadata": {},
   "source": [
    "# Dano's CORVO & TPOT  notebook\n",
    "\n",
    "In this notebook, I will try and use TPOT to asses what traditional ML algorithms would be useful to predict cognitive performance from EEG data in Neurodoro"
   ]
  },
  {
   "cell_type": "code",
   "execution_count": 1,
   "metadata": {
    "collapsed": true
   },
   "outputs": [],
   "source": [
    "import pandas as pd\n",
    "import numpy as np\n",
    "import matplotlib.pyplot as plt\n",
    "import sklearn as sk\n",
    "from os import walk\n",
    "from os import listdir\n",
    "from os.path import isfile, join\n",
    "from sklearn.model_selection import train_test_split\n",
    "from tpot import TPOTRegressor\n",
    "from math import sqrt\n",
    "import pyriemann\n"
   ]
  },
  {
   "cell_type": "code",
   "execution_count": 2,
   "metadata": {
    "collapsed": true
   },
   "outputs": [],
   "source": [
    "EPOCH_LENGTH = 440 # 2 seconds"
   ]
  },
  {
   "cell_type": "code",
   "execution_count": 21,
   "metadata": {
    "scrolled": false
   },
   "outputs": [
    {
     "data": {
      "text/html": [
       "<div>\n",
       "<style>\n",
       "    .dataframe thead tr:only-child th {\n",
       "        text-align: right;\n",
       "    }\n",
       "\n",
       "    .dataframe thead th {\n",
       "        text-align: left;\n",
       "    }\n",
       "\n",
       "    .dataframe tbody tr th {\n",
       "        vertical-align: top;\n",
       "    }\n",
       "</style>\n",
       "<table border=\"1\" class=\"dataframe\">\n",
       "  <thead>\n",
       "    <tr style=\"text-align: right;\">\n",
       "      <th></th>\n",
       "      <th>Timestamp (ms)</th>\n",
       "      <th>Difficulty</th>\n",
       "      <th>Performance</th>\n",
       "      <th>Channel 1</th>\n",
       "      <th>Channel 2</th>\n",
       "      <th>Channel 3</th>\n",
       "      <th>Channel 4</th>\n",
       "    </tr>\n",
       "  </thead>\n",
       "  <tbody>\n",
       "    <tr>\n",
       "      <th>0</th>\n",
       "      <td>1496428421495</td>\n",
       "      <td>0</td>\n",
       "      <td>0</td>\n",
       "      <td>487.232990</td>\n",
       "      <td>569.475538</td>\n",
       "      <td>575.156767</td>\n",
       "      <td>479.387484</td>\n",
       "    </tr>\n",
       "    <tr>\n",
       "      <th>1</th>\n",
       "      <td>1496428421495</td>\n",
       "      <td>0</td>\n",
       "      <td>0</td>\n",
       "      <td>456.075779</td>\n",
       "      <td>522.673674</td>\n",
       "      <td>514.112317</td>\n",
       "      <td>409.617701</td>\n",
       "    </tr>\n",
       "    <tr>\n",
       "      <th>2</th>\n",
       "      <td>1496428421496</td>\n",
       "      <td>0</td>\n",
       "      <td>0</td>\n",
       "      <td>835.957052</td>\n",
       "      <td>962.667141</td>\n",
       "      <td>952.051364</td>\n",
       "      <td>778.598121</td>\n",
       "    </tr>\n",
       "    <tr>\n",
       "      <th>3</th>\n",
       "      <td>1496428421496</td>\n",
       "      <td>0</td>\n",
       "      <td>0</td>\n",
       "      <td>912.851281</td>\n",
       "      <td>1057.227213</td>\n",
       "      <td>1054.159345</td>\n",
       "      <td>870.660624</td>\n",
       "    </tr>\n",
       "    <tr>\n",
       "      <th>4</th>\n",
       "      <td>1496428421496</td>\n",
       "      <td>0</td>\n",
       "      <td>0</td>\n",
       "      <td>706.852916</td>\n",
       "      <td>802.325481</td>\n",
       "      <td>789.910665</td>\n",
       "      <td>659.249648</td>\n",
       "    </tr>\n",
       "    <tr>\n",
       "      <th>5</th>\n",
       "      <td>1496428421496</td>\n",
       "      <td>0</td>\n",
       "      <td>0</td>\n",
       "      <td>617.613835</td>\n",
       "      <td>711.468400</td>\n",
       "      <td>711.485316</td>\n",
       "      <td>585.479840</td>\n",
       "    </tr>\n",
       "    <tr>\n",
       "      <th>6</th>\n",
       "      <td>1496428421496</td>\n",
       "      <td>0</td>\n",
       "      <td>0</td>\n",
       "      <td>717.877179</td>\n",
       "      <td>818.589342</td>\n",
       "      <td>829.912818</td>\n",
       "      <td>704.245968</td>\n",
       "    </tr>\n",
       "    <tr>\n",
       "      <th>7</th>\n",
       "      <td>1496428421497</td>\n",
       "      <td>0</td>\n",
       "      <td>0</td>\n",
       "      <td>776.271770</td>\n",
       "      <td>870.050917</td>\n",
       "      <td>878.268466</td>\n",
       "      <td>749.776457</td>\n",
       "    </tr>\n",
       "    <tr>\n",
       "      <th>8</th>\n",
       "      <td>1496428421497</td>\n",
       "      <td>0</td>\n",
       "      <td>0</td>\n",
       "      <td>759.758949</td>\n",
       "      <td>852.210667</td>\n",
       "      <td>866.282786</td>\n",
       "      <td>709.933029</td>\n",
       "    </tr>\n",
       "    <tr>\n",
       "      <th>9</th>\n",
       "      <td>1496428421497</td>\n",
       "      <td>0</td>\n",
       "      <td>0</td>\n",
       "      <td>775.530536</td>\n",
       "      <td>856.145420</td>\n",
       "      <td>876.778855</td>\n",
       "      <td>761.307720</td>\n",
       "    </tr>\n",
       "    <tr>\n",
       "      <th>10</th>\n",
       "      <td>1496428421497</td>\n",
       "      <td>0</td>\n",
       "      <td>0</td>\n",
       "      <td>773.668625</td>\n",
       "      <td>850.172122</td>\n",
       "      <td>889.382071</td>\n",
       "      <td>774.591492</td>\n",
       "    </tr>\n",
       "    <tr>\n",
       "      <th>11</th>\n",
       "      <td>1496428421498</td>\n",
       "      <td>0</td>\n",
       "      <td>0</td>\n",
       "      <td>737.017565</td>\n",
       "      <td>806.099219</td>\n",
       "      <td>836.884379</td>\n",
       "      <td>718.940747</td>\n",
       "    </tr>\n",
       "    <tr>\n",
       "      <th>12</th>\n",
       "      <td>1496428421539</td>\n",
       "      <td>0</td>\n",
       "      <td>0</td>\n",
       "      <td>770.125212</td>\n",
       "      <td>825.767108</td>\n",
       "      <td>841.247670</td>\n",
       "      <td>749.585301</td>\n",
       "    </tr>\n",
       "    <tr>\n",
       "      <th>13</th>\n",
       "      <td>1496428421539</td>\n",
       "      <td>0</td>\n",
       "      <td>0</td>\n",
       "      <td>837.240895</td>\n",
       "      <td>900.638539</td>\n",
       "      <td>932.751603</td>\n",
       "      <td>829.776683</td>\n",
       "    </tr>\n",
       "    <tr>\n",
       "      <th>14</th>\n",
       "      <td>1496428421539</td>\n",
       "      <td>0</td>\n",
       "      <td>0</td>\n",
       "      <td>820.368564</td>\n",
       "      <td>884.905947</td>\n",
       "      <td>919.303346</td>\n",
       "      <td>822.585561</td>\n",
       "    </tr>\n",
       "    <tr>\n",
       "      <th>15</th>\n",
       "      <td>1496428421539</td>\n",
       "      <td>0</td>\n",
       "      <td>0</td>\n",
       "      <td>753.970934</td>\n",
       "      <td>802.952499</td>\n",
       "      <td>849.500329</td>\n",
       "      <td>756.142849</td>\n",
       "    </tr>\n",
       "    <tr>\n",
       "      <th>16</th>\n",
       "      <td>1496428421539</td>\n",
       "      <td>0</td>\n",
       "      <td>0</td>\n",
       "      <td>764.115851</td>\n",
       "      <td>805.928611</td>\n",
       "      <td>873.933602</td>\n",
       "      <td>776.038468</td>\n",
       "    </tr>\n",
       "    <tr>\n",
       "      <th>17</th>\n",
       "      <td>1496428421539</td>\n",
       "      <td>0</td>\n",
       "      <td>0</td>\n",
       "      <td>846.225761</td>\n",
       "      <td>886.976038</td>\n",
       "      <td>947.087685</td>\n",
       "      <td>859.959261</td>\n",
       "    </tr>\n",
       "    <tr>\n",
       "      <th>18</th>\n",
       "      <td>1496428421539</td>\n",
       "      <td>0</td>\n",
       "      <td>0</td>\n",
       "      <td>872.261564</td>\n",
       "      <td>902.230945</td>\n",
       "      <td>941.794158</td>\n",
       "      <td>870.993591</td>\n",
       "    </tr>\n",
       "    <tr>\n",
       "      <th>19</th>\n",
       "      <td>1496428421540</td>\n",
       "      <td>0</td>\n",
       "      <td>0</td>\n",
       "      <td>815.882507</td>\n",
       "      <td>835.736788</td>\n",
       "      <td>868.105569</td>\n",
       "      <td>816.962060</td>\n",
       "    </tr>\n",
       "    <tr>\n",
       "      <th>20</th>\n",
       "      <td>1496428421540</td>\n",
       "      <td>0</td>\n",
       "      <td>0</td>\n",
       "      <td>795.214364</td>\n",
       "      <td>814.006341</td>\n",
       "      <td>858.346357</td>\n",
       "      <td>811.657223</td>\n",
       "    </tr>\n",
       "    <tr>\n",
       "      <th>21</th>\n",
       "      <td>1496428421540</td>\n",
       "      <td>0</td>\n",
       "      <td>0</td>\n",
       "      <td>828.701863</td>\n",
       "      <td>864.068570</td>\n",
       "      <td>909.616460</td>\n",
       "      <td>850.238313</td>\n",
       "    </tr>\n",
       "    <tr>\n",
       "      <th>22</th>\n",
       "      <td>1496428421540</td>\n",
       "      <td>0</td>\n",
       "      <td>0</td>\n",
       "      <td>845.167560</td>\n",
       "      <td>889.142309</td>\n",
       "      <td>938.279873</td>\n",
       "      <td>866.884910</td>\n",
       "    </tr>\n",
       "    <tr>\n",
       "      <th>23</th>\n",
       "      <td>1496428421540</td>\n",
       "      <td>0</td>\n",
       "      <td>0</td>\n",
       "      <td>830.264596</td>\n",
       "      <td>852.728868</td>\n",
       "      <td>899.958507</td>\n",
       "      <td>847.058853</td>\n",
       "    </tr>\n",
       "    <tr>\n",
       "      <th>24</th>\n",
       "      <td>1496428421649</td>\n",
       "      <td>0</td>\n",
       "      <td>0</td>\n",
       "      <td>807.021595</td>\n",
       "      <td>829.248613</td>\n",
       "      <td>874.298919</td>\n",
       "      <td>834.114973</td>\n",
       "    </tr>\n",
       "    <tr>\n",
       "      <th>25</th>\n",
       "      <td>1496428421649</td>\n",
       "      <td>0</td>\n",
       "      <td>0</td>\n",
       "      <td>826.060652</td>\n",
       "      <td>846.914408</td>\n",
       "      <td>901.055237</td>\n",
       "      <td>866.729896</td>\n",
       "    </tr>\n",
       "    <tr>\n",
       "      <th>26</th>\n",
       "      <td>1496428421650</td>\n",
       "      <td>0</td>\n",
       "      <td>0</td>\n",
       "      <td>847.554067</td>\n",
       "      <td>853.625252</td>\n",
       "      <td>900.790330</td>\n",
       "      <td>860.589386</td>\n",
       "    </tr>\n",
       "    <tr>\n",
       "      <th>27</th>\n",
       "      <td>1496428421650</td>\n",
       "      <td>0</td>\n",
       "      <td>0</td>\n",
       "      <td>847.021349</td>\n",
       "      <td>848.638076</td>\n",
       "      <td>885.718108</td>\n",
       "      <td>850.650333</td>\n",
       "    </tr>\n",
       "    <tr>\n",
       "      <th>28</th>\n",
       "      <td>1496428421650</td>\n",
       "      <td>0</td>\n",
       "      <td>0</td>\n",
       "      <td>860.021518</td>\n",
       "      <td>849.538286</td>\n",
       "      <td>868.409417</td>\n",
       "      <td>877.168654</td>\n",
       "    </tr>\n",
       "    <tr>\n",
       "      <th>29</th>\n",
       "      <td>1496428421650</td>\n",
       "      <td>0</td>\n",
       "      <td>0</td>\n",
       "      <td>849.412984</td>\n",
       "      <td>851.330574</td>\n",
       "      <td>860.100025</td>\n",
       "      <td>850.920866</td>\n",
       "    </tr>\n",
       "    <tr>\n",
       "      <th>...</th>\n",
       "      <td>...</td>\n",
       "      <td>...</td>\n",
       "      <td>...</td>\n",
       "      <td>...</td>\n",
       "      <td>...</td>\n",
       "      <td>...</td>\n",
       "      <td>...</td>\n",
       "    </tr>\n",
       "    <tr>\n",
       "      <th>174990</th>\n",
       "      <td>1496429104992</td>\n",
       "      <td>45</td>\n",
       "      <td>0</td>\n",
       "      <td>815.057639</td>\n",
       "      <td>852.897597</td>\n",
       "      <td>820.438069</td>\n",
       "      <td>810.672644</td>\n",
       "    </tr>\n",
       "    <tr>\n",
       "      <th>174991</th>\n",
       "      <td>1496429104993</td>\n",
       "      <td>45</td>\n",
       "      <td>0</td>\n",
       "      <td>818.596359</td>\n",
       "      <td>853.511382</td>\n",
       "      <td>829.018113</td>\n",
       "      <td>816.457944</td>\n",
       "    </tr>\n",
       "    <tr>\n",
       "      <th>174992</th>\n",
       "      <td>1496429104993</td>\n",
       "      <td>45</td>\n",
       "      <td>0</td>\n",
       "      <td>808.098811</td>\n",
       "      <td>849.764687</td>\n",
       "      <td>825.859183</td>\n",
       "      <td>802.768402</td>\n",
       "    </tr>\n",
       "    <tr>\n",
       "      <th>174993</th>\n",
       "      <td>1496429104993</td>\n",
       "      <td>45</td>\n",
       "      <td>0</td>\n",
       "      <td>808.237390</td>\n",
       "      <td>849.410079</td>\n",
       "      <td>845.049153</td>\n",
       "      <td>810.111841</td>\n",
       "    </tr>\n",
       "    <tr>\n",
       "      <th>174994</th>\n",
       "      <td>1496429104994</td>\n",
       "      <td>45</td>\n",
       "      <td>0</td>\n",
       "      <td>820.125505</td>\n",
       "      <td>849.275308</td>\n",
       "      <td>859.063447</td>\n",
       "      <td>826.681563</td>\n",
       "    </tr>\n",
       "    <tr>\n",
       "      <th>174995</th>\n",
       "      <td>1496429104995</td>\n",
       "      <td>45</td>\n",
       "      <td>0</td>\n",
       "      <td>831.084361</td>\n",
       "      <td>845.184250</td>\n",
       "      <td>845.121696</td>\n",
       "      <td>835.681176</td>\n",
       "    </tr>\n",
       "    <tr>\n",
       "      <th>174996</th>\n",
       "      <td>1496429105035</td>\n",
       "      <td>45</td>\n",
       "      <td>0</td>\n",
       "      <td>839.426963</td>\n",
       "      <td>845.037392</td>\n",
       "      <td>852.024906</td>\n",
       "      <td>829.374146</td>\n",
       "    </tr>\n",
       "    <tr>\n",
       "      <th>174997</th>\n",
       "      <td>1496429105035</td>\n",
       "      <td>45</td>\n",
       "      <td>0</td>\n",
       "      <td>843.316778</td>\n",
       "      <td>845.171198</td>\n",
       "      <td>815.630798</td>\n",
       "      <td>828.379121</td>\n",
       "    </tr>\n",
       "    <tr>\n",
       "      <th>174998</th>\n",
       "      <td>1496429105035</td>\n",
       "      <td>45</td>\n",
       "      <td>0</td>\n",
       "      <td>838.716786</td>\n",
       "      <td>844.063890</td>\n",
       "      <td>833.931530</td>\n",
       "      <td>835.374657</td>\n",
       "    </tr>\n",
       "    <tr>\n",
       "      <th>174999</th>\n",
       "      <td>1496429105036</td>\n",
       "      <td>45</td>\n",
       "      <td>0</td>\n",
       "      <td>842.159103</td>\n",
       "      <td>843.312904</td>\n",
       "      <td>858.323969</td>\n",
       "      <td>836.667320</td>\n",
       "    </tr>\n",
       "    <tr>\n",
       "      <th>175000</th>\n",
       "      <td>1496429105036</td>\n",
       "      <td>45</td>\n",
       "      <td>0</td>\n",
       "      <td>844.582286</td>\n",
       "      <td>839.982419</td>\n",
       "      <td>842.571047</td>\n",
       "      <td>838.615109</td>\n",
       "    </tr>\n",
       "    <tr>\n",
       "      <th>175001</th>\n",
       "      <td>1496429105036</td>\n",
       "      <td>45</td>\n",
       "      <td>0</td>\n",
       "      <td>839.125050</td>\n",
       "      <td>843.011266</td>\n",
       "      <td>828.119783</td>\n",
       "      <td>849.918004</td>\n",
       "    </tr>\n",
       "    <tr>\n",
       "      <th>175002</th>\n",
       "      <td>1496429105036</td>\n",
       "      <td>45</td>\n",
       "      <td>0</td>\n",
       "      <td>841.915498</td>\n",
       "      <td>844.881766</td>\n",
       "      <td>825.288959</td>\n",
       "      <td>847.612004</td>\n",
       "    </tr>\n",
       "    <tr>\n",
       "      <th>175003</th>\n",
       "      <td>1496429105037</td>\n",
       "      <td>45</td>\n",
       "      <td>0</td>\n",
       "      <td>838.296124</td>\n",
       "      <td>845.959303</td>\n",
       "      <td>867.117377</td>\n",
       "      <td>843.802668</td>\n",
       "    </tr>\n",
       "    <tr>\n",
       "      <th>175004</th>\n",
       "      <td>1496429105037</td>\n",
       "      <td>45</td>\n",
       "      <td>0</td>\n",
       "      <td>848.836176</td>\n",
       "      <td>850.832235</td>\n",
       "      <td>864.343678</td>\n",
       "      <td>852.623127</td>\n",
       "    </tr>\n",
       "    <tr>\n",
       "      <th>175005</th>\n",
       "      <td>1496429105037</td>\n",
       "      <td>45</td>\n",
       "      <td>0</td>\n",
       "      <td>847.745379</td>\n",
       "      <td>852.885418</td>\n",
       "      <td>861.586230</td>\n",
       "      <td>846.999116</td>\n",
       "    </tr>\n",
       "    <tr>\n",
       "      <th>175006</th>\n",
       "      <td>1496429105037</td>\n",
       "      <td>45</td>\n",
       "      <td>0</td>\n",
       "      <td>847.890012</td>\n",
       "      <td>849.781971</td>\n",
       "      <td>848.779545</td>\n",
       "      <td>846.111225</td>\n",
       "    </tr>\n",
       "    <tr>\n",
       "      <th>175007</th>\n",
       "      <td>1496429105037</td>\n",
       "      <td>45</td>\n",
       "      <td>0</td>\n",
       "      <td>852.544514</td>\n",
       "      <td>848.069100</td>\n",
       "      <td>826.619869</td>\n",
       "      <td>850.785897</td>\n",
       "    </tr>\n",
       "    <tr>\n",
       "      <th>175008</th>\n",
       "      <td>1496429105058</td>\n",
       "      <td>45</td>\n",
       "      <td>0</td>\n",
       "      <td>851.049029</td>\n",
       "      <td>853.715727</td>\n",
       "      <td>867.648719</td>\n",
       "      <td>855.422631</td>\n",
       "    </tr>\n",
       "    <tr>\n",
       "      <th>175009</th>\n",
       "      <td>1496429105059</td>\n",
       "      <td>45</td>\n",
       "      <td>0</td>\n",
       "      <td>846.573143</td>\n",
       "      <td>853.437543</td>\n",
       "      <td>884.081643</td>\n",
       "      <td>859.816333</td>\n",
       "    </tr>\n",
       "    <tr>\n",
       "      <th>175010</th>\n",
       "      <td>1496429105059</td>\n",
       "      <td>45</td>\n",
       "      <td>0</td>\n",
       "      <td>845.317837</td>\n",
       "      <td>851.436015</td>\n",
       "      <td>870.804843</td>\n",
       "      <td>860.374851</td>\n",
       "    </tr>\n",
       "    <tr>\n",
       "      <th>175011</th>\n",
       "      <td>1496429105059</td>\n",
       "      <td>45</td>\n",
       "      <td>0</td>\n",
       "      <td>846.920360</td>\n",
       "      <td>845.772582</td>\n",
       "      <td>853.921427</td>\n",
       "      <td>844.259530</td>\n",
       "    </tr>\n",
       "    <tr>\n",
       "      <th>175012</th>\n",
       "      <td>1496429105060</td>\n",
       "      <td>45</td>\n",
       "      <td>0</td>\n",
       "      <td>840.626973</td>\n",
       "      <td>845.344991</td>\n",
       "      <td>848.811325</td>\n",
       "      <td>846.501311</td>\n",
       "    </tr>\n",
       "    <tr>\n",
       "      <th>175013</th>\n",
       "      <td>1496429105060</td>\n",
       "      <td>45</td>\n",
       "      <td>0</td>\n",
       "      <td>853.461849</td>\n",
       "      <td>850.734088</td>\n",
       "      <td>848.601984</td>\n",
       "      <td>847.044385</td>\n",
       "    </tr>\n",
       "    <tr>\n",
       "      <th>175014</th>\n",
       "      <td>1496429105060</td>\n",
       "      <td>45</td>\n",
       "      <td>0</td>\n",
       "      <td>854.643344</td>\n",
       "      <td>849.533051</td>\n",
       "      <td>831.401226</td>\n",
       "      <td>841.436086</td>\n",
       "    </tr>\n",
       "    <tr>\n",
       "      <th>175015</th>\n",
       "      <td>1496429105060</td>\n",
       "      <td>45</td>\n",
       "      <td>0</td>\n",
       "      <td>847.084536</td>\n",
       "      <td>856.090233</td>\n",
       "      <td>842.650539</td>\n",
       "      <td>848.067562</td>\n",
       "    </tr>\n",
       "    <tr>\n",
       "      <th>175016</th>\n",
       "      <td>1496429105061</td>\n",
       "      <td>45</td>\n",
       "      <td>0</td>\n",
       "      <td>852.123404</td>\n",
       "      <td>854.895596</td>\n",
       "      <td>835.451288</td>\n",
       "      <td>840.907750</td>\n",
       "    </tr>\n",
       "    <tr>\n",
       "      <th>175017</th>\n",
       "      <td>1496429105061</td>\n",
       "      <td>45</td>\n",
       "      <td>0</td>\n",
       "      <td>841.996158</td>\n",
       "      <td>849.499018</td>\n",
       "      <td>840.359115</td>\n",
       "      <td>837.444280</td>\n",
       "    </tr>\n",
       "    <tr>\n",
       "      <th>175018</th>\n",
       "      <td>1496429105061</td>\n",
       "      <td>45</td>\n",
       "      <td>0</td>\n",
       "      <td>840.013107</td>\n",
       "      <td>846.725498</td>\n",
       "      <td>857.363844</td>\n",
       "      <td>845.373778</td>\n",
       "    </tr>\n",
       "    <tr>\n",
       "      <th>175019</th>\n",
       "      <td>1496429105061</td>\n",
       "      <td>45</td>\n",
       "      <td>0</td>\n",
       "      <td>846.410517</td>\n",
       "      <td>849.702287</td>\n",
       "      <td>850.940725</td>\n",
       "      <td>844.062061</td>\n",
       "    </tr>\n",
       "  </tbody>\n",
       "</table>\n",
       "<p>175020 rows × 7 columns</p>\n",
       "</div>"
      ],
      "text/plain": [
       "        Timestamp (ms)  Difficulty  Performance   Channel 1    Channel 2  \\\n",
       "0        1496428421495           0            0  487.232990   569.475538   \n",
       "1        1496428421495           0            0  456.075779   522.673674   \n",
       "2        1496428421496           0            0  835.957052   962.667141   \n",
       "3        1496428421496           0            0  912.851281  1057.227213   \n",
       "4        1496428421496           0            0  706.852916   802.325481   \n",
       "5        1496428421496           0            0  617.613835   711.468400   \n",
       "6        1496428421496           0            0  717.877179   818.589342   \n",
       "7        1496428421497           0            0  776.271770   870.050917   \n",
       "8        1496428421497           0            0  759.758949   852.210667   \n",
       "9        1496428421497           0            0  775.530536   856.145420   \n",
       "10       1496428421497           0            0  773.668625   850.172122   \n",
       "11       1496428421498           0            0  737.017565   806.099219   \n",
       "12       1496428421539           0            0  770.125212   825.767108   \n",
       "13       1496428421539           0            0  837.240895   900.638539   \n",
       "14       1496428421539           0            0  820.368564   884.905947   \n",
       "15       1496428421539           0            0  753.970934   802.952499   \n",
       "16       1496428421539           0            0  764.115851   805.928611   \n",
       "17       1496428421539           0            0  846.225761   886.976038   \n",
       "18       1496428421539           0            0  872.261564   902.230945   \n",
       "19       1496428421540           0            0  815.882507   835.736788   \n",
       "20       1496428421540           0            0  795.214364   814.006341   \n",
       "21       1496428421540           0            0  828.701863   864.068570   \n",
       "22       1496428421540           0            0  845.167560   889.142309   \n",
       "23       1496428421540           0            0  830.264596   852.728868   \n",
       "24       1496428421649           0            0  807.021595   829.248613   \n",
       "25       1496428421649           0            0  826.060652   846.914408   \n",
       "26       1496428421650           0            0  847.554067   853.625252   \n",
       "27       1496428421650           0            0  847.021349   848.638076   \n",
       "28       1496428421650           0            0  860.021518   849.538286   \n",
       "29       1496428421650           0            0  849.412984   851.330574   \n",
       "...                ...         ...          ...         ...          ...   \n",
       "174990   1496429104992          45            0  815.057639   852.897597   \n",
       "174991   1496429104993          45            0  818.596359   853.511382   \n",
       "174992   1496429104993          45            0  808.098811   849.764687   \n",
       "174993   1496429104993          45            0  808.237390   849.410079   \n",
       "174994   1496429104994          45            0  820.125505   849.275308   \n",
       "174995   1496429104995          45            0  831.084361   845.184250   \n",
       "174996   1496429105035          45            0  839.426963   845.037392   \n",
       "174997   1496429105035          45            0  843.316778   845.171198   \n",
       "174998   1496429105035          45            0  838.716786   844.063890   \n",
       "174999   1496429105036          45            0  842.159103   843.312904   \n",
       "175000   1496429105036          45            0  844.582286   839.982419   \n",
       "175001   1496429105036          45            0  839.125050   843.011266   \n",
       "175002   1496429105036          45            0  841.915498   844.881766   \n",
       "175003   1496429105037          45            0  838.296124   845.959303   \n",
       "175004   1496429105037          45            0  848.836176   850.832235   \n",
       "175005   1496429105037          45            0  847.745379   852.885418   \n",
       "175006   1496429105037          45            0  847.890012   849.781971   \n",
       "175007   1496429105037          45            0  852.544514   848.069100   \n",
       "175008   1496429105058          45            0  851.049029   853.715727   \n",
       "175009   1496429105059          45            0  846.573143   853.437543   \n",
       "175010   1496429105059          45            0  845.317837   851.436015   \n",
       "175011   1496429105059          45            0  846.920360   845.772582   \n",
       "175012   1496429105060          45            0  840.626973   845.344991   \n",
       "175013   1496429105060          45            0  853.461849   850.734088   \n",
       "175014   1496429105060          45            0  854.643344   849.533051   \n",
       "175015   1496429105060          45            0  847.084536   856.090233   \n",
       "175016   1496429105061          45            0  852.123404   854.895596   \n",
       "175017   1496429105061          45            0  841.996158   849.499018   \n",
       "175018   1496429105061          45            0  840.013107   846.725498   \n",
       "175019   1496429105061          45            0  846.410517   849.702287   \n",
       "\n",
       "          Channel 3   Channel 4  \n",
       "0        575.156767  479.387484  \n",
       "1        514.112317  409.617701  \n",
       "2        952.051364  778.598121  \n",
       "3       1054.159345  870.660624  \n",
       "4        789.910665  659.249648  \n",
       "5        711.485316  585.479840  \n",
       "6        829.912818  704.245968  \n",
       "7        878.268466  749.776457  \n",
       "8        866.282786  709.933029  \n",
       "9        876.778855  761.307720  \n",
       "10       889.382071  774.591492  \n",
       "11       836.884379  718.940747  \n",
       "12       841.247670  749.585301  \n",
       "13       932.751603  829.776683  \n",
       "14       919.303346  822.585561  \n",
       "15       849.500329  756.142849  \n",
       "16       873.933602  776.038468  \n",
       "17       947.087685  859.959261  \n",
       "18       941.794158  870.993591  \n",
       "19       868.105569  816.962060  \n",
       "20       858.346357  811.657223  \n",
       "21       909.616460  850.238313  \n",
       "22       938.279873  866.884910  \n",
       "23       899.958507  847.058853  \n",
       "24       874.298919  834.114973  \n",
       "25       901.055237  866.729896  \n",
       "26       900.790330  860.589386  \n",
       "27       885.718108  850.650333  \n",
       "28       868.409417  877.168654  \n",
       "29       860.100025  850.920866  \n",
       "...             ...         ...  \n",
       "174990   820.438069  810.672644  \n",
       "174991   829.018113  816.457944  \n",
       "174992   825.859183  802.768402  \n",
       "174993   845.049153  810.111841  \n",
       "174994   859.063447  826.681563  \n",
       "174995   845.121696  835.681176  \n",
       "174996   852.024906  829.374146  \n",
       "174997   815.630798  828.379121  \n",
       "174998   833.931530  835.374657  \n",
       "174999   858.323969  836.667320  \n",
       "175000   842.571047  838.615109  \n",
       "175001   828.119783  849.918004  \n",
       "175002   825.288959  847.612004  \n",
       "175003   867.117377  843.802668  \n",
       "175004   864.343678  852.623127  \n",
       "175005   861.586230  846.999116  \n",
       "175006   848.779545  846.111225  \n",
       "175007   826.619869  850.785897  \n",
       "175008   867.648719  855.422631  \n",
       "175009   884.081643  859.816333  \n",
       "175010   870.804843  860.374851  \n",
       "175011   853.921427  844.259530  \n",
       "175012   848.811325  846.501311  \n",
       "175013   848.601984  847.044385  \n",
       "175014   831.401226  841.436086  \n",
       "175015   842.650539  848.067562  \n",
       "175016   835.451288  840.907750  \n",
       "175017   840.359115  837.444280  \n",
       "175018   857.363844  845.373778  \n",
       "175019   850.940725  844.062061  \n",
       "\n",
       "[175020 rows x 7 columns]"
      ]
     },
     "execution_count": 21,
     "metadata": {},
     "output_type": "execute_result"
    }
   ],
   "source": [
    "# Data has been collected, let's import it\n",
    "\n",
    "data = pd.read_csv(\"../muse-data/MonicaGRawEEG0.csv\", header=0, index_col=False)\n",
    "\n",
    "data"
   ]
  },
  {
   "cell_type": "code",
   "execution_count": 22,
   "metadata": {},
   "outputs": [
    {
     "data": {
      "text/plain": [
       "<matplotlib.axes._subplots.AxesSubplot at 0x7fd8331abcf8>"
      ]
     },
     "execution_count": 22,
     "metadata": {},
     "output_type": "execute_result"
    },
    {
     "data": {
      "image/png": "[encoded data removed]",
      "text/plain": [
       "<matplotlib.figure.Figure at 0x7fd855751438>"
      ]
     },
     "metadata": {},
     "output_type": "display_data"
    }
   ],
   "source": [
    "%matplotlib inline\n",
    "data.Difficulty.plot()"
   ]
  },
  {
   "cell_type": "code",
   "execution_count": 5,
   "metadata": {},
   "outputs": [
    {
     "name": "stdout",
     "output_type": "stream",
     "text": [
      "Creating RawArray with float64 data, n_channels=5, n_times=175020\n",
      "    Range : 0 ... 175019 =      0.000 ...   683.668 secs\n",
      "Ready.\n"
     ]
    }
   ],
   "source": [
    "\n",
    "from mne import create_info, concatenate_raws\n",
    "from mne.io import RawArray\n",
    "from mne.channels import read_montage\n",
    "\n",
    "import pandas as pd\n",
    "import numpy as np\n",
    "\n",
    "from glob import glob\n",
    "import seaborn as sns\n",
    "from matplotlib import pyplot as plt\n",
    "\n",
    "\n",
    "sfreq = 256\n",
    "\n",
    "# name of each channels \n",
    "ch_names = ['Perf', 'TP9', 'FP1', 'FP2', 'TP10']\n",
    "\n",
    "# type of each channels\n",
    "ch_types = ['stim'] + ['eeg'] * 4\n",
    "montage = read_montage('standard_1005')\n",
    "\n",
    "# get data and exclude Aux channel\n",
    "data = data.values[:,-5:].T\n",
    "\n",
    "# convert in Volts (from uVolts)\n",
    "data[:-1] *= 1e-6\n",
    "\n",
    "# create mne objects\n",
    "info = create_info(ch_names=ch_names, ch_types=ch_types, sfreq=sfreq, montage=montage)\n",
    "raw = (RawArray(data=data, info=info))"
   ]
  },
  {
   "cell_type": "code",
   "execution_count": 6,
   "metadata": {},
   "outputs": [
    {
     "name": "stdout",
     "output_type": "stream",
     "text": [
      "tmax defaults to 60. in 0.14 but will change to np.inf in 0.15. Set it explicitly to avoid this warning\n",
      "Effective window size : 8.000 (s)\n"
     ]
    },
    {
     "name": "stderr",
     "output_type": "stream",
     "text": [
      "<ipython-input-6-f5fb5df93d8b>:1: DeprecationWarning: tmax defaults to 60. in 0.14 but will change to np.inf in 0.15. Set it explicitly to avoid this warning\n",
      "  raw.plot_psd(picks=[1]);\n",
      "/home/dano/anaconda3/lib/python3.6/site-packages/mne/viz/raw.py:614: DeprecationWarning: In version 0.15 average will default to False and spatial_colors will default to True.\n",
      "  'spatial_colors will default to True.', DeprecationWarning)\n"
     ]
    },
    {
     "data": {
      "image/png": "[encoded data removed]",
      "text/plain": [
       "<matplotlib.figure.Figure at 0x7fd8398bdac8>"
      ]
     },
     "metadata": {},
     "output_type": "display_data"
    }
   ],
   "source": [
    "raw.plot_psd(picks=[1]);"
   ]
  },
  {
   "cell_type": "code",
   "execution_count": 7,
   "metadata": {},
   "outputs": [
    {
     "name": "stdout",
     "output_type": "stream",
     "text": [
      "Setting up band-pass filter from 8 - 15 Hz\n"
     ]
    },
    {
     "data": {
      "text/plain": [
       "<RawArray  |  None, n_channels x n_times : 5 x 175020 (683.7 sec), ~6.7 MB, data loaded>"
      ]
     },
     "execution_count": 7,
     "metadata": {},
     "output_type": "execute_result"
    }
   ],
   "source": [
    "raw.filter(8, 15, method='iir')"
   ]
  },
  {
   "cell_type": "markdown",
   "metadata": {},
   "source": [
    "## Epochs"
   ]
  },
  {
   "cell_type": "code",
   "execution_count": 25,
   "metadata": {},
   "outputs": [
    {
     "data": {
      "text/plain": [
       "array([38400,     0,     1])"
      ]
     },
     "execution_count": 25,
     "metadata": {},
     "output_type": "execute_result"
    }
   ],
   "source": [
    "event[300]"
   ]
  },
  {
   "cell_type": "code",
   "execution_count": 42,
   "metadata": {},
   "outputs": [
    {
     "name": "stdout",
     "output_type": "stream",
     "text": [
      "280 matching events found\n",
      "0 projection items activated\n",
      "Loading data for 280 events and 1281 original time points ...\n",
      "0 bad epochs dropped\n"
     ]
    },
    {
     "data": {
      "text/plain": [
       "<Epochs  |  n_events : 280 (all good), tmin : 0.0 (s), tmax : 5.0 (s), baseline : (None, 0), ~13.7 MB, data loaded>"
      ]
     },
     "execution_count": 42,
     "metadata": {},
     "output_type": "execute_result"
    }
   ],
   "source": [
    "from mne import make_fixed_length_events, Epochs\n",
    "\n",
    "event = make_fixed_length_events(raw, 1, duration=0.5)\n",
    "\n",
    "epochs = Epochs(raw, event[20:300], tmin=0, tmax=5, preload=True)\n",
    "\n",
    "epochs"
   ]
  },
  {
   "cell_type": "code",
   "execution_count": 43,
   "metadata": {},
   "outputs": [
    {
     "name": "stdout",
     "output_type": "stream",
     "text": [
      "(280, 4, 1281) (280, 1)\n"
     ]
    }
   ],
   "source": [
    "X = epochs.copy().pick_types(eeg=True).get_data()\n",
    "\n",
    "y = epochs.copy().pick_types(eeg=False, stim=True).get_data().mean(axis=2)\n",
    "print(X.shape, y.shape)"
   ]
  },
  {
   "cell_type": "code",
   "execution_count": 44,
   "metadata": {},
   "outputs": [
    {
     "data": {
      "text/plain": [
       "Pipeline(steps=[('covariances', Covariances(estimator='lwf')), ('tangentspace', TangentSpace(metric='riemann', tsupdate=False)), ('linearregression', LinearRegression(copy_X=True, fit_intercept=True, n_jobs=1, normalize=False))])"
      ]
     },
     "execution_count": 44,
     "metadata": {},
     "output_type": "execute_result"
    }
   ],
   "source": [
    "from sklearn.pipeline import make_pipeline\n",
    "from pyriemann.estimation import Covariances, HankelCovariances\n",
    "from pyriemann.tangentspace import TangentSpace\n",
    "from sklearn.linear_model import LinearRegression\n",
    "\n",
    "clf = make_pipeline(Covariances(estimator='lwf'), TangentSpace(), LinearRegression())\n",
    "\n",
    "clf.fit(X, y)"
   ]
  },
  {
   "cell_type": "code",
   "execution_count": 45,
   "metadata": {},
   "outputs": [
    {
     "data": {
      "text/plain": [
       "<matplotlib.legend.Legend at 0x7fd832d00c18>"
      ]
     },
     "execution_count": 45,
     "metadata": {},
     "output_type": "execute_result"
    },
    {
     "data": {
      "image/png": "[encoded data removed]",
      "text/plain": [
       "<matplotlib.figure.Figure at 0x7fd832eea7b8>"
      ]
     },
     "metadata": {},
     "output_type": "display_data"
    }
   ],
   "source": [
    "pr = clf.predict(X)\n",
    "plt.plot(pr)\n",
    "plt.plot(y)\n",
    "plt.legend(['prediction', 'True labels'])"
   ]
  },
  {
   "cell_type": "code",
   "execution_count": 47,
   "metadata": {},
   "outputs": [
    {
     "data": {
      "text/plain": [
       "<matplotlib.legend.Legend at 0x7fd832b730f0>"
      ]
     },
     "execution_count": 47,
     "metadata": {},
     "output_type": "execute_result"
    },
    {
     "data": {
      "image/png": "[encoded data removed]",
      "text/plain": [
       "<matplotlib.figure.Figure at 0x7fd832e16da0>"
      ]
     },
     "metadata": {},
     "output_type": "display_data"
    }
   ],
   "source": [
    "from sklearn.model_selection import cross_val_score, cross_val_predict\n",
    "\n",
    "pr = cross_val_predict(clf, X, y, cv=2)\n",
    "\n",
    "plt.plot(pr)\n",
    "plt.plot(y)\n",
    "plt.legend(['prediction', 'True labels'])"
   ]
  },
  {
   "cell_type": "code",
   "execution_count": 5,
   "metadata": {
    "collapsed": true
   },
   "outputs": [],
   "source": [
    "# Let's get our labels data set first because it's easier. We'll grab every 4th row from the Performance column\n",
    "\n",
    "labels = data['Performance'].iloc[::4]\n",
    "\n",
    "# Then we'll reindex the dataframe\n",
    "\n",
    "labels = labels.reset_index().drop('index', axis=1)\n",
    "\n",
    "# Convert to 1D array for TPOT\n",
    "\n",
    "labels = np.array(labels).ravel()\n"
   ]
  },
  {
   "cell_type": "code",
   "execution_count": 6,
   "metadata": {
    "collapsed": true
   },
   "outputs": [],
   "source": [
    "# Seperate data into 4 dataframes, 1 for each electrode\n",
    "\n",
    "chan1 = data.loc[:,'Channel':'60 hz'].loc[data['Channel'] == 1,].reset_index(drop=True)\n",
    "chan1.columns = np.arange(1000,1061)\n",
    "chan2 = data.loc[:,'Channel':'60 hz'].loc[data['Channel'] == 2,].reset_index(drop=True)\n",
    "chan2.columns = np.arange(2000,2061)\n",
    "chan3 = data.loc[:,'Channel':'60 hz'].loc[data['Channel'] == 3,].reset_index(drop=True)\n",
    "chan3.columns = np.arange(3000,3061)\n",
    "chan4 = data.loc[:,'Channel':'60 hz'].loc[data['Channel'] == 4,].reset_index(drop=True)\n",
    "chan4.columns = np.arange(4000,4061)\n",
    "\n",
    "\n",
    "# Concat all channel-specific dataframes together so that row = 2s epoch\n",
    "# columns = [electrode 1 FFT bins] + [electrode 2 FFT bins] + ...\n",
    "training_data = pd.concat([chan1.iloc[:,1:], chan2.iloc[:,1:], chan3.iloc[:,1:], chan4.iloc[:,1:]], axis=1, join_axes=[chan1.index])"
   ]
  },
  {
   "cell_type": "code",
   "execution_count": 7,
   "metadata": {},
   "outputs": [
    {
     "name": "stdout",
     "output_type": "stream",
     "text": [
      "(338, 240)\n"
     ]
    },
    {
     "data": {
      "text/plain": [
       "(338,)"
      ]
     },
     "execution_count": 7,
     "metadata": {},
     "output_type": "execute_result"
    }
   ],
   "source": [
    "print(training_data.shape)\n",
    "labels.shape\n"
   ]
  },
  {
   "cell_type": "markdown",
   "metadata": {},
   "source": [
    "# Nice!"
   ]
  },
  {
   "cell_type": "code",
   "execution_count": 8,
   "metadata": {},
   "outputs": [
    {
     "name": "stderr",
     "output_type": "stream",
     "text": [
      "/home/dano/anaconda3/lib/python3.6/site-packages/sklearn/cross_validation.py:44: DeprecationWarning: This module was deprecated in version 0.18 in favor of the model_selection module into which all the refactored classes and functions are moved. Also note that the interface of the new CV iterators are different from that of this module. This module will be removed in 0.20.\n",
      "  \"This module will be removed in 0.20.\", DeprecationWarning)\n"
     ]
    },
    {
     "name": "stdout",
     "output_type": "stream",
     "text": [
      "28 operators have been imported by TPOT.\n",
      "_pre_test decorator: _generate: num_test=0 __init__() got an unexpected keyword argument 'max_depth'\n",
      "_pre_test decorator: _generate: num_test=0 __init__() got an unexpected keyword argument 'max_depth'\n",
      "_pre_test decorator: _generate: num_test=0 __init__() got an unexpected keyword argument 'max_depth'\n",
      "_pre_test decorator: _generate: num_test=1 __init__() got an unexpected keyword argument 'max_depth'\n",
      "_pre_test decorator: _generate: num_test=2 Unsupported set of arguments: The combination of penalty='l2' and loss='epsilon_insensitive' are not supported when dual=False, Parameters: penalty='l2', loss='epsilon_insensitive', dual=False\n",
      "_pre_test decorator: _generate: num_test=0 Found array with 0 feature(s) (shape=(50, 0)) while a minimum of 1 is required.\n"
     ]
    },
    {
     "name": "stderr",
     "output_type": "stream",
     "text": [
      "\r",
      "Optimization Progress:   0%|          | 0/330 [00:00<?, ?pipeline/s]"
     ]
    },
    {
     "name": "stdout",
     "output_type": "stream",
     "text": [
      "_pre_test decorator: _generate: num_test=0 Found array with 0 feature(s) (shape=(50, 0)) while a minimum of 1 is required.\n",
      "_pre_test decorator: _generate: num_test=0 __init__() got an unexpected keyword argument 'max_depth'\n",
      "_pre_test decorator: _generate: num_test=0 Found array with 0 feature(s) (shape=(50, 0)) while a minimum of 1 is required.\n"
     ]
    },
    {
     "name": "stderr",
     "output_type": "stream",
     "text": [
      "Optimization Progress:   9%|▉         | 30/330 [04:08<29:48,  5.96s/pipeline]  \r"
     ]
    },
    {
     "name": "stdout",
     "output_type": "stream",
     "text": [
      "_pre_test decorator: _random_mutation_operator: num_test=0 Found array with 0 feature(s) (shape=(50, 0)) while a minimum of 1 is required.\n",
      "_pre_test decorator: _random_mutation_operator: num_test=1 Found array with 0 feature(s) (shape=(50, 0)) while a minimum of 1 is required.\n"
     ]
    },
    {
     "name": "stderr",
     "output_type": "stream",
     "text": [
      "          \r",
      "\r",
      "          \r",
      "Optimization Progress:   9%|▉         | 30/330 [04:08<29:48,  5.96s/pipeline]\r",
      "          \r",
      "\r",
      "          \r",
      "Optimization Progress:   9%|▉         | 30/330 [04:08<29:48,  5.96s/pipeline]\r",
      "          \r",
      "\r",
      "          \r",
      "Optimization Progress:   9%|▉         | 30/330 [04:09<29:48,  5.96s/pipeline]\r",
      "          "
     ]
    },
    {
     "name": "stdout",
     "output_type": "stream",
     "text": [
      "_pre_test decorator: _random_mutation_operator: num_test=2 Found array with 0 feature(s) (shape=(50, 0)) while a minimum of 1 is required.\n",
      "_pre_test decorator: _random_mutation_operator: num_test=3 Found array with 0 feature(s) (shape=(50, 0)) while a minimum of 1 is required.\n",
      "_pre_test decorator: _random_mutation_operator: num_test=4 Found array with 0 feature(s) (shape=(50, 0)) while a minimum of 1 is required.\n"
     ]
    },
    {
     "name": "stderr",
     "output_type": "stream",
     "text": [
      "\r",
      "\r",
      "          \r",
      "Optimization Progress:   9%|▉         | 30/330 [04:09<29:48,  5.96s/pipeline]\r",
      "          \r",
      "\r",
      "          \r",
      "Optimization Progress:   9%|▉         | 30/330 [04:09<29:48,  5.96s/pipeline]\r",
      "          \r",
      "\r",
      "          \r",
      "Optimization Progress:   9%|▉         | 30/330 [04:15<29:48,  5.96s/pipeline]\r",
      "          \r",
      "\r",
      "          \r",
      "Optimization Progress:   9%|▉         | 30/330 [04:15<29:48,  5.96s/pipeline]\r",
      "          \r",
      "\r",
      "          \r",
      "Optimization Progress:   9%|▉         | 30/330 [04:15<29:48,  5.96s/pipeline]\r",
      "          \r",
      "\r",
      "          \r",
      "Optimization Progress:   9%|▉         | 30/330 [04:15<29:48,  5.96s/pipeline]"
     ]
    },
    {
     "name": "stdout",
     "output_type": "stream",
     "text": [
      "_pre_test decorator: _random_mutation_operator: num_test=0 Expected n_neighbors <= n_samples,  but n_samples = 50, n_neighbors = 72\n",
      "_pre_test decorator: _random_mutation_operator: num_test=1 Expected n_neighbors <= n_samples,  but n_samples = 50, n_neighbors = 72\n",
      "_pre_test decorator: _random_mutation_operator: num_test=0 Found array with 0 feature(s) (shape=(50, 0)) while a minimum of 1 is required.\n",
      "_pre_test decorator: _random_mutation_operator: num_test=1 Found array with 0 feature(s) (shape=(50, 0)) while a minimum of 1 is required.\n",
      "_pre_test decorator: _random_mutation_operator: num_test=2 Found array with 0 feature(s) (shape=(50, 0)) while a minimum of 1 is required.\n",
      "_pre_test decorator: _random_mutation_operator: num_test=3 b'[16:11:16] src/tree/updater_colmaker.cc:161: Check failed: (n) > (0) colsample_bytree=1 is too small that no feature can be included'\n"
     ]
    },
    {
     "name": "stderr",
     "output_type": "stream",
     "text": [
      "Optimization Progress:   9%|▉         | 31/330 [04:16<27:17,  5.48s/pipeline]"
     ]
    },
    {
     "name": "stdout",
     "output_type": "stream",
     "text": [
      "Pipeline encountered that has previously been evaluated during the optimization process. Using the score from the previous evaluation.\n"
     ]
    },
    {
     "name": "stderr",
     "output_type": "stream",
     "text": [
      "Optimization Progress:  18%|█▊        | 59/330 [06:17<18:20,  4.06s/pipeline]"
     ]
    },
    {
     "name": "stdout",
     "output_type": "stream",
     "text": [
      "Generation 1 - Current Pareto front scores:\n",
      "1\t406.2644278849401\tKNeighborsRegressor(input_matrix, KNeighborsRegressor__n_neighbors=65, KNeighborsRegressor__p=DEFAULT, KNeighborsRegressor__weights=DEFAULT)\n",
      "2\t398.90744129335917\tKNeighborsRegressor(MaxAbsScaler(input_matrix), KNeighborsRegressor__n_neighbors=65, KNeighborsRegressor__p=1, KNeighborsRegressor__weights=DEFAULT)\n",
      "\n"
     ]
    },
    {
     "name": "stderr",
     "output_type": "stream",
     "text": [
      "\r",
      "          \r",
      "\r",
      "          \r",
      "Optimization Progress:  18%|█▊        | 59/330 [06:23<18:20,  4.06s/pipeline]\r",
      "          \r",
      "\r",
      "          \r",
      "Optimization Progress:  18%|█▊        | 59/330 [06:23<18:20,  4.06s/pipeline]\r",
      "          \r",
      "\r",
      "          \r",
      "Optimization Progress:  18%|█▊        | 59/330 [06:23<18:20,  4.06s/pipeline]"
     ]
    },
    {
     "name": "stdout",
     "output_type": "stream",
     "text": [
      "_pre_test decorator: _random_mutation_operator: num_test=0 Found array with 0 feature(s) (shape=(50, 0)) while a minimum of 1 is required.\n",
      "_pre_test decorator: _random_mutation_operator: num_test=1 Found array with 0 feature(s) (shape=(50, 0)) while a minimum of 1 is required.\n",
      "_pre_test decorator: _random_mutation_operator: num_test=2 Found array with 0 feature(s) (shape=(50, 0)) while a minimum of 1 is required.\n"
     ]
    },
    {
     "name": "stderr",
     "output_type": "stream",
     "text": [
      "Optimization Progress:  20%|█▉        | 65/330 [06:31<17:16,  3.91s/pipeline]"
     ]
    },
    {
     "name": "stdout",
     "output_type": "stream",
     "text": [
      "Pipeline encountered that has previously been evaluated during the optimization process. Using the score from the previous evaluation.\n",
      "Pipeline encountered that has previously been evaluated during the optimization process. Using the score from the previous evaluation.\n",
      "Pipeline encountered that has previously been evaluated during the optimization process. Using the score from the previous evaluation.\n",
      "Pipeline encountered that has previously been evaluated during the optimization process. Using the score from the previous evaluation.\n",
      "Pipeline encountered that has previously been evaluated during the optimization process. Using the score from the previous evaluation.\n"
     ]
    },
    {
     "name": "stderr",
     "output_type": "stream",
     "text": [
      "Optimization Progress:  27%|██▋       | 89/330 [08:05<17:19,  4.31s/pipeline]"
     ]
    },
    {
     "name": "stdout",
     "output_type": "stream",
     "text": [
      "Generation 2 - Current Pareto front scores:\n",
      "1\t406.2644278849401\tKNeighborsRegressor(input_matrix, KNeighborsRegressor__n_neighbors=65, KNeighborsRegressor__p=DEFAULT, KNeighborsRegressor__weights=DEFAULT)\n",
      "2\t396.70984202431094\tRandomForestRegressor(Normalizer(input_matrix, Normalizer__norm=DEFAULT), RandomForestRegressor__bootstrap=False, RandomForestRegressor__max_features=0.2, RandomForestRegressor__min_samples_leaf=14, RandomForestRegressor__min_samples_split=6, RandomForestRegressor__n_estimators=100)\n",
      "\n",
      "_pre_test decorator: _random_mutation_operator: num_test=0 Expected n_neighbors <= n_samples,  but n_samples = 50, n_neighbors = 65\n",
      "_pre_test decorator: _random_mutation_operator: num_test=1 Expected n_neighbors <= n_samples,  but n_samples = 50, n_neighbors = 65\n",
      "_pre_test decorator: _random_mutation_operator: num_test=2 Expected n_neighbors <= n_samples,  but n_samples = 50, n_neighbors = 65\n",
      "_pre_test decorator: _random_mutation_operator: num_test=3 Expected n_neighbors <= n_samples,  but n_samples = 50, n_neighbors = 65\n",
      "_pre_test decorator: _random_mutation_operator: num_test=4 Expected n_neighbors <= n_samples,  but n_samples = 50, n_neighbors = 65\n"
     ]
    },
    {
     "name": "stderr",
     "output_type": "stream",
     "text": [
      "\r",
      "          \r",
      "\r",
      "          \r",
      "Optimization Progress:  27%|██▋       | 89/330 [08:06<17:19,  4.31s/pipeline]\r",
      "          \r",
      "\r",
      "          \r",
      "Optimization Progress:  27%|██▋       | 89/330 [08:06<17:19,  4.31s/pipeline]"
     ]
    },
    {
     "name": "stdout",
     "output_type": "stream",
     "text": [
      "_pre_test decorator: _random_mutation_operator: num_test=0 Found array with 0 feature(s) (shape=(50, 0)) while a minimum of 1 is required.\n",
      "_pre_test decorator: _random_mutation_operator: num_test=1 Found array with 0 feature(s) (shape=(50, 0)) while a minimum of 1 is required.\n"
     ]
    },
    {
     "name": "stderr",
     "output_type": "stream",
     "text": [
      "\r",
      "          \r",
      "\r",
      "          \r",
      "Optimization Progress:  27%|██▋       | 89/330 [08:06<17:19,  4.31s/pipeline]"
     ]
    },
    {
     "name": "stdout",
     "output_type": "stream",
     "text": [
      "_pre_test decorator: _random_mutation_operator: num_test=2 Found array with 0 feature(s) (shape=(50, 0)) while a minimum of 1 is required.\n"
     ]
    },
    {
     "name": "stderr",
     "output_type": "stream",
     "text": [
      "Optimization Progress:  28%|██▊       | 92/330 [08:11<14:35,  3.68s/pipeline]"
     ]
    },
    {
     "name": "stdout",
     "output_type": "stream",
     "text": [
      "_pre_test decorator: _random_mutation_operator: num_test=0 __init__() got an unexpected keyword argument 'max_depth'\n",
      "_pre_test decorator: _random_mutation_operator: num_test=1 __init__() got an unexpected keyword argument 'max_depth'\n",
      "_pre_test decorator: _random_mutation_operator: num_test=2 __init__() got an unexpected keyword argument 'max_depth'\n",
      "_pre_test decorator: _random_mutation_operator: num_test=3 __init__() got an unexpected keyword argument 'max_depth'\n",
      "_pre_test decorator: _random_mutation_operator: num_test=4 __init__() got an unexpected keyword argument 'max_depth'\n",
      "_pre_test decorator: _random_mutation_operator: num_test=5 __init__() got an unexpected keyword argument 'max_depth'\n",
      "_pre_test decorator: _random_mutation_operator: num_test=6 __init__() got an unexpected keyword argument 'max_depth'\n",
      "_pre_test decorator: _random_mutation_operator: num_test=7 __init__() got an unexpected keyword argument 'max_depth'\n",
      "_pre_test decorator: _random_mutation_operator: num_test=8 __init__() got an unexpected keyword argument 'max_depth'\n",
      "_pre_test decorator: _random_mutation_operator: num_test=9 __init__() got an unexpected keyword argument 'max_depth'\n",
      "Pipeline encountered that has previously been evaluated during the optimization process. Using the score from the previous evaluation.\n",
      "Pipeline encountered that has previously been evaluated during the optimization process. Using the score from the previous evaluation.\n",
      "Pipeline encountered that has previously been evaluated during the optimization process. Using the score from the previous evaluation.\n"
     ]
    },
    {
     "name": "stderr",
     "output_type": "stream",
     "text": [
      "Optimization Progress:  36%|███▌      | 118/330 [09:35<11:59,  3.39s/pipeline]"
     ]
    },
    {
     "name": "stdout",
     "output_type": "stream",
     "text": [
      "Generation 3 - Current Pareto front scores:\n",
      "1\t406.2644278849401\tKNeighborsRegressor(input_matrix, KNeighborsRegressor__n_neighbors=65, KNeighborsRegressor__p=DEFAULT, KNeighborsRegressor__weights=DEFAULT)\n",
      "2\t375.3292896161379\tKNeighborsRegressor(Normalizer(input_matrix, Normalizer__norm=l1), KNeighborsRegressor__n_neighbors=26, KNeighborsRegressor__p=2, KNeighborsRegressor__weights=DEFAULT)\n",
      "\n"
     ]
    },
    {
     "name": "stderr",
     "output_type": "stream",
     "text": [
      "\r",
      "          \r",
      "\r",
      "          \r",
      "Optimization Progress:  36%|███▌      | 118/330 [09:36<11:59,  3.39s/pipeline]\r",
      "          \r",
      "\r",
      "          \r",
      "Optimization Progress:  36%|███▌      | 118/330 [09:36<11:59,  3.39s/pipeline]\r",
      "          \r",
      "\r",
      "          \r",
      "Optimization Progress:  36%|███▌      | 118/330 [09:36<11:59,  3.39s/pipeline]\r",
      "          \r",
      "\r",
      "          \r",
      "Optimization Progress:  36%|███▌      | 118/330 [09:36<11:59,  3.39s/pipeline]"
     ]
    },
    {
     "name": "stdout",
     "output_type": "stream",
     "text": [
      "_pre_test decorator: _random_mutation_operator: num_test=0 __init__() got an unexpected keyword argument 'max_depth'\n",
      "_pre_test decorator: _random_mutation_operator: num_test=1 __init__() got an unexpected keyword argument 'max_depth'\n",
      "_pre_test decorator: _random_mutation_operator: num_test=2 __init__() got an unexpected keyword argument 'max_depth'\n",
      "_pre_test decorator: _random_mutation_operator: num_test=3 __init__() got an unexpected keyword argument 'max_depth'\n"
     ]
    },
    {
     "name": "stderr",
     "output_type": "stream",
     "text": [
      "          on Progress:  36%|███▌      | 119/330 [09:37<08:41,  2.47s/pipeline]"
     ]
    },
    {
     "name": "stdout",
     "output_type": "stream",
     "text": [
      "_pre_test decorator: _random_mutation_operator: num_test=0 Automatic alpha grid generation is not supported for l1_ratio=0. Please supply a grid by providing your estimator with the appropriate `alphas=` argument.\n",
      "_pre_test decorator: _random_mutation_operator: num_test=1 Automatic alpha grid generation is not supported for l1_ratio=0. Please supply a grid by providing your estimator with the appropriate `alphas=` argument.\n",
      "_pre_test decorator: _random_mutation_operator: num_test=2 Automatic alpha grid generation is not supported for l1_ratio=0. Please supply a grid by providing your estimator with the appropriate `alphas=` argument.\n",
      "_pre_test decorator: _random_mutation_operator: num_test=3 Automatic alpha grid generation is not supported for l1_ratio=0. Please supply a grid by providing your estimator with the appropriate `alphas=` argument.\n",
      "_pre_test decorator: _random_mutation_operator: num_test=4 Automatic alpha grid generation is not supported for l1_ratio=0. Please supply a grid by providing your estimator with the appropriate `alphas=` argument.\n",
      "_pre_test decorator: _random_mutation_operator: num_test=5 Automatic alpha grid generation is not supported for l1_ratio=0. Please supply a grid by providing your estimator with the appropriate `alphas=` argument.\n",
      "_pre_test decorator: _random_mutation_operator: num_test=6 Automatic alpha grid generation is not supported for l1_ratio=0. Please supply a grid by providing your estimator with the appropriate `alphas=` argument.\n",
      "_pre_test decorator: _random_mutation_operator: num_test=7 Automatic alpha grid generation is not supported for l1_ratio=0. Please supply a grid by providing your estimator with the appropriate `alphas=` argument.\n",
      "_pre_test decorator: _random_mutation_operator: num_test=0 Found array with 0 feature(s) (shape=(50, 0)) while a minimum of 1 is required.\n",
      "_pre_test decorator: _random_mutation_operator: num_test=1 Found array with 0 feature(s) (shape=(50, 0)) while a minimum of 1 is required.\n",
      "_pre_test decorator: _random_mutation_operator: num_test=2 Found array with 0 feature(s) (shape=(50, 0)) while a minimum of 1 is required.\n",
      "Pipeline encountered that has previously been evaluated during the optimization process. Using the score from the previous evaluation.\n",
      "Pipeline encountered that has previously been evaluated during the optimization process. Using the score from the previous evaluation.\n"
     ]
    },
    {
     "name": "stderr",
     "output_type": "stream",
     "text": [
      "Optimization Progress:  45%|████▍     | 148/330 [10:05<03:54,  1.29s/pipeline]"
     ]
    },
    {
     "name": "stdout",
     "output_type": "stream",
     "text": [
      "Pipeline encountered that has previously been evaluated during the optimization process. Using the score from the previous evaluation.\n",
      "Pipeline encountered that has previously been evaluated during the optimization process. Using the score from the previous evaluation.\n",
      "Generation 4 - Current Pareto front scores:\n",
      "1\t406.2644278849401\tKNeighborsRegressor(input_matrix, KNeighborsRegressor__n_neighbors=65, KNeighborsRegressor__p=DEFAULT, KNeighborsRegressor__weights=DEFAULT)\n",
      "2\t375.3292896161379\tKNeighborsRegressor(Normalizer(input_matrix, Normalizer__norm=l1), KNeighborsRegressor__n_neighbors=26, KNeighborsRegressor__p=2, KNeighborsRegressor__weights=DEFAULT)\n",
      "\n"
     ]
    },
    {
     "name": "stderr",
     "output_type": "stream",
     "text": [
      "\r",
      "          \r",
      "\r",
      "          \r",
      "Optimization Progress:  45%|████▍     | 148/330 [10:05<03:54,  1.29s/pipeline]\r",
      "          \r",
      "\r",
      "          \r",
      "Optimization Progress:  45%|████▍     | 148/330 [10:05<03:54,  1.29s/pipeline]\r",
      "          \r",
      "\r",
      "          \r",
      "Optimization Progress:  45%|████▍     | 148/330 [10:05<03:54,  1.29s/pipeline]\r",
      "          \r",
      "\r",
      "          \r",
      "Optimization Progress:  45%|████▍     | 148/330 [10:05<03:54,  1.29s/pipeline]\r",
      "          \r",
      "\r",
      "          \r",
      "Optimization Progress:  45%|████▍     | 148/330 [10:05<03:54,  1.29s/pipeline]\r",
      "          \r",
      "\r",
      "          \r",
      "Optimization Progress:  45%|████▍     | 148/330 [10:05<03:54,  1.29s/pipeline]\r",
      "          \r",
      "\r",
      "          \r",
      "Optimization Progress:  45%|████▍     | 148/330 [10:05<03:54,  1.29s/pipeline]\r",
      "          \r",
      "\r",
      "          \r",
      "Optimization Progress:  45%|████▍     | 148/330 [10:05<03:54,  1.29s/pipeline]\r",
      "          \r",
      "\r",
      "          \r",
      "Optimization Progress:  45%|████▍     | 148/330 [10:05<03:54,  1.29s/pipeline]\r",
      "          \r",
      "\r",
      "          \r",
      "Optimization Progress:  45%|████▍     | 148/330 [10:05<03:54,  1.29s/pipeline]\r",
      "          \r",
      "\r",
      "          \r",
      "Optimization Progress:  45%|████▍     | 148/330 [10:05<03:54,  1.29s/pipeline]\r",
      "          \r",
      "\r",
      "          \r",
      "Optimization Progress:  45%|████▍     | 148/330 [10:05<03:54,  1.29s/pipeline]\r",
      "          \r",
      "\r",
      "          \r",
      "Optimization Progress:  45%|████▍     | 148/330 [10:05<03:54,  1.29s/pipeline]\r",
      "          \r",
      "\r",
      "          \r",
      "Optimization Progress:  45%|████▍     | 148/330 [10:05<03:54,  1.29s/pipeline]\r",
      "          \r",
      "\r",
      "          \r",
      "Optimization Progress:  45%|████▍     | 148/330 [10:05<03:54,  1.29s/pipeline]\r",
      "          \r",
      "\r",
      "          \r",
      "Optimization Progress:  45%|████▍     | 148/330 [10:05<03:54,  1.29s/pipeline]\r",
      "          \r",
      "\r",
      "          \r",
      "Optimization Progress:  45%|████▍     | 148/330 [10:05<03:54,  1.29s/pipeline]\r",
      "          \r",
      "\r",
      "          \r",
      "Optimization Progress:  45%|████▍     | 148/330 [10:05<03:54,  1.29s/pipeline]\r",
      "          \r",
      "\r",
      "          \r",
      "Optimization Progress:  45%|████▍     | 148/330 [10:05<03:54,  1.29s/pipeline]\r",
      "          \r",
      "\r",
      "          \r",
      "Optimization Progress:  45%|████▍     | 148/330 [10:05<03:54,  1.29s/pipeline]"
     ]
    },
    {
     "name": "stdout",
     "output_type": "stream",
     "text": [
      "_pre_test decorator: _random_mutation_operator: num_test=0 __init__() got an unexpected keyword argument 'max_depth'\n",
      "_pre_test decorator: _random_mutation_operator: num_test=1 __init__() got an unexpected keyword argument 'max_depth'\n",
      "_pre_test decorator: _random_mutation_operator: num_test=2 __init__() got an unexpected keyword argument 'max_depth'\n",
      "_pre_test decorator: _random_mutation_operator: num_test=3 __init__() got an unexpected keyword argument 'max_depth'\n",
      "_pre_test decorator: _random_mutation_operator: num_test=4 __init__() got an unexpected keyword argument 'max_depth'\n",
      "_pre_test decorator: _random_mutation_operator: num_test=5 __init__() got an unexpected keyword argument 'max_depth'\n",
      "_pre_test decorator: _random_mutation_operator: num_test=6 __init__() got an unexpected keyword argument 'max_depth'\n",
      "_pre_test decorator: _random_mutation_operator: num_test=7 __init__() got an unexpected keyword argument 'max_depth'\n",
      "_pre_test decorator: _random_mutation_operator: num_test=8 __init__() got an unexpected keyword argument 'max_depth'\n",
      "_pre_test decorator: _random_mutation_operator: num_test=9 __init__() got an unexpected keyword argument 'max_depth'\n",
      "_pre_test decorator: _random_mutation_operator: num_test=0 __init__() got an unexpected keyword argument 'max_depth'\n",
      "_pre_test decorator: _random_mutation_operator: num_test=1 __init__() got an unexpected keyword argument 'max_depth'\n",
      "_pre_test decorator: _random_mutation_operator: num_test=2 __init__() got an unexpected keyword argument 'max_depth'\n",
      "_pre_test decorator: _random_mutation_operator: num_test=3 __init__() got an unexpected keyword argument 'max_depth'\n",
      "_pre_test decorator: _random_mutation_operator: num_test=4 __init__() got an unexpected keyword argument 'max_depth'\n",
      "_pre_test decorator: _random_mutation_operator: num_test=5 __init__() got an unexpected keyword argument 'max_depth'\n",
      "_pre_test decorator: _random_mutation_operator: num_test=6 __init__() got an unexpected keyword argument 'max_depth'\n",
      "_pre_test decorator: _random_mutation_operator: num_test=7 __init__() got an unexpected keyword argument 'max_depth'\n",
      "_pre_test decorator: _random_mutation_operator: num_test=8 __init__() got an unexpected keyword argument 'max_depth'\n",
      "_pre_test decorator: _random_mutation_operator: num_test=9 __init__() got an unexpected keyword argument 'max_depth'\n"
     ]
    },
    {
     "name": "stderr",
     "output_type": "stream",
     "text": [
      "Optimization Progress:  47%|████▋     | 154/330 [10:06<02:50,  1.03pipeline/s]"
     ]
    },
    {
     "name": "stdout",
     "output_type": "stream",
     "text": [
      "Pipeline encountered that has previously been evaluated during the optimization process. Using the score from the previous evaluation.\n",
      "Pipeline encountered that has previously been evaluated during the optimization process. Using the score from the previous evaluation.\n",
      "Pipeline encountered that has previously been evaluated during the optimization process. Using the score from the previous evaluation.\n",
      "Pipeline encountered that has previously been evaluated during the optimization process. Using the score from the previous evaluation.\n",
      "Pipeline encountered that has previously been evaluated during the optimization process. Using the score from the previous evaluation.\n"
     ]
    },
    {
     "name": "stderr",
     "output_type": "stream",
     "text": [
      "Optimization Progress:  53%|█████▎    | 176/330 [11:11<04:28,  1.74s/pipeline]"
     ]
    },
    {
     "name": "stdout",
     "output_type": "stream",
     "text": [
      "Generation 5 - Current Pareto front scores:\n",
      "1\t405.63061664041146\tKNeighborsRegressor(input_matrix, KNeighborsRegressor__n_neighbors=83, KNeighborsRegressor__p=DEFAULT, KNeighborsRegressor__weights=distance)\n",
      "2\t375.3292896161379\tKNeighborsRegressor(Normalizer(input_matrix, Normalizer__norm=l1), KNeighborsRegressor__n_neighbors=26, KNeighborsRegressor__p=2, KNeighborsRegressor__weights=DEFAULT)\n",
      "\n"
     ]
    },
    {
     "name": "stderr",
     "output_type": "stream",
     "text": [
      "Optimization Progress:  55%|█████▍    | 181/330 [11:12<03:48,  1.53s/pipeline]"
     ]
    },
    {
     "name": "stdout",
     "output_type": "stream",
     "text": [
      "Pipeline encountered that has previously been evaluated during the optimization process. Using the score from the previous evaluation.\n",
      "Pipeline encountered that has previously been evaluated during the optimization process. Using the score from the previous evaluation.\n",
      "Pipeline encountered that has previously been evaluated during the optimization process. Using the score from the previous evaluation.\n",
      "Pipeline encountered that has previously been evaluated during the optimization process. Using the score from the previous evaluation.\n",
      "Pipeline encountered that has previously been evaluated during the optimization process. Using the score from the previous evaluation.\n"
     ]
    },
    {
     "name": "stderr",
     "output_type": "stream",
     "text": [
      "Optimization Progress:  56%|█████▌    | 184/330 [29:16<2:14:32, 55.29s/pipeline]"
     ]
    },
    {
     "name": "stdout",
     "output_type": "stream",
     "text": [
      "Skipped pipeline #184 due to time out. Continuing to the next pipeline.\n"
     ]
    },
    {
     "name": "stderr",
     "output_type": "stream",
     "text": [
      "Optimization Progress:  61%|██████    | 200/330 [29:22<29:12, 13.48s/pipeline]  "
     ]
    },
    {
     "name": "stdout",
     "output_type": "stream",
     "text": [
      "Generation 6 - Current Pareto front scores:\n",
      "1\t405.4596058814028\tKNeighborsRegressor(input_matrix, KNeighborsRegressor__n_neighbors=81, KNeighborsRegressor__p=DEFAULT, KNeighborsRegressor__weights=DEFAULT)\n",
      "2\t375.3292896161379\tKNeighborsRegressor(Normalizer(input_matrix, Normalizer__norm=l1), KNeighborsRegressor__n_neighbors=26, KNeighborsRegressor__p=2, KNeighborsRegressor__weights=DEFAULT)\n",
      "\n"
     ]
    },
    {
     "name": "stderr",
     "output_type": "stream",
     "text": [
      "\r",
      "          \r",
      "\r",
      "          \r",
      "Optimization Progress:  61%|██████    | 200/330 [29:22<29:12, 13.48s/pipeline]"
     ]
    },
    {
     "name": "stdout",
     "output_type": "stream",
     "text": [
      "_pre_test decorator: _random_mutation_operator: num_test=0 Found array with 0 feature(s) (shape=(50, 0)) while a minimum of 1 is required.\n"
     ]
    },
    {
     "name": "stderr",
     "output_type": "stream",
     "text": [
      "\r",
      "          \r",
      "\r",
      "          \r",
      "Optimization Progress:  61%|██████    | 200/330 [29:22<29:12, 13.48s/pipeline]\r",
      "          \r",
      "\r",
      "          \r",
      "Optimization Progress:  61%|██████    | 200/330 [29:22<29:12, 13.48s/pipeline]\r",
      "          \r",
      "\r",
      "          \r",
      "Optimization Progress:  61%|██████    | 200/330 [29:22<29:12, 13.48s/pipeline]\r",
      "          \r",
      "\r",
      "          \r",
      "Optimization Progress:  61%|██████    | 200/330 [29:22<29:12, 13.48s/pipeline]\r",
      "          \r",
      "\r",
      "          \r",
      "Optimization Progress:  61%|██████    | 200/330 [29:22<29:12, 13.48s/pipeline]\r",
      "          \r",
      "\r",
      "          \r",
      "Optimization Progress:  61%|██████    | 200/330 [29:22<29:12, 13.48s/pipeline]\r",
      "          \r",
      "\r",
      "          \r",
      "Optimization Progress:  61%|██████    | 200/330 [29:22<29:12, 13.48s/pipeline]\r",
      "          \r",
      "\r",
      "          \r",
      "Optimization Progress:  61%|██████    | 200/330 [29:22<29:12, 13.48s/pipeline]\r",
      "          \r",
      "\r",
      "          \r",
      "Optimization Progress:  61%|██████    | 200/330 [29:22<29:12, 13.48s/pipeline]\r",
      "          \r",
      "\r",
      "          \r",
      "Optimization Progress:  61%|██████    | 200/330 [29:22<29:12, 13.48s/pipeline]"
     ]
    },
    {
     "name": "stdout",
     "output_type": "stream",
     "text": [
      "_pre_test decorator: _random_mutation_operator: num_test=0 __init__() got an unexpected keyword argument 'max_depth'\n",
      "_pre_test decorator: _random_mutation_operator: num_test=1 __init__() got an unexpected keyword argument 'max_depth'\n",
      "_pre_test decorator: _random_mutation_operator: num_test=2 __init__() got an unexpected keyword argument 'max_depth'\n",
      "_pre_test decorator: _random_mutation_operator: num_test=3 __init__() got an unexpected keyword argument 'max_depth'\n",
      "_pre_test decorator: _random_mutation_operator: num_test=4 __init__() got an unexpected keyword argument 'max_depth'\n",
      "_pre_test decorator: _random_mutation_operator: num_test=5 __init__() got an unexpected keyword argument 'max_depth'\n",
      "_pre_test decorator: _random_mutation_operator: num_test=6 __init__() got an unexpected keyword argument 'max_depth'\n",
      "_pre_test decorator: _random_mutation_operator: num_test=7 __init__() got an unexpected keyword argument 'max_depth'\n",
      "_pre_test decorator: _random_mutation_operator: num_test=8 __init__() got an unexpected keyword argument 'max_depth'\n",
      "_pre_test decorator: _random_mutation_operator: num_test=9 __init__() got an unexpected keyword argument 'max_depth'\n"
     ]
    },
    {
     "name": "stderr",
     "output_type": "stream",
     "text": [
      "Optimization Progress:  62%|██████▏   | 206/330 [29:23<20:05,  9.72s/pipeline]"
     ]
    },
    {
     "name": "stdout",
     "output_type": "stream",
     "text": [
      "_pre_test decorator: _random_mutation_operator: num_test=0 Expected n_neighbors <= n_samples,  but n_samples = 50, n_neighbors = 95\n",
      "_pre_test decorator: _random_mutation_operator: num_test=1 Expected n_neighbors <= n_samples,  but n_samples = 50, n_neighbors = 95\n",
      "Pipeline encountered that has previously been evaluated during the optimization process. Using the score from the previous evaluation.\n",
      "Pipeline encountered that has previously been evaluated during the optimization process. Using the score from the previous evaluation.\n",
      "Pipeline encountered that has previously been evaluated during the optimization process. Using the score from the previous evaluation.\n",
      "Pipeline encountered that has previously been evaluated during the optimization process. Using the score from the previous evaluation.\n",
      "Pipeline encountered that has previously been evaluated during the optimization process. Using the score from the previous evaluation.\n",
      "Pipeline encountered that has previously been evaluated during the optimization process. Using the score from the previous evaluation.\n"
     ]
    },
    {
     "name": "stderr",
     "output_type": "stream",
     "text": [
      "Optimization Progress:  70%|██████▉   | 230/330 [30:12<04:16,  2.57s/pipeline]"
     ]
    },
    {
     "name": "stdout",
     "output_type": "stream",
     "text": [
      "Generation 7 - Current Pareto front scores:\n",
      "1\t405.4596058814028\tKNeighborsRegressor(input_matrix, KNeighborsRegressor__n_neighbors=81, KNeighborsRegressor__p=DEFAULT, KNeighborsRegressor__weights=DEFAULT)\n",
      "2\t375.3292896161379\tKNeighborsRegressor(Normalizer(input_matrix, Normalizer__norm=l1), KNeighborsRegressor__n_neighbors=26, KNeighborsRegressor__p=2, KNeighborsRegressor__weights=DEFAULT)\n",
      "\n"
     ]
    },
    {
     "name": "stderr",
     "output_type": "stream",
     "text": [
      "Optimization Progress:  73%|███████▎  | 240/330 [30:12<02:44,  1.83s/pipeline]"
     ]
    },
    {
     "name": "stdout",
     "output_type": "stream",
     "text": [
      "Pipeline encountered that has previously been evaluated during the optimization process. Using the score from the previous evaluation.\n",
      "Pipeline encountered that has previously been evaluated during the optimization process. Using the score from the previous evaluation.\n",
      "Pipeline encountered that has previously been evaluated during the optimization process. Using the score from the previous evaluation.\n",
      "Pipeline encountered that has previously been evaluated during the optimization process. Using the score from the previous evaluation.\n",
      "Pipeline encountered that has previously been evaluated during the optimization process. Using the score from the previous evaluation.\n",
      "Pipeline encountered that has previously been evaluated during the optimization process. Using the score from the previous evaluation.\n",
      "Pipeline encountered that has previously been evaluated during the optimization process. Using the score from the previous evaluation.\n",
      "Pipeline encountered that has previously been evaluated during the optimization process. Using the score from the previous evaluation.\n",
      "Pipeline encountered that has previously been evaluated during the optimization process. Using the score from the previous evaluation.\n"
     ]
    },
    {
     "name": "stderr",
     "output_type": "stream",
     "text": [
      "Optimization Progress:  80%|███████▉  | 263/330 [30:24<00:46,  1.44pipeline/s]"
     ]
    },
    {
     "name": "stdout",
     "output_type": "stream",
     "text": [
      "Generation 8 - Current Pareto front scores:\n",
      "1\t405.4596058814028\tKNeighborsRegressor(input_matrix, KNeighborsRegressor__n_neighbors=81, KNeighborsRegressor__p=DEFAULT, KNeighborsRegressor__weights=DEFAULT)\n",
      "2\t375.3292896161379\tKNeighborsRegressor(Normalizer(input_matrix, Normalizer__norm=l1), KNeighborsRegressor__n_neighbors=26, KNeighborsRegressor__p=2, KNeighborsRegressor__weights=DEFAULT)\n",
      "\n",
      "_pre_test decorator: _random_mutation_operator: num_test=0 Found array with 0 feature(s) (shape=(50, 0)) while a minimum of 1 is required.\n",
      "_pre_test decorator: _random_mutation_operator: num_test=1 Found array with 0 feature(s) (shape=(50, 0)) while a minimum of 1 is required.\n",
      "_pre_test decorator: _random_mutation_operator: num_test=2 Found array with 0 feature(s) (shape=(50, 0)) while a minimum of 1 is required.\n",
      "_pre_test decorator: _random_mutation_operator: num_test=3 Found array with 0 feature(s) (shape=(50, 0)) while a minimum of 1 is required.\n",
      "_pre_test decorator: _random_mutation_operator: num_test=4 Found array with 0 feature(s) (shape=(50, 0)) while a minimum of 1 is required.\n",
      "Pipeline encountered that has previously been evaluated during the optimization process. Using the score from the previous evaluation.\n",
      "Pipeline encountered that has previously been evaluated during the optimization process. Using the score from the previous evaluation.\n",
      "Pipeline encountered that has previously been evaluated during the optimization process. Using the score from the previous evaluation.\n",
      "Pipeline encountered that has previously been evaluated during the optimization process. Using the score from the previous evaluation.\n",
      "Pipeline encountered that has previously been evaluated during the optimization process. Using the score from the previous evaluation.\n",
      "Pipeline encountered that has previously been evaluated during the optimization process. Using the score from the previous evaluation.\n",
      "Pipeline encountered that has previously been evaluated during the optimization process. Using the score from the previous evaluation.\n",
      "Pipeline encountered that has previously been evaluated during the optimization process. Using the score from the previous evaluation.\n"
     ]
    },
    {
     "name": "stderr",
     "output_type": "stream",
     "text": [
      "Optimization Progress:  85%|████████▌ | 282/330 [30:26<00:08,  5.77pipeline/s]"
     ]
    },
    {
     "name": "stdout",
     "output_type": "stream",
     "text": [
      "Generation 9 - Current Pareto front scores:\n",
      "1\t402.8218201267898\tKNeighborsRegressor(input_matrix, KNeighborsRegressor__n_neighbors=73, KNeighborsRegressor__p=DEFAULT, KNeighborsRegressor__weights=uniform)\n",
      "2\t375.3292896161379\tKNeighborsRegressor(Normalizer(input_matrix, Normalizer__norm=l1), KNeighborsRegressor__n_neighbors=26, KNeighborsRegressor__p=2, KNeighborsRegressor__weights=DEFAULT)\n",
      "\n"
     ]
    },
    {
     "name": "stderr",
     "output_type": "stream",
     "text": [
      "Optimization Progress:  87%|████████▋ | 286/330 [30:26<00:07,  5.83pipeline/s]"
     ]
    },
    {
     "name": "stdout",
     "output_type": "stream",
     "text": [
      "_pre_test decorator: _random_mutation_operator: num_test=0 Unsupported set of arguments: The combination of penalty='l2' and loss='epsilon_insensitive' are not supported when dual=False, Parameters: penalty='l2', loss='epsilon_insensitive', dual=False\n",
      "_pre_test decorator: _random_mutation_operator: num_test=1 Unsupported set of arguments: The combination of penalty='l2' and loss='epsilon_insensitive' are not supported when dual=False, Parameters: penalty='l2', loss='epsilon_insensitive', dual=False\n",
      "_pre_test decorator: _random_mutation_operator: num_test=2 Unsupported set of arguments: The combination of penalty='l2' and loss='epsilon_insensitive' are not supported when dual=False, Parameters: penalty='l2', loss='epsilon_insensitive', dual=False\n",
      "_pre_test decorator: _random_mutation_operator: num_test=3 Unsupported set of arguments: The combination of penalty='l2' and loss='epsilon_insensitive' are not supported when dual=False, Parameters: penalty='l2', loss='epsilon_insensitive', dual=False\n",
      "Pipeline encountered that has previously been evaluated during the optimization process. Using the score from the previous evaluation.\n",
      "Pipeline encountered that has previously been evaluated during the optimization process. Using the score from the previous evaluation.\n",
      "Pipeline encountered that has previously been evaluated during the optimization process. Using the score from the previous evaluation.\n",
      "Pipeline encountered that has previously been evaluated during the optimization process. Using the score from the previous evaluation.\n",
      "Pipeline encountered that has previously been evaluated during the optimization process. Using the score from the previous evaluation.\n"
     ]
    },
    {
     "name": "stderr",
     "output_type": "stream",
     "text": [
      "                                                                              "
     ]
    },
    {
     "name": "stdout",
     "output_type": "stream",
     "text": [
      "Generation 10 - Current Pareto front scores:\n",
      "1\t402.8218201267898\tKNeighborsRegressor(input_matrix, KNeighborsRegressor__n_neighbors=73, KNeighborsRegressor__p=DEFAULT, KNeighborsRegressor__weights=uniform)\n",
      "2\t375.3292896161379\tKNeighborsRegressor(Normalizer(input_matrix, Normalizer__norm=l1), KNeighborsRegressor__n_neighbors=26, KNeighborsRegressor__p=2, KNeighborsRegressor__weights=DEFAULT)\n",
      "\n",
      "299.158905501\n"
     ]
    },
    {
     "name": "stderr",
     "output_type": "stream",
     "text": [
      "\r"
     ]
    }
   ],
   "source": [
    "# Create a TPOTClassifier that will run for 10 generations\n",
    "\n",
    "pipeline_optimizer = TPOTRegressor(generations=10, population_size=30, cv=5,\n",
    "                                    random_state=42, verbosity=3) \n",
    "\n",
    "# Fit this baby! Takes a long time to run\n",
    "\n",
    "pipeline_optimizer.fit(training_data, labels)  \n",
    "  \n",
    "# See what kind of score we get\n",
    "print(pipeline_optimizer.score(training_data, labels))"
   ]
  },
  {
   "cell_type": "code",
   "execution_count": 9,
   "metadata": {
    "collapsed": true
   },
   "outputs": [],
   "source": [
    "pipeline_optimizer.export('tpot_exported_pipeline4.py')"
   ]
  },
  {
   "cell_type": "code",
   "execution_count": 21,
   "metadata": {},
   "outputs": [
    {
     "name": "stdout",
     "output_type": "stream",
     "text": [
      "17.296210726644947\n"
     ]
    }
   ],
   "source": [
    "print(sqrt(pipeline_optimizer.score(training_data, labels)))"
   ]
  },
  {
   "cell_type": "markdown",
   "metadata": {
    "collapsed": true
   },
   "source": [
    "##### Split values and labels arrays into random train and test subsets (20% set aside for testing)\n",
    "X_train, X_test, y_train, y_test = train_test_split(training_data,labels,test_size=0.2)"
   ]
  },
  {
   "cell_type": "code",
   "execution_count": 22,
   "metadata": {},
   "outputs": [
    {
     "name": "stdout",
     "output_type": "stream",
     "text": [
      "9.899494936611665\n"
     ]
    }
   ],
   "source": [
    "print(sqrt(98))"
   ]
  },
  {
   "cell_type": "code",
   "execution_count": null,
   "metadata": {
    "collapsed": true
   },
   "outputs": [],
   "source": []
  }
 ],
 "metadata": {
  "kernelspec": {
   "display_name": "Python 3",
   "language": "python",
   "name": "python3"
  },
  "language_info": {
   "codemirror_mode": {
    "name": "ipython",
    "version": 3
   },
   "file_extension": ".py",
   "mimetype": "text/x-python",
   "name": "python",
   "nbconvert_exporter": "python",
   "pygments_lexer": "ipython3",
   "version": "3.6.1"
  }
 },
 "nbformat": 4,
 "nbformat_minor": 2
}
